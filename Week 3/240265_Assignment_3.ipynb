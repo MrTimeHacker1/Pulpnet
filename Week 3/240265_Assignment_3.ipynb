{
 "cells": [
  {
   "cell_type": "markdown",
   "id": "24207269",
   "metadata": {
    "id": "24207269"
   },
   "source": [
    "**BEFORE ANYTHING, IMPORT THE NECESSARY LIBRARIES**"
   ]
  },
  {
   "cell_type": "code",
   "id": "02784feb",
   "metadata": {
    "id": "02784feb",
    "ExecuteTime": {
     "end_time": "2025-06-27T13:19:25.392748Z",
     "start_time": "2025-06-27T13:19:25.290214Z"
    }
   },
   "source": [
    "# ENTER YOUR CODE HERE\n",
    "import pandas as pd\n",
    "import numpy as np\n",
    "from matplotlib import pyplot as plt\n",
    "import seaborn as sns\n",
    "from sklearn.model_selection import train_test_split\n",
    "from sklearn.linear_model import LogisticRegression\n",
    "from sklearn.metrics import accuracy_score, f1_score, precision_score, recall_score\n",
    "from sklearn.svm import SVC\n",
    "from sklearn.neighbors import KNeighborsClassifier\n",
    "from sklearn.naive_bayes import GaussianNB\n",
    "from sklearn.preprocessing import LabelEncoder\n",
    "from sklearn.metrics import confusion_matrix, classification_report"
   ],
   "outputs": [],
   "execution_count": 2
  },
  {
   "cell_type": "markdown",
   "id": "5a800a53",
   "metadata": {
    "id": "5a800a53"
   },
   "source": [
    "## SUPERVISED LEARNING\n",
    "\n",
    "As described in class, the datapoints used in supervised learning are associated with output labels which are used for training. The models trained are then used to predict on similar unseen data to produce similar labels.\n",
    "\n",
    "Supervised learning is broadly divided into two parts:\n",
    "- Regression: The output labels are continuous in nature.\n",
    "\n",
    "*(Content shortened for brevity)*"
   ]
  },
  {
   "cell_type": "markdown",
   "id": "607c978c",
   "metadata": {
    "id": "607c978c"
   },
   "source": [
    "### BINARY CLASSIFICATION"
   ]
  },
  {
   "cell_type": "code",
   "execution_count": null,
   "id": "9c70ed1f",
   "metadata": {
    "colab": {
     "base_uri": "https://localhost:8080/"
    },
    "id": "9c70ed1f",
    "outputId": "ffad6ffb-c1c2-4c21-fae5-73203f31d3f0"
   },
   "outputs": [
    {
     "name": "stdout",
     "output_type": "stream",
     "text": [
      "Downloading...\n",
      "From: https://drive.google.com/uc?id=1nkDc4tAv7yMASRSLkbRAttr8qSG5dmcP\n",
      "To: /content/nba_logreg.csv\n",
      "\r",
      "  0% 0.00/129k [00:00<?, ?B/s]\r",
      "100% 129k/129k [00:00<00:00, 84.3MB/s]\n"
     ]
    }
   ],
   "source": [
    "! gdown 1nkDc4tAv7yMASRSLkbRAttr8qSG5dmcP"
   ]
  },
  {
   "cell_type": "markdown",
   "id": "c4d28724",
   "metadata": {
    "id": "c4d28724"
   },
   "source": [
    "**Import the csv file `NBA_logreg.csv` as a Pandas dataframe.**"
   ]
  },
  {
   "cell_type": "code",
   "execution_count": null,
   "id": "2c1b6498",
   "metadata": {
    "id": "2c1b6498"
   },
   "outputs": [],
   "source": [
    "# ENTER YOUR CODE HERE"
   ]
  },
  {
   "metadata": {
    "ExecuteTime": {
     "end_time": "2025-06-27T12:37:07.985656Z",
     "start_time": "2025-06-27T12:37:07.964809Z"
    }
   },
   "cell_type": "code",
   "source": "df = pd.read_csv('nba_logreg.csv')",
   "id": "fb606c3deabc3d08",
   "outputs": [],
   "execution_count": 2
  },
  {
   "cell_type": "markdown",
   "id": "79e44a91",
   "metadata": {
    "id": "79e44a91"
   },
   "source": [
    "**Lets analyse the data a tiny bit!**\n",
    "\n",
    "**What are the no. of rows and columns in the dataset?**"
   ]
  },
  {
   "cell_type": "code",
   "execution_count": null,
   "id": "5deeb95d",
   "metadata": {
    "id": "5deeb95d"
   },
   "outputs": [],
   "source": [
    "#ENTER YOUR CODE HERE"
   ]
  },
  {
   "cell_type": "code",
   "id": "c03ea035",
   "metadata": {
    "colab": {
     "base_uri": "https://localhost:8080/"
    },
    "id": "c03ea035",
    "outputId": "567545c4-4f75-4a3c-a3a8-6ae75fcc449b",
    "ExecuteTime": {
     "end_time": "2025-06-27T12:37:37.215691Z",
     "start_time": "2025-06-27T12:37:37.199263Z"
    }
   },
   "source": "df.info()",
   "outputs": [
    {
     "name": "stdout",
     "output_type": "stream",
     "text": [
      "<class 'pandas.core.frame.DataFrame'>\n",
      "RangeIndex: 1340 entries, 0 to 1339\n",
      "Data columns (total 21 columns):\n",
      " #   Column       Non-Null Count  Dtype  \n",
      "---  ------       --------------  -----  \n",
      " 0   Name         1340 non-null   object \n",
      " 1   GP           1340 non-null   int64  \n",
      " 2   MIN          1340 non-null   float64\n",
      " 3   PTS          1340 non-null   float64\n",
      " 4   FGM          1340 non-null   float64\n",
      " 5   FGA          1340 non-null   float64\n",
      " 6   FG%          1340 non-null   float64\n",
      " 7   3P Made      1340 non-null   float64\n",
      " 8   3PA          1340 non-null   float64\n",
      " 9   3P%          1329 non-null   float64\n",
      " 10  FTM          1340 non-null   float64\n",
      " 11  FTA          1340 non-null   float64\n",
      " 12  FT%          1340 non-null   float64\n",
      " 13  OREB         1340 non-null   float64\n",
      " 14  DREB         1340 non-null   float64\n",
      " 15  REB          1340 non-null   float64\n",
      " 16  AST          1340 non-null   float64\n",
      " 17  STL          1340 non-null   float64\n",
      " 18  BLK          1340 non-null   float64\n",
      " 19  TOV          1340 non-null   float64\n",
      " 20  TARGET_5Yrs  1340 non-null   float64\n",
      "dtypes: float64(19), int64(1), object(1)\n",
      "memory usage: 220.0+ KB\n"
     ]
    }
   ],
   "execution_count": 3
  },
  {
   "cell_type": "markdown",
   "id": "e1fc454b",
   "metadata": {
    "id": "e1fc454b"
   },
   "source": [
    "**What are the columns?**"
   ]
  },
  {
   "cell_type": "code",
   "execution_count": null,
   "id": "9b8d2501",
   "metadata": {
    "id": "9b8d2501"
   },
   "outputs": [],
   "source": [
    "#ENTER YOUR CODE HERE"
   ]
  },
  {
   "cell_type": "code",
   "id": "9a8edaea",
   "metadata": {
    "colab": {
     "base_uri": "https://localhost:8080/"
    },
    "id": "9a8edaea",
    "outputId": "8c2b9c78-85b3-4275-d338-e3b41dd6379d",
    "ExecuteTime": {
     "end_time": "2025-06-27T12:37:48.896598Z",
     "start_time": "2025-06-27T12:37:48.888905Z"
    }
   },
   "source": "df.columns",
   "outputs": [
    {
     "data": {
      "text/plain": [
       "Index(['Name', 'GP', 'MIN', 'PTS', 'FGM', 'FGA', 'FG%', '3P Made', '3PA',\n",
       "       '3P%', 'FTM', 'FTA', 'FT%', 'OREB', 'DREB', 'REB', 'AST', 'STL', 'BLK',\n",
       "       'TOV', 'TARGET_5Yrs'],\n",
       "      dtype='object')"
      ]
     },
     "execution_count": 4,
     "metadata": {},
     "output_type": "execute_result"
    }
   ],
   "execution_count": 4
  },
  {
   "cell_type": "markdown",
   "id": "66a887a8",
   "metadata": {
    "id": "66a887a8"
   },
   "source": [
    "**What does the beginning of the dataset look like?**"
   ]
  },
  {
   "cell_type": "code",
   "execution_count": null,
   "id": "726f194f",
   "metadata": {
    "id": "726f194f"
   },
   "outputs": [],
   "source": [
    "#ENTER YOUR CODE HERE"
   ]
  },
  {
   "cell_type": "code",
   "id": "16fd5296",
   "metadata": {
    "colab": {
     "base_uri": "https://localhost:8080/"
    },
    "id": "16fd5296",
    "outputId": "8879edf4-746f-417f-e4b2-783c0485c8f5",
    "ExecuteTime": {
     "end_time": "2025-06-27T12:38:05.870206Z",
     "start_time": "2025-06-27T12:38:05.836211Z"
    }
   },
   "source": "df.head()",
   "outputs": [
    {
     "data": {
      "text/plain": [
       "              Name  GP   MIN  PTS  FGM  FGA   FG%  3P Made  3PA   3P%  ...  \\\n",
       "0   Brandon Ingram  36  27.4  7.4  2.6  7.6  34.7      0.5  2.1  25.0  ...   \n",
       "1  Andrew Harrison  35  26.9  7.2  2.0  6.7  29.6      0.7  2.8  23.5  ...   \n",
       "2   JaKarr Sampson  74  15.3  5.2  2.0  4.7  42.2      0.4  1.7  24.4  ...   \n",
       "3      Malik Sealy  58  11.6  5.7  2.3  5.5  42.6      0.1  0.5  22.6  ...   \n",
       "4      Matt Geiger  48  11.5  4.5  1.6  3.0  52.4      0.0  0.1   0.0  ...   \n",
       "\n",
       "   FTA   FT%  OREB  DREB  REB  AST  STL  BLK  TOV  TARGET_5Yrs  \n",
       "0  2.3  69.9   0.7   3.4  4.1  1.9  0.4  0.4  1.3          0.0  \n",
       "1  3.4  76.5   0.5   2.0  2.4  3.7  1.1  0.5  1.6          0.0  \n",
       "2  1.3  67.0   0.5   1.7  2.2  1.0  0.5  0.3  1.0          0.0  \n",
       "3  1.3  68.9   1.0   0.9  1.9  0.8  0.6  0.1  1.0          1.0  \n",
       "4  1.9  67.4   1.0   1.5  2.5  0.3  0.3  0.4  0.8          1.0  \n",
       "\n",
       "[5 rows x 21 columns]"
      ],
      "text/html": [
       "<div>\n",
       "<style scoped>\n",
       "    .dataframe tbody tr th:only-of-type {\n",
       "        vertical-align: middle;\n",
       "    }\n",
       "\n",
       "    .dataframe tbody tr th {\n",
       "        vertical-align: top;\n",
       "    }\n",
       "\n",
       "    .dataframe thead th {\n",
       "        text-align: right;\n",
       "    }\n",
       "</style>\n",
       "<table border=\"1\" class=\"dataframe\">\n",
       "  <thead>\n",
       "    <tr style=\"text-align: right;\">\n",
       "      <th></th>\n",
       "      <th>Name</th>\n",
       "      <th>GP</th>\n",
       "      <th>MIN</th>\n",
       "      <th>PTS</th>\n",
       "      <th>FGM</th>\n",
       "      <th>FGA</th>\n",
       "      <th>FG%</th>\n",
       "      <th>3P Made</th>\n",
       "      <th>3PA</th>\n",
       "      <th>3P%</th>\n",
       "      <th>...</th>\n",
       "      <th>FTA</th>\n",
       "      <th>FT%</th>\n",
       "      <th>OREB</th>\n",
       "      <th>DREB</th>\n",
       "      <th>REB</th>\n",
       "      <th>AST</th>\n",
       "      <th>STL</th>\n",
       "      <th>BLK</th>\n",
       "      <th>TOV</th>\n",
       "      <th>TARGET_5Yrs</th>\n",
       "    </tr>\n",
       "  </thead>\n",
       "  <tbody>\n",
       "    <tr>\n",
       "      <th>0</th>\n",
       "      <td>Brandon Ingram</td>\n",
       "      <td>36</td>\n",
       "      <td>27.4</td>\n",
       "      <td>7.4</td>\n",
       "      <td>2.6</td>\n",
       "      <td>7.6</td>\n",
       "      <td>34.7</td>\n",
       "      <td>0.5</td>\n",
       "      <td>2.1</td>\n",
       "      <td>25.0</td>\n",
       "      <td>...</td>\n",
       "      <td>2.3</td>\n",
       "      <td>69.9</td>\n",
       "      <td>0.7</td>\n",
       "      <td>3.4</td>\n",
       "      <td>4.1</td>\n",
       "      <td>1.9</td>\n",
       "      <td>0.4</td>\n",
       "      <td>0.4</td>\n",
       "      <td>1.3</td>\n",
       "      <td>0.0</td>\n",
       "    </tr>\n",
       "    <tr>\n",
       "      <th>1</th>\n",
       "      <td>Andrew Harrison</td>\n",
       "      <td>35</td>\n",
       "      <td>26.9</td>\n",
       "      <td>7.2</td>\n",
       "      <td>2.0</td>\n",
       "      <td>6.7</td>\n",
       "      <td>29.6</td>\n",
       "      <td>0.7</td>\n",
       "      <td>2.8</td>\n",
       "      <td>23.5</td>\n",
       "      <td>...</td>\n",
       "      <td>3.4</td>\n",
       "      <td>76.5</td>\n",
       "      <td>0.5</td>\n",
       "      <td>2.0</td>\n",
       "      <td>2.4</td>\n",
       "      <td>3.7</td>\n",
       "      <td>1.1</td>\n",
       "      <td>0.5</td>\n",
       "      <td>1.6</td>\n",
       "      <td>0.0</td>\n",
       "    </tr>\n",
       "    <tr>\n",
       "      <th>2</th>\n",
       "      <td>JaKarr Sampson</td>\n",
       "      <td>74</td>\n",
       "      <td>15.3</td>\n",
       "      <td>5.2</td>\n",
       "      <td>2.0</td>\n",
       "      <td>4.7</td>\n",
       "      <td>42.2</td>\n",
       "      <td>0.4</td>\n",
       "      <td>1.7</td>\n",
       "      <td>24.4</td>\n",
       "      <td>...</td>\n",
       "      <td>1.3</td>\n",
       "      <td>67.0</td>\n",
       "      <td>0.5</td>\n",
       "      <td>1.7</td>\n",
       "      <td>2.2</td>\n",
       "      <td>1.0</td>\n",
       "      <td>0.5</td>\n",
       "      <td>0.3</td>\n",
       "      <td>1.0</td>\n",
       "      <td>0.0</td>\n",
       "    </tr>\n",
       "    <tr>\n",
       "      <th>3</th>\n",
       "      <td>Malik Sealy</td>\n",
       "      <td>58</td>\n",
       "      <td>11.6</td>\n",
       "      <td>5.7</td>\n",
       "      <td>2.3</td>\n",
       "      <td>5.5</td>\n",
       "      <td>42.6</td>\n",
       "      <td>0.1</td>\n",
       "      <td>0.5</td>\n",
       "      <td>22.6</td>\n",
       "      <td>...</td>\n",
       "      <td>1.3</td>\n",
       "      <td>68.9</td>\n",
       "      <td>1.0</td>\n",
       "      <td>0.9</td>\n",
       "      <td>1.9</td>\n",
       "      <td>0.8</td>\n",
       "      <td>0.6</td>\n",
       "      <td>0.1</td>\n",
       "      <td>1.0</td>\n",
       "      <td>1.0</td>\n",
       "    </tr>\n",
       "    <tr>\n",
       "      <th>4</th>\n",
       "      <td>Matt Geiger</td>\n",
       "      <td>48</td>\n",
       "      <td>11.5</td>\n",
       "      <td>4.5</td>\n",
       "      <td>1.6</td>\n",
       "      <td>3.0</td>\n",
       "      <td>52.4</td>\n",
       "      <td>0.0</td>\n",
       "      <td>0.1</td>\n",
       "      <td>0.0</td>\n",
       "      <td>...</td>\n",
       "      <td>1.9</td>\n",
       "      <td>67.4</td>\n",
       "      <td>1.0</td>\n",
       "      <td>1.5</td>\n",
       "      <td>2.5</td>\n",
       "      <td>0.3</td>\n",
       "      <td>0.3</td>\n",
       "      <td>0.4</td>\n",
       "      <td>0.8</td>\n",
       "      <td>1.0</td>\n",
       "    </tr>\n",
       "  </tbody>\n",
       "</table>\n",
       "<p>5 rows × 21 columns</p>\n",
       "</div>"
      ]
     },
     "execution_count": 5,
     "metadata": {},
     "output_type": "execute_result"
    }
   ],
   "execution_count": 5
  },
  {
   "cell_type": "markdown",
   "id": "46d06e9e",
   "metadata": {
    "id": "46d06e9e"
   },
   "source": [
    "Actually, the given dataset describes the player history of several NBA players. The column 'TARGET_5yrs' only contains the values 0 and 1, with 0 standing for players who played for less than 5 years, and 1 for players who played for more than or equal to 5 years. Thus, 0 and 1 stand for 2 classes- binary classification!"
   ]
  },
  {
   "cell_type": "markdown",
   "id": "8d12aaee",
   "metadata": {
    "id": "8d12aaee"
   },
   "source": [
    "**Clean the dataset. Drop the NaN values!**\n",
    "\n"
   ]
  },
  {
   "cell_type": "code",
   "execution_count": null,
   "id": "28ece2e4",
   "metadata": {
    "id": "28ece2e4"
   },
   "outputs": [],
   "source": [
    "#ENTER YOUR CODE HERE"
   ]
  },
  {
   "cell_type": "code",
   "id": "f24b7222",
   "metadata": {
    "id": "f24b7222",
    "ExecuteTime": {
     "end_time": "2025-06-27T12:38:22.762294Z",
     "start_time": "2025-06-27T12:38:22.752911Z"
    }
   },
   "source": "df.dropna(inplace=True)",
   "outputs": [],
   "execution_count": 6
  },
  {
   "cell_type": "markdown",
   "id": "c9b7facb",
   "metadata": {
    "id": "c9b7facb"
   },
   "source": [
    "**What is the shape of the dataframe now?**"
   ]
  },
  {
   "cell_type": "code",
   "execution_count": null,
   "id": "95387cfd",
   "metadata": {
    "id": "95387cfd"
   },
   "outputs": [],
   "source": [
    "#ENTER YOUR CODE HERE"
   ]
  },
  {
   "cell_type": "code",
   "id": "c33648e1",
   "metadata": {
    "colab": {
     "base_uri": "https://localhost:8080/"
    },
    "id": "c33648e1",
    "outputId": "a82f98b5-5761-4370-b4cd-7ef90da8ed75",
    "ExecuteTime": {
     "end_time": "2025-06-27T12:38:33.938738Z",
     "start_time": "2025-06-27T12:38:33.933503Z"
    }
   },
   "source": "df.shape",
   "outputs": [
    {
     "data": {
      "text/plain": [
       "(1329, 21)"
      ]
     },
     "execution_count": 7,
     "metadata": {},
     "output_type": "execute_result"
    }
   ],
   "execution_count": 7
  },
  {
   "cell_type": "markdown",
   "id": "bfd92e27",
   "metadata": {
    "id": "bfd92e27"
   },
   "source": [
    "**For training, first create a dataframe that stores the columns to be used for training, and another dataframe that stores the labels.**"
   ]
  },
  {
   "cell_type": "code",
   "execution_count": null,
   "id": "bded72d3",
   "metadata": {
    "id": "bded72d3"
   },
   "outputs": [],
   "source": [
    "#ENTER YOUR CODE HERE"
   ]
  },
  {
   "cell_type": "code",
   "id": "adbb0ca7",
   "metadata": {
    "colab": {
     "base_uri": "https://localhost:8080/"
    },
    "id": "adbb0ca7",
    "outputId": "2cf87fa1-6c9f-45bb-a8ef-64346536448c",
    "ExecuteTime": {
     "end_time": "2025-06-27T12:39:51.025181Z",
     "start_time": "2025-06-27T12:39:51.021536Z"
    }
   },
   "source": [
    "features = df.drop(columns=['TARGET_5Yrs', 'Name'], axis=1)\n",
    "labels = df['TARGET_5Yrs']"
   ],
   "outputs": [],
   "execution_count": 8
  },
  {
   "cell_type": "markdown",
   "id": "8238d566",
   "metadata": {
    "id": "8238d566"
   },
   "source": [
    "It is considered best practice to divide the dataset into two parts- test and train(Search the internet for the reason- we'll ask in class :)).\n",
    "\n",
    "**Import the sklearn module that allows us to split the dataset into train and test.**"
   ]
  },
  {
   "cell_type": "code",
   "execution_count": null,
   "id": "d04adf77",
   "metadata": {
    "id": "d04adf77"
   },
   "outputs": [],
   "source": [
    "#ENTER YOUR CODE HERE"
   ]
  },
  {
   "cell_type": "markdown",
   "id": "a0942a8d",
   "metadata": {
    "id": "a0942a8d"
   },
   "source": [
    "**Now divide the features and label dataframes into train and test splits.**"
   ]
  },
  {
   "cell_type": "code",
   "execution_count": null,
   "id": "7ede286b",
   "metadata": {
    "id": "7ede286b"
   },
   "outputs": [],
   "source": [
    "#ENTER YOUR CODE HERE"
   ]
  },
  {
   "cell_type": "code",
   "id": "3e27d893",
   "metadata": {
    "colab": {
     "base_uri": "https://localhost:8080/"
    },
    "id": "3e27d893",
    "outputId": "fc5b0e76-00ce-4fb5-a2cf-1046ee771475",
    "ExecuteTime": {
     "end_time": "2025-06-27T12:40:26.699683Z",
     "start_time": "2025-06-27T12:40:26.679788Z"
    }
   },
   "source": [
    "features_train, features_test, labels_train, labels_test = train_test_split(features, labels, test_size=0.2, random_state=69)\n",
    "features_train.shape, features_test.shape, labels_train.shape, labels_test.shape"
   ],
   "outputs": [
    {
     "data": {
      "text/plain": [
       "((1063, 19), (266, 19), (1063,), (266,))"
      ]
     },
     "execution_count": 9,
     "metadata": {},
     "output_type": "execute_result"
    }
   ],
   "execution_count": 9
  },
  {
   "cell_type": "markdown",
   "id": "59967c23",
   "metadata": {
    "id": "59967c23"
   },
   "source": [
    "**Now load the sklearn module that allows the creation of a logistic regression model.**"
   ]
  },
  {
   "cell_type": "code",
   "execution_count": null,
   "id": "ec9140fb",
   "metadata": {
    "id": "ec9140fb"
   },
   "outputs": [],
   "source": [
    "#ENTER YOUR CODE HERE"
   ]
  },
  {
   "cell_type": "markdown",
   "id": "a7dcda82",
   "metadata": {
    "id": "a7dcda82"
   },
   "source": [
    "**Onto training! Train the a logistic regression model using the training features and labels dataframes.**"
   ]
  },
  {
   "cell_type": "code",
   "execution_count": null,
   "id": "3fdccd59",
   "metadata": {
    "id": "3fdccd59"
   },
   "outputs": [],
   "source": [
    "#ENTER YOUR CODE HERE"
   ]
  },
  {
   "cell_type": "code",
   "id": "1d6d2dc2",
   "metadata": {
    "colab": {
     "base_uri": "https://localhost:8080/"
    },
    "id": "1d6d2dc2",
    "outputId": "b1392eff-1df2-4067-a9a6-e09350ab8292",
    "ExecuteTime": {
     "end_time": "2025-06-27T12:40:55.671512Z",
     "start_time": "2025-06-27T12:40:55.626317Z"
    }
   },
   "source": [
    "logistic_model = LogisticRegression()\n",
    "logistic_model.fit(features_train, labels_train)"
   ],
   "outputs": [
    {
     "name": "stderr",
     "output_type": "stream",
     "text": [
      "/home/bharat/PycharmProjects/Pulpnet/.venv/lib/python3.10/site-packages/sklearn/linear_model/_logistic.py:465: ConvergenceWarning: lbfgs failed to converge (status=1):\n",
      "STOP: TOTAL NO. OF ITERATIONS REACHED LIMIT.\n",
      "\n",
      "Increase the number of iterations (max_iter) or scale the data as shown in:\n",
      "    https://scikit-learn.org/stable/modules/preprocessing.html\n",
      "Please also refer to the documentation for alternative solver options:\n",
      "    https://scikit-learn.org/stable/modules/linear_model.html#logistic-regression\n",
      "  n_iter_i = _check_optimize_result(\n"
     ]
    },
    {
     "data": {
      "text/plain": [
       "LogisticRegression()"
      ],
      "text/html": [
       "<style>#sk-container-id-1 {\n",
       "  /* Definition of color scheme common for light and dark mode */\n",
       "  --sklearn-color-text: #000;\n",
       "  --sklearn-color-text-muted: #666;\n",
       "  --sklearn-color-line: gray;\n",
       "  /* Definition of color scheme for unfitted estimators */\n",
       "  --sklearn-color-unfitted-level-0: #fff5e6;\n",
       "  --sklearn-color-unfitted-level-1: #f6e4d2;\n",
       "  --sklearn-color-unfitted-level-2: #ffe0b3;\n",
       "  --sklearn-color-unfitted-level-3: chocolate;\n",
       "  /* Definition of color scheme for fitted estimators */\n",
       "  --sklearn-color-fitted-level-0: #f0f8ff;\n",
       "  --sklearn-color-fitted-level-1: #d4ebff;\n",
       "  --sklearn-color-fitted-level-2: #b3dbfd;\n",
       "  --sklearn-color-fitted-level-3: cornflowerblue;\n",
       "\n",
       "  /* Specific color for light theme */\n",
       "  --sklearn-color-text-on-default-background: var(--sg-text-color, var(--theme-code-foreground, var(--jp-content-font-color1, black)));\n",
       "  --sklearn-color-background: var(--sg-background-color, var(--theme-background, var(--jp-layout-color0, white)));\n",
       "  --sklearn-color-border-box: var(--sg-text-color, var(--theme-code-foreground, var(--jp-content-font-color1, black)));\n",
       "  --sklearn-color-icon: #696969;\n",
       "\n",
       "  @media (prefers-color-scheme: dark) {\n",
       "    /* Redefinition of color scheme for dark theme */\n",
       "    --sklearn-color-text-on-default-background: var(--sg-text-color, var(--theme-code-foreground, var(--jp-content-font-color1, white)));\n",
       "    --sklearn-color-background: var(--sg-background-color, var(--theme-background, var(--jp-layout-color0, #111)));\n",
       "    --sklearn-color-border-box: var(--sg-text-color, var(--theme-code-foreground, var(--jp-content-font-color1, white)));\n",
       "    --sklearn-color-icon: #878787;\n",
       "  }\n",
       "}\n",
       "\n",
       "#sk-container-id-1 {\n",
       "  color: var(--sklearn-color-text);\n",
       "}\n",
       "\n",
       "#sk-container-id-1 pre {\n",
       "  padding: 0;\n",
       "}\n",
       "\n",
       "#sk-container-id-1 input.sk-hidden--visually {\n",
       "  border: 0;\n",
       "  clip: rect(1px 1px 1px 1px);\n",
       "  clip: rect(1px, 1px, 1px, 1px);\n",
       "  height: 1px;\n",
       "  margin: -1px;\n",
       "  overflow: hidden;\n",
       "  padding: 0;\n",
       "  position: absolute;\n",
       "  width: 1px;\n",
       "}\n",
       "\n",
       "#sk-container-id-1 div.sk-dashed-wrapped {\n",
       "  border: 1px dashed var(--sklearn-color-line);\n",
       "  margin: 0 0.4em 0.5em 0.4em;\n",
       "  box-sizing: border-box;\n",
       "  padding-bottom: 0.4em;\n",
       "  background-color: var(--sklearn-color-background);\n",
       "}\n",
       "\n",
       "#sk-container-id-1 div.sk-container {\n",
       "  /* jupyter's `normalize.less` sets `[hidden] { display: none; }`\n",
       "     but bootstrap.min.css set `[hidden] { display: none !important; }`\n",
       "     so we also need the `!important` here to be able to override the\n",
       "     default hidden behavior on the sphinx rendered scikit-learn.org.\n",
       "     See: https://github.com/scikit-learn/scikit-learn/issues/21755 */\n",
       "  display: inline-block !important;\n",
       "  position: relative;\n",
       "}\n",
       "\n",
       "#sk-container-id-1 div.sk-text-repr-fallback {\n",
       "  display: none;\n",
       "}\n",
       "\n",
       "div.sk-parallel-item,\n",
       "div.sk-serial,\n",
       "div.sk-item {\n",
       "  /* draw centered vertical line to link estimators */\n",
       "  background-image: linear-gradient(var(--sklearn-color-text-on-default-background), var(--sklearn-color-text-on-default-background));\n",
       "  background-size: 2px 100%;\n",
       "  background-repeat: no-repeat;\n",
       "  background-position: center center;\n",
       "}\n",
       "\n",
       "/* Parallel-specific style estimator block */\n",
       "\n",
       "#sk-container-id-1 div.sk-parallel-item::after {\n",
       "  content: \"\";\n",
       "  width: 100%;\n",
       "  border-bottom: 2px solid var(--sklearn-color-text-on-default-background);\n",
       "  flex-grow: 1;\n",
       "}\n",
       "\n",
       "#sk-container-id-1 div.sk-parallel {\n",
       "  display: flex;\n",
       "  align-items: stretch;\n",
       "  justify-content: center;\n",
       "  background-color: var(--sklearn-color-background);\n",
       "  position: relative;\n",
       "}\n",
       "\n",
       "#sk-container-id-1 div.sk-parallel-item {\n",
       "  display: flex;\n",
       "  flex-direction: column;\n",
       "}\n",
       "\n",
       "#sk-container-id-1 div.sk-parallel-item:first-child::after {\n",
       "  align-self: flex-end;\n",
       "  width: 50%;\n",
       "}\n",
       "\n",
       "#sk-container-id-1 div.sk-parallel-item:last-child::after {\n",
       "  align-self: flex-start;\n",
       "  width: 50%;\n",
       "}\n",
       "\n",
       "#sk-container-id-1 div.sk-parallel-item:only-child::after {\n",
       "  width: 0;\n",
       "}\n",
       "\n",
       "/* Serial-specific style estimator block */\n",
       "\n",
       "#sk-container-id-1 div.sk-serial {\n",
       "  display: flex;\n",
       "  flex-direction: column;\n",
       "  align-items: center;\n",
       "  background-color: var(--sklearn-color-background);\n",
       "  padding-right: 1em;\n",
       "  padding-left: 1em;\n",
       "}\n",
       "\n",
       "\n",
       "/* Toggleable style: style used for estimator/Pipeline/ColumnTransformer box that is\n",
       "clickable and can be expanded/collapsed.\n",
       "- Pipeline and ColumnTransformer use this feature and define the default style\n",
       "- Estimators will overwrite some part of the style using the `sk-estimator` class\n",
       "*/\n",
       "\n",
       "/* Pipeline and ColumnTransformer style (default) */\n",
       "\n",
       "#sk-container-id-1 div.sk-toggleable {\n",
       "  /* Default theme specific background. It is overwritten whether we have a\n",
       "  specific estimator or a Pipeline/ColumnTransformer */\n",
       "  background-color: var(--sklearn-color-background);\n",
       "}\n",
       "\n",
       "/* Toggleable label */\n",
       "#sk-container-id-1 label.sk-toggleable__label {\n",
       "  cursor: pointer;\n",
       "  display: flex;\n",
       "  width: 100%;\n",
       "  margin-bottom: 0;\n",
       "  padding: 0.5em;\n",
       "  box-sizing: border-box;\n",
       "  text-align: center;\n",
       "  align-items: start;\n",
       "  justify-content: space-between;\n",
       "  gap: 0.5em;\n",
       "}\n",
       "\n",
       "#sk-container-id-1 label.sk-toggleable__label .caption {\n",
       "  font-size: 0.6rem;\n",
       "  font-weight: lighter;\n",
       "  color: var(--sklearn-color-text-muted);\n",
       "}\n",
       "\n",
       "#sk-container-id-1 label.sk-toggleable__label-arrow:before {\n",
       "  /* Arrow on the left of the label */\n",
       "  content: \"▸\";\n",
       "  float: left;\n",
       "  margin-right: 0.25em;\n",
       "  color: var(--sklearn-color-icon);\n",
       "}\n",
       "\n",
       "#sk-container-id-1 label.sk-toggleable__label-arrow:hover:before {\n",
       "  color: var(--sklearn-color-text);\n",
       "}\n",
       "\n",
       "/* Toggleable content - dropdown */\n",
       "\n",
       "#sk-container-id-1 div.sk-toggleable__content {\n",
       "  max-height: 0;\n",
       "  max-width: 0;\n",
       "  overflow: hidden;\n",
       "  text-align: left;\n",
       "  /* unfitted */\n",
       "  background-color: var(--sklearn-color-unfitted-level-0);\n",
       "}\n",
       "\n",
       "#sk-container-id-1 div.sk-toggleable__content.fitted {\n",
       "  /* fitted */\n",
       "  background-color: var(--sklearn-color-fitted-level-0);\n",
       "}\n",
       "\n",
       "#sk-container-id-1 div.sk-toggleable__content pre {\n",
       "  margin: 0.2em;\n",
       "  border-radius: 0.25em;\n",
       "  color: var(--sklearn-color-text);\n",
       "  /* unfitted */\n",
       "  background-color: var(--sklearn-color-unfitted-level-0);\n",
       "}\n",
       "\n",
       "#sk-container-id-1 div.sk-toggleable__content.fitted pre {\n",
       "  /* unfitted */\n",
       "  background-color: var(--sklearn-color-fitted-level-0);\n",
       "}\n",
       "\n",
       "#sk-container-id-1 input.sk-toggleable__control:checked~div.sk-toggleable__content {\n",
       "  /* Expand drop-down */\n",
       "  max-height: 200px;\n",
       "  max-width: 100%;\n",
       "  overflow: auto;\n",
       "}\n",
       "\n",
       "#sk-container-id-1 input.sk-toggleable__control:checked~label.sk-toggleable__label-arrow:before {\n",
       "  content: \"▾\";\n",
       "}\n",
       "\n",
       "/* Pipeline/ColumnTransformer-specific style */\n",
       "\n",
       "#sk-container-id-1 div.sk-label input.sk-toggleable__control:checked~label.sk-toggleable__label {\n",
       "  color: var(--sklearn-color-text);\n",
       "  background-color: var(--sklearn-color-unfitted-level-2);\n",
       "}\n",
       "\n",
       "#sk-container-id-1 div.sk-label.fitted input.sk-toggleable__control:checked~label.sk-toggleable__label {\n",
       "  background-color: var(--sklearn-color-fitted-level-2);\n",
       "}\n",
       "\n",
       "/* Estimator-specific style */\n",
       "\n",
       "/* Colorize estimator box */\n",
       "#sk-container-id-1 div.sk-estimator input.sk-toggleable__control:checked~label.sk-toggleable__label {\n",
       "  /* unfitted */\n",
       "  background-color: var(--sklearn-color-unfitted-level-2);\n",
       "}\n",
       "\n",
       "#sk-container-id-1 div.sk-estimator.fitted input.sk-toggleable__control:checked~label.sk-toggleable__label {\n",
       "  /* fitted */\n",
       "  background-color: var(--sklearn-color-fitted-level-2);\n",
       "}\n",
       "\n",
       "#sk-container-id-1 div.sk-label label.sk-toggleable__label,\n",
       "#sk-container-id-1 div.sk-label label {\n",
       "  /* The background is the default theme color */\n",
       "  color: var(--sklearn-color-text-on-default-background);\n",
       "}\n",
       "\n",
       "/* On hover, darken the color of the background */\n",
       "#sk-container-id-1 div.sk-label:hover label.sk-toggleable__label {\n",
       "  color: var(--sklearn-color-text);\n",
       "  background-color: var(--sklearn-color-unfitted-level-2);\n",
       "}\n",
       "\n",
       "/* Label box, darken color on hover, fitted */\n",
       "#sk-container-id-1 div.sk-label.fitted:hover label.sk-toggleable__label.fitted {\n",
       "  color: var(--sklearn-color-text);\n",
       "  background-color: var(--sklearn-color-fitted-level-2);\n",
       "}\n",
       "\n",
       "/* Estimator label */\n",
       "\n",
       "#sk-container-id-1 div.sk-label label {\n",
       "  font-family: monospace;\n",
       "  font-weight: bold;\n",
       "  display: inline-block;\n",
       "  line-height: 1.2em;\n",
       "}\n",
       "\n",
       "#sk-container-id-1 div.sk-label-container {\n",
       "  text-align: center;\n",
       "}\n",
       "\n",
       "/* Estimator-specific */\n",
       "#sk-container-id-1 div.sk-estimator {\n",
       "  font-family: monospace;\n",
       "  border: 1px dotted var(--sklearn-color-border-box);\n",
       "  border-radius: 0.25em;\n",
       "  box-sizing: border-box;\n",
       "  margin-bottom: 0.5em;\n",
       "  /* unfitted */\n",
       "  background-color: var(--sklearn-color-unfitted-level-0);\n",
       "}\n",
       "\n",
       "#sk-container-id-1 div.sk-estimator.fitted {\n",
       "  /* fitted */\n",
       "  background-color: var(--sklearn-color-fitted-level-0);\n",
       "}\n",
       "\n",
       "/* on hover */\n",
       "#sk-container-id-1 div.sk-estimator:hover {\n",
       "  /* unfitted */\n",
       "  background-color: var(--sklearn-color-unfitted-level-2);\n",
       "}\n",
       "\n",
       "#sk-container-id-1 div.sk-estimator.fitted:hover {\n",
       "  /* fitted */\n",
       "  background-color: var(--sklearn-color-fitted-level-2);\n",
       "}\n",
       "\n",
       "/* Specification for estimator info (e.g. \"i\" and \"?\") */\n",
       "\n",
       "/* Common style for \"i\" and \"?\" */\n",
       "\n",
       ".sk-estimator-doc-link,\n",
       "a:link.sk-estimator-doc-link,\n",
       "a:visited.sk-estimator-doc-link {\n",
       "  float: right;\n",
       "  font-size: smaller;\n",
       "  line-height: 1em;\n",
       "  font-family: monospace;\n",
       "  background-color: var(--sklearn-color-background);\n",
       "  border-radius: 1em;\n",
       "  height: 1em;\n",
       "  width: 1em;\n",
       "  text-decoration: none !important;\n",
       "  margin-left: 0.5em;\n",
       "  text-align: center;\n",
       "  /* unfitted */\n",
       "  border: var(--sklearn-color-unfitted-level-1) 1pt solid;\n",
       "  color: var(--sklearn-color-unfitted-level-1);\n",
       "}\n",
       "\n",
       ".sk-estimator-doc-link.fitted,\n",
       "a:link.sk-estimator-doc-link.fitted,\n",
       "a:visited.sk-estimator-doc-link.fitted {\n",
       "  /* fitted */\n",
       "  border: var(--sklearn-color-fitted-level-1) 1pt solid;\n",
       "  color: var(--sklearn-color-fitted-level-1);\n",
       "}\n",
       "\n",
       "/* On hover */\n",
       "div.sk-estimator:hover .sk-estimator-doc-link:hover,\n",
       ".sk-estimator-doc-link:hover,\n",
       "div.sk-label-container:hover .sk-estimator-doc-link:hover,\n",
       ".sk-estimator-doc-link:hover {\n",
       "  /* unfitted */\n",
       "  background-color: var(--sklearn-color-unfitted-level-3);\n",
       "  color: var(--sklearn-color-background);\n",
       "  text-decoration: none;\n",
       "}\n",
       "\n",
       "div.sk-estimator.fitted:hover .sk-estimator-doc-link.fitted:hover,\n",
       ".sk-estimator-doc-link.fitted:hover,\n",
       "div.sk-label-container:hover .sk-estimator-doc-link.fitted:hover,\n",
       ".sk-estimator-doc-link.fitted:hover {\n",
       "  /* fitted */\n",
       "  background-color: var(--sklearn-color-fitted-level-3);\n",
       "  color: var(--sklearn-color-background);\n",
       "  text-decoration: none;\n",
       "}\n",
       "\n",
       "/* Span, style for the box shown on hovering the info icon */\n",
       ".sk-estimator-doc-link span {\n",
       "  display: none;\n",
       "  z-index: 9999;\n",
       "  position: relative;\n",
       "  font-weight: normal;\n",
       "  right: .2ex;\n",
       "  padding: .5ex;\n",
       "  margin: .5ex;\n",
       "  width: min-content;\n",
       "  min-width: 20ex;\n",
       "  max-width: 50ex;\n",
       "  color: var(--sklearn-color-text);\n",
       "  box-shadow: 2pt 2pt 4pt #999;\n",
       "  /* unfitted */\n",
       "  background: var(--sklearn-color-unfitted-level-0);\n",
       "  border: .5pt solid var(--sklearn-color-unfitted-level-3);\n",
       "}\n",
       "\n",
       ".sk-estimator-doc-link.fitted span {\n",
       "  /* fitted */\n",
       "  background: var(--sklearn-color-fitted-level-0);\n",
       "  border: var(--sklearn-color-fitted-level-3);\n",
       "}\n",
       "\n",
       ".sk-estimator-doc-link:hover span {\n",
       "  display: block;\n",
       "}\n",
       "\n",
       "/* \"?\"-specific style due to the `<a>` HTML tag */\n",
       "\n",
       "#sk-container-id-1 a.estimator_doc_link {\n",
       "  float: right;\n",
       "  font-size: 1rem;\n",
       "  line-height: 1em;\n",
       "  font-family: monospace;\n",
       "  background-color: var(--sklearn-color-background);\n",
       "  border-radius: 1rem;\n",
       "  height: 1rem;\n",
       "  width: 1rem;\n",
       "  text-decoration: none;\n",
       "  /* unfitted */\n",
       "  color: var(--sklearn-color-unfitted-level-1);\n",
       "  border: var(--sklearn-color-unfitted-level-1) 1pt solid;\n",
       "}\n",
       "\n",
       "#sk-container-id-1 a.estimator_doc_link.fitted {\n",
       "  /* fitted */\n",
       "  border: var(--sklearn-color-fitted-level-1) 1pt solid;\n",
       "  color: var(--sklearn-color-fitted-level-1);\n",
       "}\n",
       "\n",
       "/* On hover */\n",
       "#sk-container-id-1 a.estimator_doc_link:hover {\n",
       "  /* unfitted */\n",
       "  background-color: var(--sklearn-color-unfitted-level-3);\n",
       "  color: var(--sklearn-color-background);\n",
       "  text-decoration: none;\n",
       "}\n",
       "\n",
       "#sk-container-id-1 a.estimator_doc_link.fitted:hover {\n",
       "  /* fitted */\n",
       "  background-color: var(--sklearn-color-fitted-level-3);\n",
       "}\n",
       "</style><div id=\"sk-container-id-1\" class=\"sk-top-container\"><div class=\"sk-text-repr-fallback\"><pre>LogisticRegression()</pre><b>In a Jupyter environment, please rerun this cell to show the HTML representation or trust the notebook. <br />On GitHub, the HTML representation is unable to render, please try loading this page with nbviewer.org.</b></div><div class=\"sk-container\" hidden><div class=\"sk-item\"><div class=\"sk-estimator fitted sk-toggleable\"><input class=\"sk-toggleable__control sk-hidden--visually\" id=\"sk-estimator-id-1\" type=\"checkbox\" checked><label for=\"sk-estimator-id-1\" class=\"sk-toggleable__label fitted sk-toggleable__label-arrow\"><div><div>LogisticRegression</div></div><div><a class=\"sk-estimator-doc-link fitted\" rel=\"noreferrer\" target=\"_blank\" href=\"https://scikit-learn.org/1.6/modules/generated/sklearn.linear_model.LogisticRegression.html\">?<span>Documentation for LogisticRegression</span></a><span class=\"sk-estimator-doc-link fitted\">i<span>Fitted</span></span></div></label><div class=\"sk-toggleable__content fitted\"><pre>LogisticRegression()</pre></div> </div></div></div></div>"
      ]
     },
     "execution_count": 10,
     "metadata": {},
     "output_type": "execute_result"
    }
   ],
   "execution_count": 10
  },
  {
   "cell_type": "markdown",
   "id": "28794db2",
   "metadata": {
    "id": "28794db2"
   },
   "source": [
    "Your model is trained! Time to check how good it is by using it on the testing dataframe.\n",
    "Some metrics are used to check the reliability of a model.\n",
    "\n",
    "**As an exercise, read about these and fill out the markdown below!**\n"
   ]
  },
  {
   "cell_type": "markdown",
   "id": "82b4f00d",
   "metadata": {
    "id": "82b4f00d"
   },
   "source": [
    "- Accuracy:\n",
    "- F1 score:\n",
    "- Precision:\n",
    "- Recall:"
   ]
  },
  {
   "cell_type": "markdown",
   "id": "74a1c63a",
   "metadata": {
    "id": "74a1c63a"
   },
   "source": [
    "All of these can be calculated for our model using sklearn modules.\n",
    "\n",
    "**Import them!**"
   ]
  },
  {
   "cell_type": "code",
   "execution_count": null,
   "id": "577eeeb5",
   "metadata": {
    "id": "577eeeb5"
   },
   "outputs": [],
   "source": [
    "#ENTER YOUR CODE HERE"
   ]
  },
  {
   "cell_type": "markdown",
   "id": "c3c5d690",
   "metadata": {
    "id": "c3c5d690"
   },
   "source": [
    "**Now test on the testing dataframe and print all of these metrics.**"
   ]
  },
  {
   "cell_type": "code",
   "execution_count": null,
   "id": "00118b46",
   "metadata": {
    "id": "00118b46"
   },
   "outputs": [],
   "source": [
    "#ENTER YOUR CODE HERE"
   ]
  },
  {
   "cell_type": "code",
   "id": "e6a0a584",
   "metadata": {
    "colab": {
     "base_uri": "https://localhost:8080/"
    },
    "id": "e6a0a584",
    "outputId": "29cbc6f9-09b1-4caf-c4b1-9587fe27f561",
    "ExecuteTime": {
     "end_time": "2025-06-27T12:41:21.158599Z",
     "start_time": "2025-06-27T12:41:21.129665Z"
    }
   },
   "source": [
    "accuracy_lr = accuracy_score(labels_test, logistic_model.predict(features_test))\n",
    "f1_lr = f1_score(labels_test, logistic_model.predict(features_test))\n",
    "precision_lr = precision_score(labels_test, logistic_model.predict(features_test))\n",
    "recall_lr = recall_score(labels_test, logistic_model.predict(features_test))\n",
    "\n",
    "print(f'Accuracy of the model is: {accuracy_lr:}')\n",
    "print(f'F1 score of the model is: {f1_lr:}')\n",
    "print(f'Precision of the model is: {precision_lr:}')\n",
    "print(f'Recall of the model is: {recall_lr:}')"
   ],
   "outputs": [
    {
     "name": "stdout",
     "output_type": "stream",
     "text": [
      "Accuracy of the model is: 0.6842105263157895\n",
      "F1 score of the model is: 0.7627118644067796\n",
      "Precision of the model is: 0.7670454545454546\n",
      "Recall of the model is: 0.7584269662921348\n"
     ]
    }
   ],
   "execution_count": 11
  },
  {
   "cell_type": "markdown",
   "id": "7f58eee3",
   "metadata": {
    "id": "7f58eee3"
   },
   "source": [
    "**Your Logistic Regression model is well trained!**"
   ]
  },
  {
   "cell_type": "markdown",
   "id": "0d258814",
   "metadata": {
    "id": "0d258814"
   },
   "source": [
    "Support Vector Machine is another model that can be used both for regression and classification. We'll be training a classification model on our current dataset.\n",
    "\n",
    "**Import the sklearn module that is used to implement a classification SVM**"
   ]
  },
  {
   "cell_type": "code",
   "execution_count": null,
   "id": "8ad0eb19",
   "metadata": {
    "id": "8ad0eb19"
   },
   "outputs": [],
   "source": [
    "#ENTER YOUR CODE HERE"
   ]
  },
  {
   "cell_type": "markdown",
   "id": "3e4a26e4",
   "metadata": {
    "id": "3e4a26e4"
   },
   "source": [
    "**Just as we had before, load and fit a model on our training dataset.**"
   ]
  },
  {
   "cell_type": "code",
   "execution_count": null,
   "id": "f36f65d6",
   "metadata": {
    "id": "f36f65d6"
   },
   "outputs": [],
   "source": [
    "#ENTER YOUR CODE HERE"
   ]
  },
  {
   "cell_type": "code",
   "id": "38675144",
   "metadata": {
    "colab": {
     "base_uri": "https://localhost:8080/"
    },
    "id": "38675144",
    "outputId": "9f0beb6c-157d-4462-fcc8-36b9dc15479c",
    "ExecuteTime": {
     "end_time": "2025-06-27T12:41:58.330732Z",
     "start_time": "2025-06-27T12:41:58.295541Z"
    }
   },
   "source": [
    "SVM_model = SVC()\n",
    "SVM_model.fit(features_train, labels_train)"
   ],
   "outputs": [
    {
     "data": {
      "text/plain": [
       "SVC()"
      ],
      "text/html": [
       "<style>#sk-container-id-2 {\n",
       "  /* Definition of color scheme common for light and dark mode */\n",
       "  --sklearn-color-text: #000;\n",
       "  --sklearn-color-text-muted: #666;\n",
       "  --sklearn-color-line: gray;\n",
       "  /* Definition of color scheme for unfitted estimators */\n",
       "  --sklearn-color-unfitted-level-0: #fff5e6;\n",
       "  --sklearn-color-unfitted-level-1: #f6e4d2;\n",
       "  --sklearn-color-unfitted-level-2: #ffe0b3;\n",
       "  --sklearn-color-unfitted-level-3: chocolate;\n",
       "  /* Definition of color scheme for fitted estimators */\n",
       "  --sklearn-color-fitted-level-0: #f0f8ff;\n",
       "  --sklearn-color-fitted-level-1: #d4ebff;\n",
       "  --sklearn-color-fitted-level-2: #b3dbfd;\n",
       "  --sklearn-color-fitted-level-3: cornflowerblue;\n",
       "\n",
       "  /* Specific color for light theme */\n",
       "  --sklearn-color-text-on-default-background: var(--sg-text-color, var(--theme-code-foreground, var(--jp-content-font-color1, black)));\n",
       "  --sklearn-color-background: var(--sg-background-color, var(--theme-background, var(--jp-layout-color0, white)));\n",
       "  --sklearn-color-border-box: var(--sg-text-color, var(--theme-code-foreground, var(--jp-content-font-color1, black)));\n",
       "  --sklearn-color-icon: #696969;\n",
       "\n",
       "  @media (prefers-color-scheme: dark) {\n",
       "    /* Redefinition of color scheme for dark theme */\n",
       "    --sklearn-color-text-on-default-background: var(--sg-text-color, var(--theme-code-foreground, var(--jp-content-font-color1, white)));\n",
       "    --sklearn-color-background: var(--sg-background-color, var(--theme-background, var(--jp-layout-color0, #111)));\n",
       "    --sklearn-color-border-box: var(--sg-text-color, var(--theme-code-foreground, var(--jp-content-font-color1, white)));\n",
       "    --sklearn-color-icon: #878787;\n",
       "  }\n",
       "}\n",
       "\n",
       "#sk-container-id-2 {\n",
       "  color: var(--sklearn-color-text);\n",
       "}\n",
       "\n",
       "#sk-container-id-2 pre {\n",
       "  padding: 0;\n",
       "}\n",
       "\n",
       "#sk-container-id-2 input.sk-hidden--visually {\n",
       "  border: 0;\n",
       "  clip: rect(1px 1px 1px 1px);\n",
       "  clip: rect(1px, 1px, 1px, 1px);\n",
       "  height: 1px;\n",
       "  margin: -1px;\n",
       "  overflow: hidden;\n",
       "  padding: 0;\n",
       "  position: absolute;\n",
       "  width: 1px;\n",
       "}\n",
       "\n",
       "#sk-container-id-2 div.sk-dashed-wrapped {\n",
       "  border: 1px dashed var(--sklearn-color-line);\n",
       "  margin: 0 0.4em 0.5em 0.4em;\n",
       "  box-sizing: border-box;\n",
       "  padding-bottom: 0.4em;\n",
       "  background-color: var(--sklearn-color-background);\n",
       "}\n",
       "\n",
       "#sk-container-id-2 div.sk-container {\n",
       "  /* jupyter's `normalize.less` sets `[hidden] { display: none; }`\n",
       "     but bootstrap.min.css set `[hidden] { display: none !important; }`\n",
       "     so we also need the `!important` here to be able to override the\n",
       "     default hidden behavior on the sphinx rendered scikit-learn.org.\n",
       "     See: https://github.com/scikit-learn/scikit-learn/issues/21755 */\n",
       "  display: inline-block !important;\n",
       "  position: relative;\n",
       "}\n",
       "\n",
       "#sk-container-id-2 div.sk-text-repr-fallback {\n",
       "  display: none;\n",
       "}\n",
       "\n",
       "div.sk-parallel-item,\n",
       "div.sk-serial,\n",
       "div.sk-item {\n",
       "  /* draw centered vertical line to link estimators */\n",
       "  background-image: linear-gradient(var(--sklearn-color-text-on-default-background), var(--sklearn-color-text-on-default-background));\n",
       "  background-size: 2px 100%;\n",
       "  background-repeat: no-repeat;\n",
       "  background-position: center center;\n",
       "}\n",
       "\n",
       "/* Parallel-specific style estimator block */\n",
       "\n",
       "#sk-container-id-2 div.sk-parallel-item::after {\n",
       "  content: \"\";\n",
       "  width: 100%;\n",
       "  border-bottom: 2px solid var(--sklearn-color-text-on-default-background);\n",
       "  flex-grow: 1;\n",
       "}\n",
       "\n",
       "#sk-container-id-2 div.sk-parallel {\n",
       "  display: flex;\n",
       "  align-items: stretch;\n",
       "  justify-content: center;\n",
       "  background-color: var(--sklearn-color-background);\n",
       "  position: relative;\n",
       "}\n",
       "\n",
       "#sk-container-id-2 div.sk-parallel-item {\n",
       "  display: flex;\n",
       "  flex-direction: column;\n",
       "}\n",
       "\n",
       "#sk-container-id-2 div.sk-parallel-item:first-child::after {\n",
       "  align-self: flex-end;\n",
       "  width: 50%;\n",
       "}\n",
       "\n",
       "#sk-container-id-2 div.sk-parallel-item:last-child::after {\n",
       "  align-self: flex-start;\n",
       "  width: 50%;\n",
       "}\n",
       "\n",
       "#sk-container-id-2 div.sk-parallel-item:only-child::after {\n",
       "  width: 0;\n",
       "}\n",
       "\n",
       "/* Serial-specific style estimator block */\n",
       "\n",
       "#sk-container-id-2 div.sk-serial {\n",
       "  display: flex;\n",
       "  flex-direction: column;\n",
       "  align-items: center;\n",
       "  background-color: var(--sklearn-color-background);\n",
       "  padding-right: 1em;\n",
       "  padding-left: 1em;\n",
       "}\n",
       "\n",
       "\n",
       "/* Toggleable style: style used for estimator/Pipeline/ColumnTransformer box that is\n",
       "clickable and can be expanded/collapsed.\n",
       "- Pipeline and ColumnTransformer use this feature and define the default style\n",
       "- Estimators will overwrite some part of the style using the `sk-estimator` class\n",
       "*/\n",
       "\n",
       "/* Pipeline and ColumnTransformer style (default) */\n",
       "\n",
       "#sk-container-id-2 div.sk-toggleable {\n",
       "  /* Default theme specific background. It is overwritten whether we have a\n",
       "  specific estimator or a Pipeline/ColumnTransformer */\n",
       "  background-color: var(--sklearn-color-background);\n",
       "}\n",
       "\n",
       "/* Toggleable label */\n",
       "#sk-container-id-2 label.sk-toggleable__label {\n",
       "  cursor: pointer;\n",
       "  display: flex;\n",
       "  width: 100%;\n",
       "  margin-bottom: 0;\n",
       "  padding: 0.5em;\n",
       "  box-sizing: border-box;\n",
       "  text-align: center;\n",
       "  align-items: start;\n",
       "  justify-content: space-between;\n",
       "  gap: 0.5em;\n",
       "}\n",
       "\n",
       "#sk-container-id-2 label.sk-toggleable__label .caption {\n",
       "  font-size: 0.6rem;\n",
       "  font-weight: lighter;\n",
       "  color: var(--sklearn-color-text-muted);\n",
       "}\n",
       "\n",
       "#sk-container-id-2 label.sk-toggleable__label-arrow:before {\n",
       "  /* Arrow on the left of the label */\n",
       "  content: \"▸\";\n",
       "  float: left;\n",
       "  margin-right: 0.25em;\n",
       "  color: var(--sklearn-color-icon);\n",
       "}\n",
       "\n",
       "#sk-container-id-2 label.sk-toggleable__label-arrow:hover:before {\n",
       "  color: var(--sklearn-color-text);\n",
       "}\n",
       "\n",
       "/* Toggleable content - dropdown */\n",
       "\n",
       "#sk-container-id-2 div.sk-toggleable__content {\n",
       "  max-height: 0;\n",
       "  max-width: 0;\n",
       "  overflow: hidden;\n",
       "  text-align: left;\n",
       "  /* unfitted */\n",
       "  background-color: var(--sklearn-color-unfitted-level-0);\n",
       "}\n",
       "\n",
       "#sk-container-id-2 div.sk-toggleable__content.fitted {\n",
       "  /* fitted */\n",
       "  background-color: var(--sklearn-color-fitted-level-0);\n",
       "}\n",
       "\n",
       "#sk-container-id-2 div.sk-toggleable__content pre {\n",
       "  margin: 0.2em;\n",
       "  border-radius: 0.25em;\n",
       "  color: var(--sklearn-color-text);\n",
       "  /* unfitted */\n",
       "  background-color: var(--sklearn-color-unfitted-level-0);\n",
       "}\n",
       "\n",
       "#sk-container-id-2 div.sk-toggleable__content.fitted pre {\n",
       "  /* unfitted */\n",
       "  background-color: var(--sklearn-color-fitted-level-0);\n",
       "}\n",
       "\n",
       "#sk-container-id-2 input.sk-toggleable__control:checked~div.sk-toggleable__content {\n",
       "  /* Expand drop-down */\n",
       "  max-height: 200px;\n",
       "  max-width: 100%;\n",
       "  overflow: auto;\n",
       "}\n",
       "\n",
       "#sk-container-id-2 input.sk-toggleable__control:checked~label.sk-toggleable__label-arrow:before {\n",
       "  content: \"▾\";\n",
       "}\n",
       "\n",
       "/* Pipeline/ColumnTransformer-specific style */\n",
       "\n",
       "#sk-container-id-2 div.sk-label input.sk-toggleable__control:checked~label.sk-toggleable__label {\n",
       "  color: var(--sklearn-color-text);\n",
       "  background-color: var(--sklearn-color-unfitted-level-2);\n",
       "}\n",
       "\n",
       "#sk-container-id-2 div.sk-label.fitted input.sk-toggleable__control:checked~label.sk-toggleable__label {\n",
       "  background-color: var(--sklearn-color-fitted-level-2);\n",
       "}\n",
       "\n",
       "/* Estimator-specific style */\n",
       "\n",
       "/* Colorize estimator box */\n",
       "#sk-container-id-2 div.sk-estimator input.sk-toggleable__control:checked~label.sk-toggleable__label {\n",
       "  /* unfitted */\n",
       "  background-color: var(--sklearn-color-unfitted-level-2);\n",
       "}\n",
       "\n",
       "#sk-container-id-2 div.sk-estimator.fitted input.sk-toggleable__control:checked~label.sk-toggleable__label {\n",
       "  /* fitted */\n",
       "  background-color: var(--sklearn-color-fitted-level-2);\n",
       "}\n",
       "\n",
       "#sk-container-id-2 div.sk-label label.sk-toggleable__label,\n",
       "#sk-container-id-2 div.sk-label label {\n",
       "  /* The background is the default theme color */\n",
       "  color: var(--sklearn-color-text-on-default-background);\n",
       "}\n",
       "\n",
       "/* On hover, darken the color of the background */\n",
       "#sk-container-id-2 div.sk-label:hover label.sk-toggleable__label {\n",
       "  color: var(--sklearn-color-text);\n",
       "  background-color: var(--sklearn-color-unfitted-level-2);\n",
       "}\n",
       "\n",
       "/* Label box, darken color on hover, fitted */\n",
       "#sk-container-id-2 div.sk-label.fitted:hover label.sk-toggleable__label.fitted {\n",
       "  color: var(--sklearn-color-text);\n",
       "  background-color: var(--sklearn-color-fitted-level-2);\n",
       "}\n",
       "\n",
       "/* Estimator label */\n",
       "\n",
       "#sk-container-id-2 div.sk-label label {\n",
       "  font-family: monospace;\n",
       "  font-weight: bold;\n",
       "  display: inline-block;\n",
       "  line-height: 1.2em;\n",
       "}\n",
       "\n",
       "#sk-container-id-2 div.sk-label-container {\n",
       "  text-align: center;\n",
       "}\n",
       "\n",
       "/* Estimator-specific */\n",
       "#sk-container-id-2 div.sk-estimator {\n",
       "  font-family: monospace;\n",
       "  border: 1px dotted var(--sklearn-color-border-box);\n",
       "  border-radius: 0.25em;\n",
       "  box-sizing: border-box;\n",
       "  margin-bottom: 0.5em;\n",
       "  /* unfitted */\n",
       "  background-color: var(--sklearn-color-unfitted-level-0);\n",
       "}\n",
       "\n",
       "#sk-container-id-2 div.sk-estimator.fitted {\n",
       "  /* fitted */\n",
       "  background-color: var(--sklearn-color-fitted-level-0);\n",
       "}\n",
       "\n",
       "/* on hover */\n",
       "#sk-container-id-2 div.sk-estimator:hover {\n",
       "  /* unfitted */\n",
       "  background-color: var(--sklearn-color-unfitted-level-2);\n",
       "}\n",
       "\n",
       "#sk-container-id-2 div.sk-estimator.fitted:hover {\n",
       "  /* fitted */\n",
       "  background-color: var(--sklearn-color-fitted-level-2);\n",
       "}\n",
       "\n",
       "/* Specification for estimator info (e.g. \"i\" and \"?\") */\n",
       "\n",
       "/* Common style for \"i\" and \"?\" */\n",
       "\n",
       ".sk-estimator-doc-link,\n",
       "a:link.sk-estimator-doc-link,\n",
       "a:visited.sk-estimator-doc-link {\n",
       "  float: right;\n",
       "  font-size: smaller;\n",
       "  line-height: 1em;\n",
       "  font-family: monospace;\n",
       "  background-color: var(--sklearn-color-background);\n",
       "  border-radius: 1em;\n",
       "  height: 1em;\n",
       "  width: 1em;\n",
       "  text-decoration: none !important;\n",
       "  margin-left: 0.5em;\n",
       "  text-align: center;\n",
       "  /* unfitted */\n",
       "  border: var(--sklearn-color-unfitted-level-1) 1pt solid;\n",
       "  color: var(--sklearn-color-unfitted-level-1);\n",
       "}\n",
       "\n",
       ".sk-estimator-doc-link.fitted,\n",
       "a:link.sk-estimator-doc-link.fitted,\n",
       "a:visited.sk-estimator-doc-link.fitted {\n",
       "  /* fitted */\n",
       "  border: var(--sklearn-color-fitted-level-1) 1pt solid;\n",
       "  color: var(--sklearn-color-fitted-level-1);\n",
       "}\n",
       "\n",
       "/* On hover */\n",
       "div.sk-estimator:hover .sk-estimator-doc-link:hover,\n",
       ".sk-estimator-doc-link:hover,\n",
       "div.sk-label-container:hover .sk-estimator-doc-link:hover,\n",
       ".sk-estimator-doc-link:hover {\n",
       "  /* unfitted */\n",
       "  background-color: var(--sklearn-color-unfitted-level-3);\n",
       "  color: var(--sklearn-color-background);\n",
       "  text-decoration: none;\n",
       "}\n",
       "\n",
       "div.sk-estimator.fitted:hover .sk-estimator-doc-link.fitted:hover,\n",
       ".sk-estimator-doc-link.fitted:hover,\n",
       "div.sk-label-container:hover .sk-estimator-doc-link.fitted:hover,\n",
       ".sk-estimator-doc-link.fitted:hover {\n",
       "  /* fitted */\n",
       "  background-color: var(--sklearn-color-fitted-level-3);\n",
       "  color: var(--sklearn-color-background);\n",
       "  text-decoration: none;\n",
       "}\n",
       "\n",
       "/* Span, style for the box shown on hovering the info icon */\n",
       ".sk-estimator-doc-link span {\n",
       "  display: none;\n",
       "  z-index: 9999;\n",
       "  position: relative;\n",
       "  font-weight: normal;\n",
       "  right: .2ex;\n",
       "  padding: .5ex;\n",
       "  margin: .5ex;\n",
       "  width: min-content;\n",
       "  min-width: 20ex;\n",
       "  max-width: 50ex;\n",
       "  color: var(--sklearn-color-text);\n",
       "  box-shadow: 2pt 2pt 4pt #999;\n",
       "  /* unfitted */\n",
       "  background: var(--sklearn-color-unfitted-level-0);\n",
       "  border: .5pt solid var(--sklearn-color-unfitted-level-3);\n",
       "}\n",
       "\n",
       ".sk-estimator-doc-link.fitted span {\n",
       "  /* fitted */\n",
       "  background: var(--sklearn-color-fitted-level-0);\n",
       "  border: var(--sklearn-color-fitted-level-3);\n",
       "}\n",
       "\n",
       ".sk-estimator-doc-link:hover span {\n",
       "  display: block;\n",
       "}\n",
       "\n",
       "/* \"?\"-specific style due to the `<a>` HTML tag */\n",
       "\n",
       "#sk-container-id-2 a.estimator_doc_link {\n",
       "  float: right;\n",
       "  font-size: 1rem;\n",
       "  line-height: 1em;\n",
       "  font-family: monospace;\n",
       "  background-color: var(--sklearn-color-background);\n",
       "  border-radius: 1rem;\n",
       "  height: 1rem;\n",
       "  width: 1rem;\n",
       "  text-decoration: none;\n",
       "  /* unfitted */\n",
       "  color: var(--sklearn-color-unfitted-level-1);\n",
       "  border: var(--sklearn-color-unfitted-level-1) 1pt solid;\n",
       "}\n",
       "\n",
       "#sk-container-id-2 a.estimator_doc_link.fitted {\n",
       "  /* fitted */\n",
       "  border: var(--sklearn-color-fitted-level-1) 1pt solid;\n",
       "  color: var(--sklearn-color-fitted-level-1);\n",
       "}\n",
       "\n",
       "/* On hover */\n",
       "#sk-container-id-2 a.estimator_doc_link:hover {\n",
       "  /* unfitted */\n",
       "  background-color: var(--sklearn-color-unfitted-level-3);\n",
       "  color: var(--sklearn-color-background);\n",
       "  text-decoration: none;\n",
       "}\n",
       "\n",
       "#sk-container-id-2 a.estimator_doc_link.fitted:hover {\n",
       "  /* fitted */\n",
       "  background-color: var(--sklearn-color-fitted-level-3);\n",
       "}\n",
       "</style><div id=\"sk-container-id-2\" class=\"sk-top-container\"><div class=\"sk-text-repr-fallback\"><pre>SVC()</pre><b>In a Jupyter environment, please rerun this cell to show the HTML representation or trust the notebook. <br />On GitHub, the HTML representation is unable to render, please try loading this page with nbviewer.org.</b></div><div class=\"sk-container\" hidden><div class=\"sk-item\"><div class=\"sk-estimator fitted sk-toggleable\"><input class=\"sk-toggleable__control sk-hidden--visually\" id=\"sk-estimator-id-2\" type=\"checkbox\" checked><label for=\"sk-estimator-id-2\" class=\"sk-toggleable__label fitted sk-toggleable__label-arrow\"><div><div>SVC</div></div><div><a class=\"sk-estimator-doc-link fitted\" rel=\"noreferrer\" target=\"_blank\" href=\"https://scikit-learn.org/1.6/modules/generated/sklearn.svm.SVC.html\">?<span>Documentation for SVC</span></a><span class=\"sk-estimator-doc-link fitted\">i<span>Fitted</span></span></div></label><div class=\"sk-toggleable__content fitted\"><pre>SVC()</pre></div> </div></div></div></div>"
      ]
     },
     "execution_count": 12,
     "metadata": {},
     "output_type": "execute_result"
    }
   ],
   "execution_count": 12
  },
  {
   "cell_type": "markdown",
   "id": "60f6fd01",
   "metadata": {
    "id": "60f6fd01"
   },
   "source": [
    "**Now test the model on the training dataset, and check the relevant metrics!**"
   ]
  },
  {
   "cell_type": "code",
   "execution_count": null,
   "id": "e7b39e7c",
   "metadata": {
    "id": "e7b39e7c"
   },
   "outputs": [],
   "source": [
    "#ENTER YOUR CODE HERE"
   ]
  },
  {
   "cell_type": "code",
   "id": "65956581",
   "metadata": {
    "colab": {
     "base_uri": "https://localhost:8080/"
    },
    "id": "65956581",
    "outputId": "6020c6c1-aae3-4933-e3bc-9f3647ee18ee",
    "ExecuteTime": {
     "end_time": "2025-06-27T12:42:55.867089Z",
     "start_time": "2025-06-27T12:42:55.809730Z"
    }
   },
   "source": [
    "accuracy_svm = accuracy_score(labels_test, SVM_model.predict(features_test))\n",
    "f1_svm = f1_score(labels_test, SVM_model.predict(features_test))\n",
    "precision_svm = precision_score(labels_test, SVM_model.predict(features_test))\n",
    "recall_svm = recall_score(labels_test, SVM_model.predict(features_test))\n",
    "\n",
    "print(f'Accuracy of the model is: {accuracy_svm:}')\n",
    "print(f'F1 score of the model is: {f1_svm:}')\n",
    "print(f'Precision of the model is: {precision_svm:}')\n",
    "print(f'Recall of the model is: {recall_svm:}')"
   ],
   "outputs": [
    {
     "name": "stdout",
     "output_type": "stream",
     "text": [
      "Accuracy of the model is: 0.7218045112781954\n",
      "F1 score of the model is: 0.7989130434782609\n",
      "Precision of the model is: 0.7736842105263158\n",
      "Recall of the model is: 0.8258426966292135\n"
     ]
    }
   ],
   "execution_count": 13
  },
  {
   "cell_type": "markdown",
   "id": "19d6984e",
   "metadata": {
    "id": "19d6984e"
   },
   "source": [
    "### MULTICLASS CLASSIFICATION"
   ]
  },
  {
   "cell_type": "code",
   "execution_count": null,
   "id": "0f74f848",
   "metadata": {
    "colab": {
     "base_uri": "https://localhost:8080/"
    },
    "id": "0f74f848",
    "outputId": "c38c0d4e-5a6d-4130-f540-d33bebf52bab"
   },
   "outputs": [
    {
     "name": "stdout",
     "output_type": "stream",
     "text": [
      "Downloading...\n",
      "From: https://drive.google.com/uc?id=1bhWHfp1QS7ZHbNbxP_zFtEUAf76WfntC\n",
      "To: /content/social_well_being.csv\n",
      "\r",
      "  0% 0.00/43.1k [00:00<?, ?B/s]\r",
      "100% 43.1k/43.1k [00:00<00:00, 54.7MB/s]\n"
     ]
    }
   ],
   "source": [
    "! gdown 1bhWHfp1QS7ZHbNbxP_zFtEUAf76WfntC"
   ]
  },
  {
   "cell_type": "code",
   "execution_count": null,
   "id": "6e85f95b",
   "metadata": {
    "id": "6e85f95b"
   },
   "outputs": [],
   "source": []
  },
  {
   "cell_type": "markdown",
   "id": "965a2a3e",
   "metadata": {
    "id": "965a2a3e"
   },
   "source": [
    "**Import the csv `social_well_being.csv` as a pandas dataframe.**"
   ]
  },
  {
   "cell_type": "code",
   "execution_count": null,
   "id": "d8dcf919",
   "metadata": {
    "id": "d8dcf919"
   },
   "outputs": [],
   "source": [
    "#ENTER YOUR CODE HERE"
   ]
  },
  {
   "metadata": {
    "ExecuteTime": {
     "end_time": "2025-06-27T13:22:18.694672Z",
     "start_time": "2025-06-27T13:22:18.685388Z"
    }
   },
   "cell_type": "code",
   "source": "df_mc = pd.read_csv('social_well_being.csv')",
   "id": "2548b2ace1c80321",
   "outputs": [],
   "execution_count": 15
  },
  {
   "cell_type": "markdown",
   "id": "321a910f",
   "metadata": {
    "id": "321a910f"
   },
   "source": [
    "**Always analyse the data.**"
   ]
  },
  {
   "cell_type": "code",
   "execution_count": null,
   "id": "467c8c66",
   "metadata": {
    "id": "467c8c66"
   },
   "outputs": [],
   "source": [
    "#ENTER YOUR CODE HERE"
   ]
  },
  {
   "cell_type": "code",
   "id": "cf99477c",
   "metadata": {
    "colab": {
     "base_uri": "https://localhost:8080/"
    },
    "id": "cf99477c",
    "outputId": "7d246935-b9cc-4300-f9f2-2f34475d4f34",
    "ExecuteTime": {
     "end_time": "2025-06-27T13:22:20.837079Z",
     "start_time": "2025-06-27T13:22:20.826365Z"
    }
   },
   "source": "df_mc.info()",
   "outputs": [
    {
     "name": "stdout",
     "output_type": "stream",
     "text": [
      "<class 'pandas.core.frame.DataFrame'>\n",
      "RangeIndex: 924 entries, 0 to 923\n",
      "Data columns (total 10 columns):\n",
      " #   Column                      Non-Null Count  Dtype \n",
      "---  ------                      --------------  ----- \n",
      " 0   User_ID                     924 non-null    int64 \n",
      " 1   Age                         924 non-null    int64 \n",
      " 2   Gender                      924 non-null    object\n",
      " 3   Platform                    924 non-null    object\n",
      " 4   Daily_Usage_Time (minutes)  924 non-null    int64 \n",
      " 5   Posts_Per_Day               924 non-null    int64 \n",
      " 6   Likes_Received_Per_Day      924 non-null    int64 \n",
      " 7   Comments_Received_Per_Day   924 non-null    int64 \n",
      " 8   Messages_Sent_Per_Day       924 non-null    int64 \n",
      " 9   Dominant_Emotion            924 non-null    object\n",
      "dtypes: int64(7), object(3)\n",
      "memory usage: 72.3+ KB\n"
     ]
    }
   ],
   "execution_count": 16
  },
  {
   "cell_type": "code",
   "id": "af924d91",
   "metadata": {
    "colab": {
     "base_uri": "https://localhost:8080/"
    },
    "id": "af924d91",
    "outputId": "d62a6784-1802-4394-af0e-6616ac122751",
    "ExecuteTime": {
     "end_time": "2025-06-27T13:22:28.182710Z",
     "start_time": "2025-06-27T13:22:28.176400Z"
    }
   },
   "source": "df_mc.columns",
   "outputs": [
    {
     "data": {
      "text/plain": [
       "Index(['User_ID', 'Age', 'Gender', 'Platform', 'Daily_Usage_Time (minutes)',\n",
       "       'Posts_Per_Day', 'Likes_Received_Per_Day', 'Comments_Received_Per_Day',\n",
       "       'Messages_Sent_Per_Day', 'Dominant_Emotion'],\n",
       "      dtype='object')"
      ]
     },
     "execution_count": 17,
     "metadata": {},
     "output_type": "execute_result"
    }
   ],
   "execution_count": 17
  },
  {
   "cell_type": "code",
   "id": "80919305",
   "metadata": {
    "colab": {
     "base_uri": "https://localhost:8080/",
     "height": 206
    },
    "id": "80919305",
    "outputId": "cc6fb120-0a28-4f90-afab-7120af0e6f95",
    "ExecuteTime": {
     "end_time": "2025-06-27T13:22:31.050145Z",
     "start_time": "2025-06-27T13:22:31.042987Z"
    }
   },
   "source": "df_mc.head()",
   "outputs": [
    {
     "data": {
      "text/plain": [
       "   User_ID  Age      Gender   Platform  Daily_Usage_Time (minutes)  \\\n",
       "0        1   25      Female  Instagram                         120   \n",
       "1        2   30        Male    Twitter                          90   \n",
       "2        3   22  Non-binary   Facebook                          60   \n",
       "3        4   28      Female  Instagram                         200   \n",
       "4        5   33        Male   LinkedIn                          45   \n",
       "\n",
       "   Posts_Per_Day  Likes_Received_Per_Day  Comments_Received_Per_Day  \\\n",
       "0              3                      45                         10   \n",
       "1              5                      20                         25   \n",
       "2              2                      15                          5   \n",
       "3              8                     100                         30   \n",
       "4              1                       5                          2   \n",
       "\n",
       "   Messages_Sent_Per_Day Dominant_Emotion  \n",
       "0                     12        Happiness  \n",
       "1                     30            Anger  \n",
       "2                     20          Neutral  \n",
       "3                     50          Anxiety  \n",
       "4                     10          Boredom  "
      ],
      "text/html": [
       "<div>\n",
       "<style scoped>\n",
       "    .dataframe tbody tr th:only-of-type {\n",
       "        vertical-align: middle;\n",
       "    }\n",
       "\n",
       "    .dataframe tbody tr th {\n",
       "        vertical-align: top;\n",
       "    }\n",
       "\n",
       "    .dataframe thead th {\n",
       "        text-align: right;\n",
       "    }\n",
       "</style>\n",
       "<table border=\"1\" class=\"dataframe\">\n",
       "  <thead>\n",
       "    <tr style=\"text-align: right;\">\n",
       "      <th></th>\n",
       "      <th>User_ID</th>\n",
       "      <th>Age</th>\n",
       "      <th>Gender</th>\n",
       "      <th>Platform</th>\n",
       "      <th>Daily_Usage_Time (minutes)</th>\n",
       "      <th>Posts_Per_Day</th>\n",
       "      <th>Likes_Received_Per_Day</th>\n",
       "      <th>Comments_Received_Per_Day</th>\n",
       "      <th>Messages_Sent_Per_Day</th>\n",
       "      <th>Dominant_Emotion</th>\n",
       "    </tr>\n",
       "  </thead>\n",
       "  <tbody>\n",
       "    <tr>\n",
       "      <th>0</th>\n",
       "      <td>1</td>\n",
       "      <td>25</td>\n",
       "      <td>Female</td>\n",
       "      <td>Instagram</td>\n",
       "      <td>120</td>\n",
       "      <td>3</td>\n",
       "      <td>45</td>\n",
       "      <td>10</td>\n",
       "      <td>12</td>\n",
       "      <td>Happiness</td>\n",
       "    </tr>\n",
       "    <tr>\n",
       "      <th>1</th>\n",
       "      <td>2</td>\n",
       "      <td>30</td>\n",
       "      <td>Male</td>\n",
       "      <td>Twitter</td>\n",
       "      <td>90</td>\n",
       "      <td>5</td>\n",
       "      <td>20</td>\n",
       "      <td>25</td>\n",
       "      <td>30</td>\n",
       "      <td>Anger</td>\n",
       "    </tr>\n",
       "    <tr>\n",
       "      <th>2</th>\n",
       "      <td>3</td>\n",
       "      <td>22</td>\n",
       "      <td>Non-binary</td>\n",
       "      <td>Facebook</td>\n",
       "      <td>60</td>\n",
       "      <td>2</td>\n",
       "      <td>15</td>\n",
       "      <td>5</td>\n",
       "      <td>20</td>\n",
       "      <td>Neutral</td>\n",
       "    </tr>\n",
       "    <tr>\n",
       "      <th>3</th>\n",
       "      <td>4</td>\n",
       "      <td>28</td>\n",
       "      <td>Female</td>\n",
       "      <td>Instagram</td>\n",
       "      <td>200</td>\n",
       "      <td>8</td>\n",
       "      <td>100</td>\n",
       "      <td>30</td>\n",
       "      <td>50</td>\n",
       "      <td>Anxiety</td>\n",
       "    </tr>\n",
       "    <tr>\n",
       "      <th>4</th>\n",
       "      <td>5</td>\n",
       "      <td>33</td>\n",
       "      <td>Male</td>\n",
       "      <td>LinkedIn</td>\n",
       "      <td>45</td>\n",
       "      <td>1</td>\n",
       "      <td>5</td>\n",
       "      <td>2</td>\n",
       "      <td>10</td>\n",
       "      <td>Boredom</td>\n",
       "    </tr>\n",
       "  </tbody>\n",
       "</table>\n",
       "</div>"
      ]
     },
     "execution_count": 18,
     "metadata": {},
     "output_type": "execute_result"
    }
   ],
   "execution_count": 18
  },
  {
   "cell_type": "markdown",
   "id": "8b103775",
   "metadata": {
    "id": "8b103775"
   },
   "source": [
    "Since its multiclass-classification, the classes column 'Dominant_Emotion' has more than two classes.\n",
    "\n",
    "**Can you find out what these classes are?**"
   ]
  },
  {
   "cell_type": "code",
   "execution_count": null,
   "id": "b937f339",
   "metadata": {
    "id": "b937f339"
   },
   "outputs": [],
   "source": [
    "#ENTER YOUR CODE HERE"
   ]
  },
  {
   "cell_type": "code",
   "id": "52f3cfbc",
   "metadata": {
    "colab": {
     "base_uri": "https://localhost:8080/"
    },
    "id": "52f3cfbc",
    "outputId": "072f50c2-aee2-4dcb-ddd6-c94e92f37cca",
    "ExecuteTime": {
     "end_time": "2025-06-27T13:22:38.515656Z",
     "start_time": "2025-06-27T13:22:38.510502Z"
    }
   },
   "source": "df_mc['Dominant_Emotion'].unique()",
   "outputs": [
    {
     "data": {
      "text/plain": [
       "array(['Happiness', 'Anger', 'Neutral', 'Anxiety', 'Boredom', 'Sadness'],\n",
       "      dtype=object)"
      ]
     },
     "execution_count": 19,
     "metadata": {},
     "output_type": "execute_result"
    }
   ],
   "execution_count": 19
  },
  {
   "cell_type": "markdown",
   "id": "14ea261c",
   "metadata": {
    "id": "14ea261c"
   },
   "source": [
    "Actually this isn't the only categorical column in the dataset. There are other too.\n",
    "\n",
    "**Print their values as well!**"
   ]
  },
  {
   "cell_type": "code",
   "execution_count": null,
   "id": "9f1999db",
   "metadata": {
    "id": "9f1999db"
   },
   "outputs": [],
   "source": [
    "#ENTER YOUR CODE HERE"
   ]
  },
  {
   "cell_type": "code",
   "id": "1436646a",
   "metadata": {
    "colab": {
     "base_uri": "https://localhost:8080/"
    },
    "id": "1436646a",
    "outputId": "14f117c4-b95f-4e3d-cb55-b073da94990f",
    "ExecuteTime": {
     "end_time": "2025-06-27T13:22:41.027479Z",
     "start_time": "2025-06-27T13:22:41.022147Z"
    }
   },
   "source": [
    "print(df_mc['Gender'].unique())\n",
    "\n",
    "print(df_mc['Platform'].unique())"
   ],
   "outputs": [
    {
     "name": "stdout",
     "output_type": "stream",
     "text": [
      "['Female' 'Male' 'Non-binary']\n",
      "['Instagram' 'Twitter' 'Facebook' 'LinkedIn' 'Whatsapp' 'Telegram'\n",
      " 'Snapchat']\n"
     ]
    }
   ],
   "execution_count": 20
  },
  {
   "cell_type": "markdown",
   "id": "89312ac6",
   "metadata": {
    "id": "89312ac6"
   },
   "source": [
    "Many models, including KNN, will only work with numerical data. Hence the textual categories need to go. We will use something called \"one-hot encoding\" for transforming our features and \"labelling\" for our categories.\n",
    "\n",
    "**Import the pandas module used for one-hot encoding**"
   ]
  },
  {
   "cell_type": "code",
   "execution_count": null,
   "id": "540454bc",
   "metadata": {
    "id": "540454bc"
   },
   "outputs": [],
   "source": [
    "#ENTER YOUR CODE HERE"
   ]
  },
  {
   "cell_type": "markdown",
   "id": "b40c32ee",
   "metadata": {
    "id": "b40c32ee"
   },
   "source": [
    "**First One-Hot Encode the 'Gender' column and replace the 'Gender' column with this.**"
   ]
  },
  {
   "cell_type": "code",
   "execution_count": null,
   "id": "d2b5f376",
   "metadata": {
    "id": "d2b5f376"
   },
   "outputs": [],
   "source": [
    "#ENTER YOUR CODE HERE"
   ]
  },
  {
   "cell_type": "code",
   "id": "0ff7889d",
   "metadata": {
    "colab": {
     "base_uri": "https://localhost:8080/",
     "height": 441
    },
    "id": "0ff7889d",
    "outputId": "1b0886f3-0c93-471e-b110-6571936658c4",
    "ExecuteTime": {
     "end_time": "2025-06-27T13:22:46.366498Z",
     "start_time": "2025-06-27T13:22:46.358018Z"
    }
   },
   "source": [
    "df_mc = pd.get_dummies(df_mc, columns = ['Gender'],dtype = 'int')\n",
    "df_mc.head()"
   ],
   "outputs": [
    {
     "data": {
      "text/plain": [
       "   User_ID  Age   Platform  Daily_Usage_Time (minutes)  Posts_Per_Day  \\\n",
       "0        1   25  Instagram                         120              3   \n",
       "1        2   30    Twitter                          90              5   \n",
       "2        3   22   Facebook                          60              2   \n",
       "3        4   28  Instagram                         200              8   \n",
       "4        5   33   LinkedIn                          45              1   \n",
       "\n",
       "   Likes_Received_Per_Day  Comments_Received_Per_Day  Messages_Sent_Per_Day  \\\n",
       "0                      45                         10                     12   \n",
       "1                      20                         25                     30   \n",
       "2                      15                          5                     20   \n",
       "3                     100                         30                     50   \n",
       "4                       5                          2                     10   \n",
       "\n",
       "  Dominant_Emotion  Gender_Female  Gender_Male  Gender_Non-binary  \n",
       "0        Happiness              1            0                  0  \n",
       "1            Anger              0            1                  0  \n",
       "2          Neutral              0            0                  1  \n",
       "3          Anxiety              1            0                  0  \n",
       "4          Boredom              0            1                  0  "
      ],
      "text/html": [
       "<div>\n",
       "<style scoped>\n",
       "    .dataframe tbody tr th:only-of-type {\n",
       "        vertical-align: middle;\n",
       "    }\n",
       "\n",
       "    .dataframe tbody tr th {\n",
       "        vertical-align: top;\n",
       "    }\n",
       "\n",
       "    .dataframe thead th {\n",
       "        text-align: right;\n",
       "    }\n",
       "</style>\n",
       "<table border=\"1\" class=\"dataframe\">\n",
       "  <thead>\n",
       "    <tr style=\"text-align: right;\">\n",
       "      <th></th>\n",
       "      <th>User_ID</th>\n",
       "      <th>Age</th>\n",
       "      <th>Platform</th>\n",
       "      <th>Daily_Usage_Time (minutes)</th>\n",
       "      <th>Posts_Per_Day</th>\n",
       "      <th>Likes_Received_Per_Day</th>\n",
       "      <th>Comments_Received_Per_Day</th>\n",
       "      <th>Messages_Sent_Per_Day</th>\n",
       "      <th>Dominant_Emotion</th>\n",
       "      <th>Gender_Female</th>\n",
       "      <th>Gender_Male</th>\n",
       "      <th>Gender_Non-binary</th>\n",
       "    </tr>\n",
       "  </thead>\n",
       "  <tbody>\n",
       "    <tr>\n",
       "      <th>0</th>\n",
       "      <td>1</td>\n",
       "      <td>25</td>\n",
       "      <td>Instagram</td>\n",
       "      <td>120</td>\n",
       "      <td>3</td>\n",
       "      <td>45</td>\n",
       "      <td>10</td>\n",
       "      <td>12</td>\n",
       "      <td>Happiness</td>\n",
       "      <td>1</td>\n",
       "      <td>0</td>\n",
       "      <td>0</td>\n",
       "    </tr>\n",
       "    <tr>\n",
       "      <th>1</th>\n",
       "      <td>2</td>\n",
       "      <td>30</td>\n",
       "      <td>Twitter</td>\n",
       "      <td>90</td>\n",
       "      <td>5</td>\n",
       "      <td>20</td>\n",
       "      <td>25</td>\n",
       "      <td>30</td>\n",
       "      <td>Anger</td>\n",
       "      <td>0</td>\n",
       "      <td>1</td>\n",
       "      <td>0</td>\n",
       "    </tr>\n",
       "    <tr>\n",
       "      <th>2</th>\n",
       "      <td>3</td>\n",
       "      <td>22</td>\n",
       "      <td>Facebook</td>\n",
       "      <td>60</td>\n",
       "      <td>2</td>\n",
       "      <td>15</td>\n",
       "      <td>5</td>\n",
       "      <td>20</td>\n",
       "      <td>Neutral</td>\n",
       "      <td>0</td>\n",
       "      <td>0</td>\n",
       "      <td>1</td>\n",
       "    </tr>\n",
       "    <tr>\n",
       "      <th>3</th>\n",
       "      <td>4</td>\n",
       "      <td>28</td>\n",
       "      <td>Instagram</td>\n",
       "      <td>200</td>\n",
       "      <td>8</td>\n",
       "      <td>100</td>\n",
       "      <td>30</td>\n",
       "      <td>50</td>\n",
       "      <td>Anxiety</td>\n",
       "      <td>1</td>\n",
       "      <td>0</td>\n",
       "      <td>0</td>\n",
       "    </tr>\n",
       "    <tr>\n",
       "      <th>4</th>\n",
       "      <td>5</td>\n",
       "      <td>33</td>\n",
       "      <td>LinkedIn</td>\n",
       "      <td>45</td>\n",
       "      <td>1</td>\n",
       "      <td>5</td>\n",
       "      <td>2</td>\n",
       "      <td>10</td>\n",
       "      <td>Boredom</td>\n",
       "      <td>0</td>\n",
       "      <td>1</td>\n",
       "      <td>0</td>\n",
       "    </tr>\n",
       "  </tbody>\n",
       "</table>\n",
       "</div>"
      ]
     },
     "execution_count": 21,
     "metadata": {},
     "output_type": "execute_result"
    }
   ],
   "execution_count": 21
  },
  {
   "cell_type": "markdown",
   "id": "e95e02f3",
   "metadata": {
    "id": "e95e02f3"
   },
   "source": [
    "**Repeat the drill for the column 'Platform'.**"
   ]
  },
  {
   "cell_type": "code",
   "execution_count": null,
   "id": "4e6c6fef",
   "metadata": {
    "id": "4e6c6fef"
   },
   "outputs": [],
   "source": [
    "#ENTER YOUR CODE HERE"
   ]
  },
  {
   "cell_type": "code",
   "id": "117956cb",
   "metadata": {
    "colab": {
     "base_uri": "https://localhost:8080/",
     "height": 461
    },
    "id": "117956cb",
    "outputId": "9816a605-49ac-4d57-9888-78070dcb1ffc",
    "ExecuteTime": {
     "end_time": "2025-06-27T13:22:51.558664Z",
     "start_time": "2025-06-27T13:22:51.547382Z"
    }
   },
   "source": [
    "df_mc = pd.get_dummies(df_mc, columns = ['Platform'],dtype = 'int')\n",
    "df_mc.head()"
   ],
   "outputs": [
    {
     "data": {
      "text/plain": [
       "   User_ID  Age  Daily_Usage_Time (minutes)  Posts_Per_Day  \\\n",
       "0        1   25                         120              3   \n",
       "1        2   30                          90              5   \n",
       "2        3   22                          60              2   \n",
       "3        4   28                         200              8   \n",
       "4        5   33                          45              1   \n",
       "\n",
       "   Likes_Received_Per_Day  Comments_Received_Per_Day  Messages_Sent_Per_Day  \\\n",
       "0                      45                         10                     12   \n",
       "1                      20                         25                     30   \n",
       "2                      15                          5                     20   \n",
       "3                     100                         30                     50   \n",
       "4                       5                          2                     10   \n",
       "\n",
       "  Dominant_Emotion  Gender_Female  Gender_Male  Gender_Non-binary  \\\n",
       "0        Happiness              1            0                  0   \n",
       "1            Anger              0            1                  0   \n",
       "2          Neutral              0            0                  1   \n",
       "3          Anxiety              1            0                  0   \n",
       "4          Boredom              0            1                  0   \n",
       "\n",
       "   Platform_Facebook  Platform_Instagram  Platform_LinkedIn  \\\n",
       "0                  0                   1                  0   \n",
       "1                  0                   0                  0   \n",
       "2                  1                   0                  0   \n",
       "3                  0                   1                  0   \n",
       "4                  0                   0                  1   \n",
       "\n",
       "   Platform_Snapchat  Platform_Telegram  Platform_Twitter  Platform_Whatsapp  \n",
       "0                  0                  0                 0                  0  \n",
       "1                  0                  0                 1                  0  \n",
       "2                  0                  0                 0                  0  \n",
       "3                  0                  0                 0                  0  \n",
       "4                  0                  0                 0                  0  "
      ],
      "text/html": [
       "<div>\n",
       "<style scoped>\n",
       "    .dataframe tbody tr th:only-of-type {\n",
       "        vertical-align: middle;\n",
       "    }\n",
       "\n",
       "    .dataframe tbody tr th {\n",
       "        vertical-align: top;\n",
       "    }\n",
       "\n",
       "    .dataframe thead th {\n",
       "        text-align: right;\n",
       "    }\n",
       "</style>\n",
       "<table border=\"1\" class=\"dataframe\">\n",
       "  <thead>\n",
       "    <tr style=\"text-align: right;\">\n",
       "      <th></th>\n",
       "      <th>User_ID</th>\n",
       "      <th>Age</th>\n",
       "      <th>Daily_Usage_Time (minutes)</th>\n",
       "      <th>Posts_Per_Day</th>\n",
       "      <th>Likes_Received_Per_Day</th>\n",
       "      <th>Comments_Received_Per_Day</th>\n",
       "      <th>Messages_Sent_Per_Day</th>\n",
       "      <th>Dominant_Emotion</th>\n",
       "      <th>Gender_Female</th>\n",
       "      <th>Gender_Male</th>\n",
       "      <th>Gender_Non-binary</th>\n",
       "      <th>Platform_Facebook</th>\n",
       "      <th>Platform_Instagram</th>\n",
       "      <th>Platform_LinkedIn</th>\n",
       "      <th>Platform_Snapchat</th>\n",
       "      <th>Platform_Telegram</th>\n",
       "      <th>Platform_Twitter</th>\n",
       "      <th>Platform_Whatsapp</th>\n",
       "    </tr>\n",
       "  </thead>\n",
       "  <tbody>\n",
       "    <tr>\n",
       "      <th>0</th>\n",
       "      <td>1</td>\n",
       "      <td>25</td>\n",
       "      <td>120</td>\n",
       "      <td>3</td>\n",
       "      <td>45</td>\n",
       "      <td>10</td>\n",
       "      <td>12</td>\n",
       "      <td>Happiness</td>\n",
       "      <td>1</td>\n",
       "      <td>0</td>\n",
       "      <td>0</td>\n",
       "      <td>0</td>\n",
       "      <td>1</td>\n",
       "      <td>0</td>\n",
       "      <td>0</td>\n",
       "      <td>0</td>\n",
       "      <td>0</td>\n",
       "      <td>0</td>\n",
       "    </tr>\n",
       "    <tr>\n",
       "      <th>1</th>\n",
       "      <td>2</td>\n",
       "      <td>30</td>\n",
       "      <td>90</td>\n",
       "      <td>5</td>\n",
       "      <td>20</td>\n",
       "      <td>25</td>\n",
       "      <td>30</td>\n",
       "      <td>Anger</td>\n",
       "      <td>0</td>\n",
       "      <td>1</td>\n",
       "      <td>0</td>\n",
       "      <td>0</td>\n",
       "      <td>0</td>\n",
       "      <td>0</td>\n",
       "      <td>0</td>\n",
       "      <td>0</td>\n",
       "      <td>1</td>\n",
       "      <td>0</td>\n",
       "    </tr>\n",
       "    <tr>\n",
       "      <th>2</th>\n",
       "      <td>3</td>\n",
       "      <td>22</td>\n",
       "      <td>60</td>\n",
       "      <td>2</td>\n",
       "      <td>15</td>\n",
       "      <td>5</td>\n",
       "      <td>20</td>\n",
       "      <td>Neutral</td>\n",
       "      <td>0</td>\n",
       "      <td>0</td>\n",
       "      <td>1</td>\n",
       "      <td>1</td>\n",
       "      <td>0</td>\n",
       "      <td>0</td>\n",
       "      <td>0</td>\n",
       "      <td>0</td>\n",
       "      <td>0</td>\n",
       "      <td>0</td>\n",
       "    </tr>\n",
       "    <tr>\n",
       "      <th>3</th>\n",
       "      <td>4</td>\n",
       "      <td>28</td>\n",
       "      <td>200</td>\n",
       "      <td>8</td>\n",
       "      <td>100</td>\n",
       "      <td>30</td>\n",
       "      <td>50</td>\n",
       "      <td>Anxiety</td>\n",
       "      <td>1</td>\n",
       "      <td>0</td>\n",
       "      <td>0</td>\n",
       "      <td>0</td>\n",
       "      <td>1</td>\n",
       "      <td>0</td>\n",
       "      <td>0</td>\n",
       "      <td>0</td>\n",
       "      <td>0</td>\n",
       "      <td>0</td>\n",
       "    </tr>\n",
       "    <tr>\n",
       "      <th>4</th>\n",
       "      <td>5</td>\n",
       "      <td>33</td>\n",
       "      <td>45</td>\n",
       "      <td>1</td>\n",
       "      <td>5</td>\n",
       "      <td>2</td>\n",
       "      <td>10</td>\n",
       "      <td>Boredom</td>\n",
       "      <td>0</td>\n",
       "      <td>1</td>\n",
       "      <td>0</td>\n",
       "      <td>0</td>\n",
       "      <td>0</td>\n",
       "      <td>1</td>\n",
       "      <td>0</td>\n",
       "      <td>0</td>\n",
       "      <td>0</td>\n",
       "      <td>0</td>\n",
       "    </tr>\n",
       "  </tbody>\n",
       "</table>\n",
       "</div>"
      ]
     },
     "execution_count": 22,
     "metadata": {},
     "output_type": "execute_result"
    }
   ],
   "execution_count": 22
  },
  {
   "cell_type": "markdown",
   "id": "5c7e8ba6",
   "metadata": {
    "id": "5c7e8ba6"
   },
   "source": [
    "Last categorical feature is our label column.\n",
    "\n",
    "**Import the module used for label encoding.**"
   ]
  },
  {
   "cell_type": "code",
   "execution_count": null,
   "id": "88e0d9be",
   "metadata": {
    "id": "88e0d9be"
   },
   "outputs": [],
   "source": [
    "#ENTER YOUR CODE HERE"
   ]
  },
  {
   "cell_type": "markdown",
   "id": "e02a0ece",
   "metadata": {
    "id": "e02a0ece"
   },
   "source": [
    "**Now label encode the column 'Dominant_Emotion'**"
   ]
  },
  {
   "cell_type": "code",
   "execution_count": null,
   "id": "ecba97af",
   "metadata": {
    "id": "ecba97af"
   },
   "outputs": [],
   "source": [
    "#ENTER YOUR CODE HERE"
   ]
  },
  {
   "cell_type": "code",
   "id": "933767cc",
   "metadata": {
    "colab": {
     "base_uri": "https://localhost:8080/",
     "height": 461
    },
    "id": "933767cc",
    "outputId": "c01b79e0-f0ea-4855-ac6c-daf4cca15543",
    "ExecuteTime": {
     "end_time": "2025-06-27T13:23:11.016681Z",
     "start_time": "2025-06-27T13:23:11.003133Z"
    }
   },
   "source": [
    "encoder = LabelEncoder()\n",
    "df_mc['Dominant_Emotion_Encoded'] = encoder.fit_transform(df_mc['Dominant_Emotion'])\n",
    "df_mc.drop(['Dominant_Emotion'], axis = 1, inplace = True)\n",
    "df_mc.head()"
   ],
   "outputs": [
    {
     "data": {
      "text/plain": [
       "   User_ID  Age  Daily_Usage_Time (minutes)  Posts_Per_Day  \\\n",
       "0        1   25                         120              3   \n",
       "1        2   30                          90              5   \n",
       "2        3   22                          60              2   \n",
       "3        4   28                         200              8   \n",
       "4        5   33                          45              1   \n",
       "\n",
       "   Likes_Received_Per_Day  Comments_Received_Per_Day  Messages_Sent_Per_Day  \\\n",
       "0                      45                         10                     12   \n",
       "1                      20                         25                     30   \n",
       "2                      15                          5                     20   \n",
       "3                     100                         30                     50   \n",
       "4                       5                          2                     10   \n",
       "\n",
       "   Gender_Female  Gender_Male  Gender_Non-binary  Platform_Facebook  \\\n",
       "0              1            0                  0                  0   \n",
       "1              0            1                  0                  0   \n",
       "2              0            0                  1                  1   \n",
       "3              1            0                  0                  0   \n",
       "4              0            1                  0                  0   \n",
       "\n",
       "   Platform_Instagram  Platform_LinkedIn  Platform_Snapchat  \\\n",
       "0                   1                  0                  0   \n",
       "1                   0                  0                  0   \n",
       "2                   0                  0                  0   \n",
       "3                   1                  0                  0   \n",
       "4                   0                  1                  0   \n",
       "\n",
       "   Platform_Telegram  Platform_Twitter  Platform_Whatsapp  \\\n",
       "0                  0                 0                  0   \n",
       "1                  0                 1                  0   \n",
       "2                  0                 0                  0   \n",
       "3                  0                 0                  0   \n",
       "4                  0                 0                  0   \n",
       "\n",
       "   Dominant_Emotion_Encoded  \n",
       "0                         3  \n",
       "1                         0  \n",
       "2                         4  \n",
       "3                         1  \n",
       "4                         2  "
      ],
      "text/html": [
       "<div>\n",
       "<style scoped>\n",
       "    .dataframe tbody tr th:only-of-type {\n",
       "        vertical-align: middle;\n",
       "    }\n",
       "\n",
       "    .dataframe tbody tr th {\n",
       "        vertical-align: top;\n",
       "    }\n",
       "\n",
       "    .dataframe thead th {\n",
       "        text-align: right;\n",
       "    }\n",
       "</style>\n",
       "<table border=\"1\" class=\"dataframe\">\n",
       "  <thead>\n",
       "    <tr style=\"text-align: right;\">\n",
       "      <th></th>\n",
       "      <th>User_ID</th>\n",
       "      <th>Age</th>\n",
       "      <th>Daily_Usage_Time (minutes)</th>\n",
       "      <th>Posts_Per_Day</th>\n",
       "      <th>Likes_Received_Per_Day</th>\n",
       "      <th>Comments_Received_Per_Day</th>\n",
       "      <th>Messages_Sent_Per_Day</th>\n",
       "      <th>Gender_Female</th>\n",
       "      <th>Gender_Male</th>\n",
       "      <th>Gender_Non-binary</th>\n",
       "      <th>Platform_Facebook</th>\n",
       "      <th>Platform_Instagram</th>\n",
       "      <th>Platform_LinkedIn</th>\n",
       "      <th>Platform_Snapchat</th>\n",
       "      <th>Platform_Telegram</th>\n",
       "      <th>Platform_Twitter</th>\n",
       "      <th>Platform_Whatsapp</th>\n",
       "      <th>Dominant_Emotion_Encoded</th>\n",
       "    </tr>\n",
       "  </thead>\n",
       "  <tbody>\n",
       "    <tr>\n",
       "      <th>0</th>\n",
       "      <td>1</td>\n",
       "      <td>25</td>\n",
       "      <td>120</td>\n",
       "      <td>3</td>\n",
       "      <td>45</td>\n",
       "      <td>10</td>\n",
       "      <td>12</td>\n",
       "      <td>1</td>\n",
       "      <td>0</td>\n",
       "      <td>0</td>\n",
       "      <td>0</td>\n",
       "      <td>1</td>\n",
       "      <td>0</td>\n",
       "      <td>0</td>\n",
       "      <td>0</td>\n",
       "      <td>0</td>\n",
       "      <td>0</td>\n",
       "      <td>3</td>\n",
       "    </tr>\n",
       "    <tr>\n",
       "      <th>1</th>\n",
       "      <td>2</td>\n",
       "      <td>30</td>\n",
       "      <td>90</td>\n",
       "      <td>5</td>\n",
       "      <td>20</td>\n",
       "      <td>25</td>\n",
       "      <td>30</td>\n",
       "      <td>0</td>\n",
       "      <td>1</td>\n",
       "      <td>0</td>\n",
       "      <td>0</td>\n",
       "      <td>0</td>\n",
       "      <td>0</td>\n",
       "      <td>0</td>\n",
       "      <td>0</td>\n",
       "      <td>1</td>\n",
       "      <td>0</td>\n",
       "      <td>0</td>\n",
       "    </tr>\n",
       "    <tr>\n",
       "      <th>2</th>\n",
       "      <td>3</td>\n",
       "      <td>22</td>\n",
       "      <td>60</td>\n",
       "      <td>2</td>\n",
       "      <td>15</td>\n",
       "      <td>5</td>\n",
       "      <td>20</td>\n",
       "      <td>0</td>\n",
       "      <td>0</td>\n",
       "      <td>1</td>\n",
       "      <td>1</td>\n",
       "      <td>0</td>\n",
       "      <td>0</td>\n",
       "      <td>0</td>\n",
       "      <td>0</td>\n",
       "      <td>0</td>\n",
       "      <td>0</td>\n",
       "      <td>4</td>\n",
       "    </tr>\n",
       "    <tr>\n",
       "      <th>3</th>\n",
       "      <td>4</td>\n",
       "      <td>28</td>\n",
       "      <td>200</td>\n",
       "      <td>8</td>\n",
       "      <td>100</td>\n",
       "      <td>30</td>\n",
       "      <td>50</td>\n",
       "      <td>1</td>\n",
       "      <td>0</td>\n",
       "      <td>0</td>\n",
       "      <td>0</td>\n",
       "      <td>1</td>\n",
       "      <td>0</td>\n",
       "      <td>0</td>\n",
       "      <td>0</td>\n",
       "      <td>0</td>\n",
       "      <td>0</td>\n",
       "      <td>1</td>\n",
       "    </tr>\n",
       "    <tr>\n",
       "      <th>4</th>\n",
       "      <td>5</td>\n",
       "      <td>33</td>\n",
       "      <td>45</td>\n",
       "      <td>1</td>\n",
       "      <td>5</td>\n",
       "      <td>2</td>\n",
       "      <td>10</td>\n",
       "      <td>0</td>\n",
       "      <td>1</td>\n",
       "      <td>0</td>\n",
       "      <td>0</td>\n",
       "      <td>0</td>\n",
       "      <td>1</td>\n",
       "      <td>0</td>\n",
       "      <td>0</td>\n",
       "      <td>0</td>\n",
       "      <td>0</td>\n",
       "      <td>2</td>\n",
       "    </tr>\n",
       "  </tbody>\n",
       "</table>\n",
       "</div>"
      ]
     },
     "execution_count": 23,
     "metadata": {},
     "output_type": "execute_result"
    }
   ],
   "execution_count": 23
  },
  {
   "cell_type": "markdown",
   "id": "806867c8",
   "metadata": {
    "id": "806867c8"
   },
   "source": [
    "Now we have only numerical data, phew! Lets start training!\n",
    "\n",
    "**Create the freatures dataframe and the labels dataframe as we had done before, and split them into train and test parts. Do you need to import the libraries again?**"
   ]
  },
  {
   "cell_type": "code",
   "id": "fe5d5076",
   "metadata": {
    "id": "fe5d5076",
    "ExecuteTime": {
     "end_time": "2025-06-27T13:23:22.515063Z",
     "start_time": "2025-06-27T13:23:22.504410Z"
    }
   },
   "source": [
    "#ENTER YOUR CODE HERE\n",
    "features = df_mc.drop(columns=['Dominant_Emotion_Encoded','User_ID'], axis=1)\n",
    "labels = df_mc['Dominant_Emotion_Encoded']\n",
    "features_train, features_test, labels_train, labels_test = train_test_split(features, labels, test_size=0.2, random_state=69)\n",
    "features_train.shape, features_test.shape, labels_train.shape, labels_test.shape"
   ],
   "outputs": [
    {
     "data": {
      "text/plain": [
       "((739, 16), (185, 16), (739,), (185,))"
      ]
     },
     "execution_count": 24,
     "metadata": {},
     "output_type": "execute_result"
    }
   ],
   "execution_count": 24
  },
  {
   "cell_type": "markdown",
   "id": "c7f975fb",
   "metadata": {
    "id": "c7f975fb"
   },
   "source": [
    "**Import the module used for training a KNN model.**"
   ]
  },
  {
   "cell_type": "code",
   "execution_count": null,
   "id": "6aca486b",
   "metadata": {
    "id": "6aca486b"
   },
   "outputs": [],
   "source": [
    "#ENTER YOUR CODE HERE"
   ]
  },
  {
   "metadata": {
    "ExecuteTime": {
     "end_time": "2025-06-27T13:24:12.831497Z",
     "start_time": "2025-06-27T13:24:12.826423Z"
    }
   },
   "cell_type": "code",
   "source": "labels_train.head()",
   "id": "544026b1aa50f2a",
   "outputs": [
    {
     "data": {
      "text/plain": [
       "236    3\n",
       "820    4\n",
       "341    4\n",
       "168    1\n",
       "299    0\n",
       "Name: Dominant_Emotion_Encoded, dtype: int64"
      ]
     },
     "execution_count": 26,
     "metadata": {},
     "output_type": "execute_result"
    }
   ],
   "execution_count": 26
  },
  {
   "cell_type": "markdown",
   "id": "c3107a53",
   "metadata": {
    "id": "c3107a53"
   },
   "source": [
    "**Train your model.**"
   ]
  },
  {
   "cell_type": "code",
   "execution_count": null,
   "id": "0d222848",
   "metadata": {
    "id": "0d222848"
   },
   "outputs": [],
   "source": [
    "#ENTER YOUR CODE HERE"
   ]
  },
  {
   "cell_type": "code",
   "id": "4860ab5f",
   "metadata": {
    "colab": {
     "base_uri": "https://localhost:8080/",
     "height": 74
    },
    "id": "4860ab5f",
    "outputId": "f485e95e-81d2-4260-e200-cc9065875820",
    "ExecuteTime": {
     "end_time": "2025-06-27T13:24:18.931416Z",
     "start_time": "2025-06-27T13:24:18.919870Z"
    }
   },
   "source": [
    "knn_model = KNeighborsClassifier(n_neighbors=5)\n",
    "knn_model.fit(features_train, labels_train)"
   ],
   "outputs": [
    {
     "data": {
      "text/plain": [
       "KNeighborsClassifier()"
      ],
      "text/html": [
       "<style>#sk-container-id-2 {\n",
       "  /* Definition of color scheme common for light and dark mode */\n",
       "  --sklearn-color-text: #000;\n",
       "  --sklearn-color-text-muted: #666;\n",
       "  --sklearn-color-line: gray;\n",
       "  /* Definition of color scheme for unfitted estimators */\n",
       "  --sklearn-color-unfitted-level-0: #fff5e6;\n",
       "  --sklearn-color-unfitted-level-1: #f6e4d2;\n",
       "  --sklearn-color-unfitted-level-2: #ffe0b3;\n",
       "  --sklearn-color-unfitted-level-3: chocolate;\n",
       "  /* Definition of color scheme for fitted estimators */\n",
       "  --sklearn-color-fitted-level-0: #f0f8ff;\n",
       "  --sklearn-color-fitted-level-1: #d4ebff;\n",
       "  --sklearn-color-fitted-level-2: #b3dbfd;\n",
       "  --sklearn-color-fitted-level-3: cornflowerblue;\n",
       "\n",
       "  /* Specific color for light theme */\n",
       "  --sklearn-color-text-on-default-background: var(--sg-text-color, var(--theme-code-foreground, var(--jp-content-font-color1, black)));\n",
       "  --sklearn-color-background: var(--sg-background-color, var(--theme-background, var(--jp-layout-color0, white)));\n",
       "  --sklearn-color-border-box: var(--sg-text-color, var(--theme-code-foreground, var(--jp-content-font-color1, black)));\n",
       "  --sklearn-color-icon: #696969;\n",
       "\n",
       "  @media (prefers-color-scheme: dark) {\n",
       "    /* Redefinition of color scheme for dark theme */\n",
       "    --sklearn-color-text-on-default-background: var(--sg-text-color, var(--theme-code-foreground, var(--jp-content-font-color1, white)));\n",
       "    --sklearn-color-background: var(--sg-background-color, var(--theme-background, var(--jp-layout-color0, #111)));\n",
       "    --sklearn-color-border-box: var(--sg-text-color, var(--theme-code-foreground, var(--jp-content-font-color1, white)));\n",
       "    --sklearn-color-icon: #878787;\n",
       "  }\n",
       "}\n",
       "\n",
       "#sk-container-id-2 {\n",
       "  color: var(--sklearn-color-text);\n",
       "}\n",
       "\n",
       "#sk-container-id-2 pre {\n",
       "  padding: 0;\n",
       "}\n",
       "\n",
       "#sk-container-id-2 input.sk-hidden--visually {\n",
       "  border: 0;\n",
       "  clip: rect(1px 1px 1px 1px);\n",
       "  clip: rect(1px, 1px, 1px, 1px);\n",
       "  height: 1px;\n",
       "  margin: -1px;\n",
       "  overflow: hidden;\n",
       "  padding: 0;\n",
       "  position: absolute;\n",
       "  width: 1px;\n",
       "}\n",
       "\n",
       "#sk-container-id-2 div.sk-dashed-wrapped {\n",
       "  border: 1px dashed var(--sklearn-color-line);\n",
       "  margin: 0 0.4em 0.5em 0.4em;\n",
       "  box-sizing: border-box;\n",
       "  padding-bottom: 0.4em;\n",
       "  background-color: var(--sklearn-color-background);\n",
       "}\n",
       "\n",
       "#sk-container-id-2 div.sk-container {\n",
       "  /* jupyter's `normalize.less` sets `[hidden] { display: none; }`\n",
       "     but bootstrap.min.css set `[hidden] { display: none !important; }`\n",
       "     so we also need the `!important` here to be able to override the\n",
       "     default hidden behavior on the sphinx rendered scikit-learn.org.\n",
       "     See: https://github.com/scikit-learn/scikit-learn/issues/21755 */\n",
       "  display: inline-block !important;\n",
       "  position: relative;\n",
       "}\n",
       "\n",
       "#sk-container-id-2 div.sk-text-repr-fallback {\n",
       "  display: none;\n",
       "}\n",
       "\n",
       "div.sk-parallel-item,\n",
       "div.sk-serial,\n",
       "div.sk-item {\n",
       "  /* draw centered vertical line to link estimators */\n",
       "  background-image: linear-gradient(var(--sklearn-color-text-on-default-background), var(--sklearn-color-text-on-default-background));\n",
       "  background-size: 2px 100%;\n",
       "  background-repeat: no-repeat;\n",
       "  background-position: center center;\n",
       "}\n",
       "\n",
       "/* Parallel-specific style estimator block */\n",
       "\n",
       "#sk-container-id-2 div.sk-parallel-item::after {\n",
       "  content: \"\";\n",
       "  width: 100%;\n",
       "  border-bottom: 2px solid var(--sklearn-color-text-on-default-background);\n",
       "  flex-grow: 1;\n",
       "}\n",
       "\n",
       "#sk-container-id-2 div.sk-parallel {\n",
       "  display: flex;\n",
       "  align-items: stretch;\n",
       "  justify-content: center;\n",
       "  background-color: var(--sklearn-color-background);\n",
       "  position: relative;\n",
       "}\n",
       "\n",
       "#sk-container-id-2 div.sk-parallel-item {\n",
       "  display: flex;\n",
       "  flex-direction: column;\n",
       "}\n",
       "\n",
       "#sk-container-id-2 div.sk-parallel-item:first-child::after {\n",
       "  align-self: flex-end;\n",
       "  width: 50%;\n",
       "}\n",
       "\n",
       "#sk-container-id-2 div.sk-parallel-item:last-child::after {\n",
       "  align-self: flex-start;\n",
       "  width: 50%;\n",
       "}\n",
       "\n",
       "#sk-container-id-2 div.sk-parallel-item:only-child::after {\n",
       "  width: 0;\n",
       "}\n",
       "\n",
       "/* Serial-specific style estimator block */\n",
       "\n",
       "#sk-container-id-2 div.sk-serial {\n",
       "  display: flex;\n",
       "  flex-direction: column;\n",
       "  align-items: center;\n",
       "  background-color: var(--sklearn-color-background);\n",
       "  padding-right: 1em;\n",
       "  padding-left: 1em;\n",
       "}\n",
       "\n",
       "\n",
       "/* Toggleable style: style used for estimator/Pipeline/ColumnTransformer box that is\n",
       "clickable and can be expanded/collapsed.\n",
       "- Pipeline and ColumnTransformer use this feature and define the default style\n",
       "- Estimators will overwrite some part of the style using the `sk-estimator` class\n",
       "*/\n",
       "\n",
       "/* Pipeline and ColumnTransformer style (default) */\n",
       "\n",
       "#sk-container-id-2 div.sk-toggleable {\n",
       "  /* Default theme specific background. It is overwritten whether we have a\n",
       "  specific estimator or a Pipeline/ColumnTransformer */\n",
       "  background-color: var(--sklearn-color-background);\n",
       "}\n",
       "\n",
       "/* Toggleable label */\n",
       "#sk-container-id-2 label.sk-toggleable__label {\n",
       "  cursor: pointer;\n",
       "  display: flex;\n",
       "  width: 100%;\n",
       "  margin-bottom: 0;\n",
       "  padding: 0.5em;\n",
       "  box-sizing: border-box;\n",
       "  text-align: center;\n",
       "  align-items: start;\n",
       "  justify-content: space-between;\n",
       "  gap: 0.5em;\n",
       "}\n",
       "\n",
       "#sk-container-id-2 label.sk-toggleable__label .caption {\n",
       "  font-size: 0.6rem;\n",
       "  font-weight: lighter;\n",
       "  color: var(--sklearn-color-text-muted);\n",
       "}\n",
       "\n",
       "#sk-container-id-2 label.sk-toggleable__label-arrow:before {\n",
       "  /* Arrow on the left of the label */\n",
       "  content: \"▸\";\n",
       "  float: left;\n",
       "  margin-right: 0.25em;\n",
       "  color: var(--sklearn-color-icon);\n",
       "}\n",
       "\n",
       "#sk-container-id-2 label.sk-toggleable__label-arrow:hover:before {\n",
       "  color: var(--sklearn-color-text);\n",
       "}\n",
       "\n",
       "/* Toggleable content - dropdown */\n",
       "\n",
       "#sk-container-id-2 div.sk-toggleable__content {\n",
       "  max-height: 0;\n",
       "  max-width: 0;\n",
       "  overflow: hidden;\n",
       "  text-align: left;\n",
       "  /* unfitted */\n",
       "  background-color: var(--sklearn-color-unfitted-level-0);\n",
       "}\n",
       "\n",
       "#sk-container-id-2 div.sk-toggleable__content.fitted {\n",
       "  /* fitted */\n",
       "  background-color: var(--sklearn-color-fitted-level-0);\n",
       "}\n",
       "\n",
       "#sk-container-id-2 div.sk-toggleable__content pre {\n",
       "  margin: 0.2em;\n",
       "  border-radius: 0.25em;\n",
       "  color: var(--sklearn-color-text);\n",
       "  /* unfitted */\n",
       "  background-color: var(--sklearn-color-unfitted-level-0);\n",
       "}\n",
       "\n",
       "#sk-container-id-2 div.sk-toggleable__content.fitted pre {\n",
       "  /* unfitted */\n",
       "  background-color: var(--sklearn-color-fitted-level-0);\n",
       "}\n",
       "\n",
       "#sk-container-id-2 input.sk-toggleable__control:checked~div.sk-toggleable__content {\n",
       "  /* Expand drop-down */\n",
       "  max-height: 200px;\n",
       "  max-width: 100%;\n",
       "  overflow: auto;\n",
       "}\n",
       "\n",
       "#sk-container-id-2 input.sk-toggleable__control:checked~label.sk-toggleable__label-arrow:before {\n",
       "  content: \"▾\";\n",
       "}\n",
       "\n",
       "/* Pipeline/ColumnTransformer-specific style */\n",
       "\n",
       "#sk-container-id-2 div.sk-label input.sk-toggleable__control:checked~label.sk-toggleable__label {\n",
       "  color: var(--sklearn-color-text);\n",
       "  background-color: var(--sklearn-color-unfitted-level-2);\n",
       "}\n",
       "\n",
       "#sk-container-id-2 div.sk-label.fitted input.sk-toggleable__control:checked~label.sk-toggleable__label {\n",
       "  background-color: var(--sklearn-color-fitted-level-2);\n",
       "}\n",
       "\n",
       "/* Estimator-specific style */\n",
       "\n",
       "/* Colorize estimator box */\n",
       "#sk-container-id-2 div.sk-estimator input.sk-toggleable__control:checked~label.sk-toggleable__label {\n",
       "  /* unfitted */\n",
       "  background-color: var(--sklearn-color-unfitted-level-2);\n",
       "}\n",
       "\n",
       "#sk-container-id-2 div.sk-estimator.fitted input.sk-toggleable__control:checked~label.sk-toggleable__label {\n",
       "  /* fitted */\n",
       "  background-color: var(--sklearn-color-fitted-level-2);\n",
       "}\n",
       "\n",
       "#sk-container-id-2 div.sk-label label.sk-toggleable__label,\n",
       "#sk-container-id-2 div.sk-label label {\n",
       "  /* The background is the default theme color */\n",
       "  color: var(--sklearn-color-text-on-default-background);\n",
       "}\n",
       "\n",
       "/* On hover, darken the color of the background */\n",
       "#sk-container-id-2 div.sk-label:hover label.sk-toggleable__label {\n",
       "  color: var(--sklearn-color-text);\n",
       "  background-color: var(--sklearn-color-unfitted-level-2);\n",
       "}\n",
       "\n",
       "/* Label box, darken color on hover, fitted */\n",
       "#sk-container-id-2 div.sk-label.fitted:hover label.sk-toggleable__label.fitted {\n",
       "  color: var(--sklearn-color-text);\n",
       "  background-color: var(--sklearn-color-fitted-level-2);\n",
       "}\n",
       "\n",
       "/* Estimator label */\n",
       "\n",
       "#sk-container-id-2 div.sk-label label {\n",
       "  font-family: monospace;\n",
       "  font-weight: bold;\n",
       "  display: inline-block;\n",
       "  line-height: 1.2em;\n",
       "}\n",
       "\n",
       "#sk-container-id-2 div.sk-label-container {\n",
       "  text-align: center;\n",
       "}\n",
       "\n",
       "/* Estimator-specific */\n",
       "#sk-container-id-2 div.sk-estimator {\n",
       "  font-family: monospace;\n",
       "  border: 1px dotted var(--sklearn-color-border-box);\n",
       "  border-radius: 0.25em;\n",
       "  box-sizing: border-box;\n",
       "  margin-bottom: 0.5em;\n",
       "  /* unfitted */\n",
       "  background-color: var(--sklearn-color-unfitted-level-0);\n",
       "}\n",
       "\n",
       "#sk-container-id-2 div.sk-estimator.fitted {\n",
       "  /* fitted */\n",
       "  background-color: var(--sklearn-color-fitted-level-0);\n",
       "}\n",
       "\n",
       "/* on hover */\n",
       "#sk-container-id-2 div.sk-estimator:hover {\n",
       "  /* unfitted */\n",
       "  background-color: var(--sklearn-color-unfitted-level-2);\n",
       "}\n",
       "\n",
       "#sk-container-id-2 div.sk-estimator.fitted:hover {\n",
       "  /* fitted */\n",
       "  background-color: var(--sklearn-color-fitted-level-2);\n",
       "}\n",
       "\n",
       "/* Specification for estimator info (e.g. \"i\" and \"?\") */\n",
       "\n",
       "/* Common style for \"i\" and \"?\" */\n",
       "\n",
       ".sk-estimator-doc-link,\n",
       "a:link.sk-estimator-doc-link,\n",
       "a:visited.sk-estimator-doc-link {\n",
       "  float: right;\n",
       "  font-size: smaller;\n",
       "  line-height: 1em;\n",
       "  font-family: monospace;\n",
       "  background-color: var(--sklearn-color-background);\n",
       "  border-radius: 1em;\n",
       "  height: 1em;\n",
       "  width: 1em;\n",
       "  text-decoration: none !important;\n",
       "  margin-left: 0.5em;\n",
       "  text-align: center;\n",
       "  /* unfitted */\n",
       "  border: var(--sklearn-color-unfitted-level-1) 1pt solid;\n",
       "  color: var(--sklearn-color-unfitted-level-1);\n",
       "}\n",
       "\n",
       ".sk-estimator-doc-link.fitted,\n",
       "a:link.sk-estimator-doc-link.fitted,\n",
       "a:visited.sk-estimator-doc-link.fitted {\n",
       "  /* fitted */\n",
       "  border: var(--sklearn-color-fitted-level-1) 1pt solid;\n",
       "  color: var(--sklearn-color-fitted-level-1);\n",
       "}\n",
       "\n",
       "/* On hover */\n",
       "div.sk-estimator:hover .sk-estimator-doc-link:hover,\n",
       ".sk-estimator-doc-link:hover,\n",
       "div.sk-label-container:hover .sk-estimator-doc-link:hover,\n",
       ".sk-estimator-doc-link:hover {\n",
       "  /* unfitted */\n",
       "  background-color: var(--sklearn-color-unfitted-level-3);\n",
       "  color: var(--sklearn-color-background);\n",
       "  text-decoration: none;\n",
       "}\n",
       "\n",
       "div.sk-estimator.fitted:hover .sk-estimator-doc-link.fitted:hover,\n",
       ".sk-estimator-doc-link.fitted:hover,\n",
       "div.sk-label-container:hover .sk-estimator-doc-link.fitted:hover,\n",
       ".sk-estimator-doc-link.fitted:hover {\n",
       "  /* fitted */\n",
       "  background-color: var(--sklearn-color-fitted-level-3);\n",
       "  color: var(--sklearn-color-background);\n",
       "  text-decoration: none;\n",
       "}\n",
       "\n",
       "/* Span, style for the box shown on hovering the info icon */\n",
       ".sk-estimator-doc-link span {\n",
       "  display: none;\n",
       "  z-index: 9999;\n",
       "  position: relative;\n",
       "  font-weight: normal;\n",
       "  right: .2ex;\n",
       "  padding: .5ex;\n",
       "  margin: .5ex;\n",
       "  width: min-content;\n",
       "  min-width: 20ex;\n",
       "  max-width: 50ex;\n",
       "  color: var(--sklearn-color-text);\n",
       "  box-shadow: 2pt 2pt 4pt #999;\n",
       "  /* unfitted */\n",
       "  background: var(--sklearn-color-unfitted-level-0);\n",
       "  border: .5pt solid var(--sklearn-color-unfitted-level-3);\n",
       "}\n",
       "\n",
       ".sk-estimator-doc-link.fitted span {\n",
       "  /* fitted */\n",
       "  background: var(--sklearn-color-fitted-level-0);\n",
       "  border: var(--sklearn-color-fitted-level-3);\n",
       "}\n",
       "\n",
       ".sk-estimator-doc-link:hover span {\n",
       "  display: block;\n",
       "}\n",
       "\n",
       "/* \"?\"-specific style due to the `<a>` HTML tag */\n",
       "\n",
       "#sk-container-id-2 a.estimator_doc_link {\n",
       "  float: right;\n",
       "  font-size: 1rem;\n",
       "  line-height: 1em;\n",
       "  font-family: monospace;\n",
       "  background-color: var(--sklearn-color-background);\n",
       "  border-radius: 1rem;\n",
       "  height: 1rem;\n",
       "  width: 1rem;\n",
       "  text-decoration: none;\n",
       "  /* unfitted */\n",
       "  color: var(--sklearn-color-unfitted-level-1);\n",
       "  border: var(--sklearn-color-unfitted-level-1) 1pt solid;\n",
       "}\n",
       "\n",
       "#sk-container-id-2 a.estimator_doc_link.fitted {\n",
       "  /* fitted */\n",
       "  border: var(--sklearn-color-fitted-level-1) 1pt solid;\n",
       "  color: var(--sklearn-color-fitted-level-1);\n",
       "}\n",
       "\n",
       "/* On hover */\n",
       "#sk-container-id-2 a.estimator_doc_link:hover {\n",
       "  /* unfitted */\n",
       "  background-color: var(--sklearn-color-unfitted-level-3);\n",
       "  color: var(--sklearn-color-background);\n",
       "  text-decoration: none;\n",
       "}\n",
       "\n",
       "#sk-container-id-2 a.estimator_doc_link.fitted:hover {\n",
       "  /* fitted */\n",
       "  background-color: var(--sklearn-color-fitted-level-3);\n",
       "}\n",
       "</style><div id=\"sk-container-id-2\" class=\"sk-top-container\"><div class=\"sk-text-repr-fallback\"><pre>KNeighborsClassifier()</pre><b>In a Jupyter environment, please rerun this cell to show the HTML representation or trust the notebook. <br />On GitHub, the HTML representation is unable to render, please try loading this page with nbviewer.org.</b></div><div class=\"sk-container\" hidden><div class=\"sk-item\"><div class=\"sk-estimator fitted sk-toggleable\"><input class=\"sk-toggleable__control sk-hidden--visually\" id=\"sk-estimator-id-2\" type=\"checkbox\" checked><label for=\"sk-estimator-id-2\" class=\"sk-toggleable__label fitted sk-toggleable__label-arrow\"><div><div>KNeighborsClassifier</div></div><div><a class=\"sk-estimator-doc-link fitted\" rel=\"noreferrer\" target=\"_blank\" href=\"https://scikit-learn.org/1.6/modules/generated/sklearn.neighbors.KNeighborsClassifier.html\">?<span>Documentation for KNeighborsClassifier</span></a><span class=\"sk-estimator-doc-link fitted\">i<span>Fitted</span></span></div></label><div class=\"sk-toggleable__content fitted\"><pre>KNeighborsClassifier()</pre></div> </div></div></div></div>"
      ]
     },
     "execution_count": 27,
     "metadata": {},
     "output_type": "execute_result"
    }
   ],
   "execution_count": 27
  },
  {
   "cell_type": "markdown",
   "id": "5f118ed1",
   "metadata": {
    "id": "5f118ed1"
   },
   "source": [
    "**Create and print the Prediction Dataframe.**"
   ]
  },
  {
   "cell_type": "code",
   "execution_count": null,
   "id": "5d5ba9b5",
   "metadata": {
    "id": "5d5ba9b5"
   },
   "outputs": [],
   "source": [
    "#ENTER YOUR CODE HERE"
   ]
  },
  {
   "cell_type": "code",
   "id": "2432aec4",
   "metadata": {
    "colab": {
     "base_uri": "https://localhost:8080/",
     "height": 423
    },
    "id": "2432aec4",
    "outputId": "0ee9643e-fe72-4a81-c384-d9bcf244c7a6",
    "ExecuteTime": {
     "end_time": "2025-06-27T13:24:59.295494Z",
     "start_time": "2025-06-27T13:24:59.250422Z"
    }
   },
   "source": [
    "df_predicted = pd.DataFrame(knn_model.predict(features_test), columns=['Dominant_Emotion_Encoded_Predicted'])\n",
    "print(df_predicted)"
   ],
   "outputs": [
    {
     "name": "stdout",
     "output_type": "stream",
     "text": [
      "     Dominant_Emotion_Encoded_Predicted\n",
      "0                                     5\n",
      "1                                     1\n",
      "2                                     5\n",
      "3                                     2\n",
      "4                                     0\n",
      "..                                  ...\n",
      "180                                   1\n",
      "181                                   0\n",
      "182                                   1\n",
      "183                                   4\n",
      "184                                   3\n",
      "\n",
      "[185 rows x 1 columns]\n"
     ]
    }
   ],
   "execution_count": 28
  },
  {
   "cell_type": "markdown",
   "id": "689d81a6",
   "metadata": {
    "id": "689d81a6"
   },
   "source": [
    "I'm guessing you notice the issue. These are not our original labels!\n",
    "\n",
    "**Tranform these labels using the encoder you had created while encoding 'Dominant_Emotion'.**"
   ]
  },
  {
   "cell_type": "code",
   "execution_count": null,
   "id": "93cd6d8f",
   "metadata": {
    "id": "93cd6d8f"
   },
   "outputs": [],
   "source": [
    "#ENTER YOUR CODE HERE"
   ]
  },
  {
   "cell_type": "code",
   "id": "4479f70f",
   "metadata": {
    "colab": {
     "base_uri": "https://localhost:8080/"
    },
    "id": "4479f70f",
    "outputId": "59ec981a-2276-4feb-dfc3-38e8b57c2a1e",
    "ExecuteTime": {
     "end_time": "2025-06-27T13:25:45.708198Z",
     "start_time": "2025-06-27T13:25:45.702076Z"
    }
   },
   "source": [
    "df_predicted['Dominant_Emotion_Predicted'] = encoder.inverse_transform(df_predicted['Dominant_Emotion_Encoded_Predicted'])\n",
    "df_predicted.drop(columns=['Dominant_Emotion_Encoded_Predicted'], inplace=True)\n",
    "df_predicted.head()"
   ],
   "outputs": [
    {
     "data": {
      "text/plain": [
       "  Dominant_Emotion_Predicted\n",
       "0                    Sadness\n",
       "1                    Anxiety\n",
       "2                    Sadness\n",
       "3                    Boredom\n",
       "4                      Anger"
      ],
      "text/html": [
       "<div>\n",
       "<style scoped>\n",
       "    .dataframe tbody tr th:only-of-type {\n",
       "        vertical-align: middle;\n",
       "    }\n",
       "\n",
       "    .dataframe tbody tr th {\n",
       "        vertical-align: top;\n",
       "    }\n",
       "\n",
       "    .dataframe thead th {\n",
       "        text-align: right;\n",
       "    }\n",
       "</style>\n",
       "<table border=\"1\" class=\"dataframe\">\n",
       "  <thead>\n",
       "    <tr style=\"text-align: right;\">\n",
       "      <th></th>\n",
       "      <th>Dominant_Emotion_Predicted</th>\n",
       "    </tr>\n",
       "  </thead>\n",
       "  <tbody>\n",
       "    <tr>\n",
       "      <th>0</th>\n",
       "      <td>Sadness</td>\n",
       "    </tr>\n",
       "    <tr>\n",
       "      <th>1</th>\n",
       "      <td>Anxiety</td>\n",
       "    </tr>\n",
       "    <tr>\n",
       "      <th>2</th>\n",
       "      <td>Sadness</td>\n",
       "    </tr>\n",
       "    <tr>\n",
       "      <th>3</th>\n",
       "      <td>Boredom</td>\n",
       "    </tr>\n",
       "    <tr>\n",
       "      <th>4</th>\n",
       "      <td>Anger</td>\n",
       "    </tr>\n",
       "  </tbody>\n",
       "</table>\n",
       "</div>"
      ]
     },
     "execution_count": 29,
     "metadata": {},
     "output_type": "execute_result"
    }
   ],
   "execution_count": 29
  },
  {
   "cell_type": "markdown",
   "id": "a7f07660",
   "metadata": {
    "id": "a7f07660"
   },
   "source": [
    "**Now print the relevant metrics! Don't forget to get original y_test first!**"
   ]
  },
  {
   "cell_type": "code",
   "execution_count": null,
   "id": "72f8f643",
   "metadata": {
    "id": "72f8f643"
   },
   "outputs": [],
   "source": [
    "#ENTER YOUR CODE HERE"
   ]
  },
  {
   "metadata": {
    "ExecuteTime": {
     "end_time": "2025-06-27T13:25:50.653372Z",
     "start_time": "2025-06-27T13:25:50.644717Z"
    }
   },
   "cell_type": "code",
   "source": [
    "labels_test = pd.DataFrame(labels_test)\n",
    "labels_test['Dominant_Emotion'] = encoder.inverse_transform(labels_test)\n",
    "accuracy_knn = accuracy_score(labels_test['Dominant_Emotion'], df_predicted['Dominant_Emotion_Predicted'])\n",
    "print(f'Accuracy of the KNN model is: {accuracy_knn:}')"
   ],
   "id": "d8251a930f44a218",
   "outputs": [
    {
     "name": "stdout",
     "output_type": "stream",
     "text": [
      "Accuracy of the KNN model is: 0.9675675675675676\n"
     ]
    },
    {
     "name": "stderr",
     "output_type": "stream",
     "text": [
      "/home/bharat/PycharmProjects/Pulpnet/.venv/lib/python3.10/site-packages/sklearn/preprocessing/_label.py:151: DataConversionWarning: A column-vector y was passed when a 1d array was expected. Please change the shape of y to (n_samples, ), for example using ravel().\n",
      "  y = column_or_1d(y, warn=True)\n"
     ]
    }
   ],
   "execution_count": 30
  },
  {
   "cell_type": "markdown",
   "id": "0d960f22",
   "metadata": {
    "id": "0d960f22"
   },
   "source": [
    "**That's a good model!**\n",
    "\n",
    "Since it's multi-class classification, traditional metrics like precision and recall won't work. We'll judge our model using a confusion matrix and classification report!\n",
    "\n",
    "**Import the module for confusion matrix and classification report, and print them.**"
   ]
  },
  {
   "cell_type": "code",
   "execution_count": null,
   "id": "4c830ac8",
   "metadata": {
    "id": "4c830ac8"
   },
   "outputs": [],
   "source": [
    "#ENTER YOUR CODE HERE"
   ]
  },
  {
   "cell_type": "code",
   "id": "690eb85f",
   "metadata": {
    "colab": {
     "base_uri": "https://localhost:8080/"
    },
    "id": "690eb85f",
    "outputId": "cf8fdbba-541b-4d7b-d133-587fee59a3cb",
    "ExecuteTime": {
     "end_time": "2025-06-27T13:25:54.501078Z",
     "start_time": "2025-06-27T13:25:54.483374Z"
    }
   },
   "source": [
    "print(\"The confusion matrix is:\")\n",
    "print(confusion_matrix(labels_test['Dominant_Emotion'], df_predicted['Dominant_Emotion_Predicted']))\n",
    "print(\"\\nThe classification report is:\")\n",
    "print(classification_report(labels_test['Dominant_Emotion'], df_predicted['Dominant_Emotion_Predicted']))"
   ],
   "outputs": [
    {
     "name": "stdout",
     "output_type": "stream",
     "text": [
      "The confusion matrix is:\n",
      "[[29  1  0  0  0  0]\n",
      " [ 0 29  0  1  1  1]\n",
      " [ 0  0 21  0  0  0]\n",
      " [ 0  0  0 39  0  0]\n",
      " [ 0  0  0  0 31  0]\n",
      " [ 0  0  1  0  1 30]]\n",
      "\n",
      "The classification report is:\n",
      "              precision    recall  f1-score   support\n",
      "\n",
      "       Anger       1.00      0.97      0.98        30\n",
      "     Anxiety       0.97      0.91      0.94        32\n",
      "     Boredom       0.95      1.00      0.98        21\n",
      "   Happiness       0.97      1.00      0.99        39\n",
      "     Neutral       0.94      1.00      0.97        31\n",
      "     Sadness       0.97      0.94      0.95        32\n",
      "\n",
      "    accuracy                           0.97       185\n",
      "   macro avg       0.97      0.97      0.97       185\n",
      "weighted avg       0.97      0.97      0.97       185\n",
      "\n"
     ]
    }
   ],
   "execution_count": 31
  },
  {
   "cell_type": "markdown",
   "id": "32c6beaa",
   "metadata": {
    "id": "32c6beaa"
   },
   "source": [
    "We already have our training and test datasets ready, lets train some other models.\n",
    "\n",
    "**Import Naive Bayes**"
   ]
  },
  {
   "cell_type": "code",
   "execution_count": null,
   "id": "435cfa40",
   "metadata": {
    "id": "435cfa40"
   },
   "outputs": [],
   "source": [
    "#ENTER YOUR CODE HERE"
   ]
  },
  {
   "cell_type": "markdown",
   "id": "7fc1b376",
   "metadata": {
    "id": "7fc1b376"
   },
   "source": [
    "**Now instantiate and fit a model.**"
   ]
  },
  {
   "cell_type": "code",
   "execution_count": null,
   "id": "83e4e7f0",
   "metadata": {
    "id": "83e4e7f0"
   },
   "outputs": [],
   "source": [
    "#ENTER YOUR CODE HERE"
   ]
  },
  {
   "cell_type": "code",
   "id": "bd78b2d4",
   "metadata": {
    "colab": {
     "base_uri": "https://localhost:8080/",
     "height": 74
    },
    "id": "bd78b2d4",
    "outputId": "cf11782f-3682-412c-d08e-2774aa5c53fa",
    "ExecuteTime": {
     "end_time": "2025-06-27T13:26:09.643881Z",
     "start_time": "2025-06-27T13:26:09.631930Z"
    }
   },
   "source": [
    "nb_model = GaussianNB()\n",
    "nb_model.fit(features_train, labels_train)"
   ],
   "outputs": [
    {
     "data": {
      "text/plain": [
       "GaussianNB()"
      ],
      "text/html": [
       "<style>#sk-container-id-3 {\n",
       "  /* Definition of color scheme common for light and dark mode */\n",
       "  --sklearn-color-text: #000;\n",
       "  --sklearn-color-text-muted: #666;\n",
       "  --sklearn-color-line: gray;\n",
       "  /* Definition of color scheme for unfitted estimators */\n",
       "  --sklearn-color-unfitted-level-0: #fff5e6;\n",
       "  --sklearn-color-unfitted-level-1: #f6e4d2;\n",
       "  --sklearn-color-unfitted-level-2: #ffe0b3;\n",
       "  --sklearn-color-unfitted-level-3: chocolate;\n",
       "  /* Definition of color scheme for fitted estimators */\n",
       "  --sklearn-color-fitted-level-0: #f0f8ff;\n",
       "  --sklearn-color-fitted-level-1: #d4ebff;\n",
       "  --sklearn-color-fitted-level-2: #b3dbfd;\n",
       "  --sklearn-color-fitted-level-3: cornflowerblue;\n",
       "\n",
       "  /* Specific color for light theme */\n",
       "  --sklearn-color-text-on-default-background: var(--sg-text-color, var(--theme-code-foreground, var(--jp-content-font-color1, black)));\n",
       "  --sklearn-color-background: var(--sg-background-color, var(--theme-background, var(--jp-layout-color0, white)));\n",
       "  --sklearn-color-border-box: var(--sg-text-color, var(--theme-code-foreground, var(--jp-content-font-color1, black)));\n",
       "  --sklearn-color-icon: #696969;\n",
       "\n",
       "  @media (prefers-color-scheme: dark) {\n",
       "    /* Redefinition of color scheme for dark theme */\n",
       "    --sklearn-color-text-on-default-background: var(--sg-text-color, var(--theme-code-foreground, var(--jp-content-font-color1, white)));\n",
       "    --sklearn-color-background: var(--sg-background-color, var(--theme-background, var(--jp-layout-color0, #111)));\n",
       "    --sklearn-color-border-box: var(--sg-text-color, var(--theme-code-foreground, var(--jp-content-font-color1, white)));\n",
       "    --sklearn-color-icon: #878787;\n",
       "  }\n",
       "}\n",
       "\n",
       "#sk-container-id-3 {\n",
       "  color: var(--sklearn-color-text);\n",
       "}\n",
       "\n",
       "#sk-container-id-3 pre {\n",
       "  padding: 0;\n",
       "}\n",
       "\n",
       "#sk-container-id-3 input.sk-hidden--visually {\n",
       "  border: 0;\n",
       "  clip: rect(1px 1px 1px 1px);\n",
       "  clip: rect(1px, 1px, 1px, 1px);\n",
       "  height: 1px;\n",
       "  margin: -1px;\n",
       "  overflow: hidden;\n",
       "  padding: 0;\n",
       "  position: absolute;\n",
       "  width: 1px;\n",
       "}\n",
       "\n",
       "#sk-container-id-3 div.sk-dashed-wrapped {\n",
       "  border: 1px dashed var(--sklearn-color-line);\n",
       "  margin: 0 0.4em 0.5em 0.4em;\n",
       "  box-sizing: border-box;\n",
       "  padding-bottom: 0.4em;\n",
       "  background-color: var(--sklearn-color-background);\n",
       "}\n",
       "\n",
       "#sk-container-id-3 div.sk-container {\n",
       "  /* jupyter's `normalize.less` sets `[hidden] { display: none; }`\n",
       "     but bootstrap.min.css set `[hidden] { display: none !important; }`\n",
       "     so we also need the `!important` here to be able to override the\n",
       "     default hidden behavior on the sphinx rendered scikit-learn.org.\n",
       "     See: https://github.com/scikit-learn/scikit-learn/issues/21755 */\n",
       "  display: inline-block !important;\n",
       "  position: relative;\n",
       "}\n",
       "\n",
       "#sk-container-id-3 div.sk-text-repr-fallback {\n",
       "  display: none;\n",
       "}\n",
       "\n",
       "div.sk-parallel-item,\n",
       "div.sk-serial,\n",
       "div.sk-item {\n",
       "  /* draw centered vertical line to link estimators */\n",
       "  background-image: linear-gradient(var(--sklearn-color-text-on-default-background), var(--sklearn-color-text-on-default-background));\n",
       "  background-size: 2px 100%;\n",
       "  background-repeat: no-repeat;\n",
       "  background-position: center center;\n",
       "}\n",
       "\n",
       "/* Parallel-specific style estimator block */\n",
       "\n",
       "#sk-container-id-3 div.sk-parallel-item::after {\n",
       "  content: \"\";\n",
       "  width: 100%;\n",
       "  border-bottom: 2px solid var(--sklearn-color-text-on-default-background);\n",
       "  flex-grow: 1;\n",
       "}\n",
       "\n",
       "#sk-container-id-3 div.sk-parallel {\n",
       "  display: flex;\n",
       "  align-items: stretch;\n",
       "  justify-content: center;\n",
       "  background-color: var(--sklearn-color-background);\n",
       "  position: relative;\n",
       "}\n",
       "\n",
       "#sk-container-id-3 div.sk-parallel-item {\n",
       "  display: flex;\n",
       "  flex-direction: column;\n",
       "}\n",
       "\n",
       "#sk-container-id-3 div.sk-parallel-item:first-child::after {\n",
       "  align-self: flex-end;\n",
       "  width: 50%;\n",
       "}\n",
       "\n",
       "#sk-container-id-3 div.sk-parallel-item:last-child::after {\n",
       "  align-self: flex-start;\n",
       "  width: 50%;\n",
       "}\n",
       "\n",
       "#sk-container-id-3 div.sk-parallel-item:only-child::after {\n",
       "  width: 0;\n",
       "}\n",
       "\n",
       "/* Serial-specific style estimator block */\n",
       "\n",
       "#sk-container-id-3 div.sk-serial {\n",
       "  display: flex;\n",
       "  flex-direction: column;\n",
       "  align-items: center;\n",
       "  background-color: var(--sklearn-color-background);\n",
       "  padding-right: 1em;\n",
       "  padding-left: 1em;\n",
       "}\n",
       "\n",
       "\n",
       "/* Toggleable style: style used for estimator/Pipeline/ColumnTransformer box that is\n",
       "clickable and can be expanded/collapsed.\n",
       "- Pipeline and ColumnTransformer use this feature and define the default style\n",
       "- Estimators will overwrite some part of the style using the `sk-estimator` class\n",
       "*/\n",
       "\n",
       "/* Pipeline and ColumnTransformer style (default) */\n",
       "\n",
       "#sk-container-id-3 div.sk-toggleable {\n",
       "  /* Default theme specific background. It is overwritten whether we have a\n",
       "  specific estimator or a Pipeline/ColumnTransformer */\n",
       "  background-color: var(--sklearn-color-background);\n",
       "}\n",
       "\n",
       "/* Toggleable label */\n",
       "#sk-container-id-3 label.sk-toggleable__label {\n",
       "  cursor: pointer;\n",
       "  display: flex;\n",
       "  width: 100%;\n",
       "  margin-bottom: 0;\n",
       "  padding: 0.5em;\n",
       "  box-sizing: border-box;\n",
       "  text-align: center;\n",
       "  align-items: start;\n",
       "  justify-content: space-between;\n",
       "  gap: 0.5em;\n",
       "}\n",
       "\n",
       "#sk-container-id-3 label.sk-toggleable__label .caption {\n",
       "  font-size: 0.6rem;\n",
       "  font-weight: lighter;\n",
       "  color: var(--sklearn-color-text-muted);\n",
       "}\n",
       "\n",
       "#sk-container-id-3 label.sk-toggleable__label-arrow:before {\n",
       "  /* Arrow on the left of the label */\n",
       "  content: \"▸\";\n",
       "  float: left;\n",
       "  margin-right: 0.25em;\n",
       "  color: var(--sklearn-color-icon);\n",
       "}\n",
       "\n",
       "#sk-container-id-3 label.sk-toggleable__label-arrow:hover:before {\n",
       "  color: var(--sklearn-color-text);\n",
       "}\n",
       "\n",
       "/* Toggleable content - dropdown */\n",
       "\n",
       "#sk-container-id-3 div.sk-toggleable__content {\n",
       "  max-height: 0;\n",
       "  max-width: 0;\n",
       "  overflow: hidden;\n",
       "  text-align: left;\n",
       "  /* unfitted */\n",
       "  background-color: var(--sklearn-color-unfitted-level-0);\n",
       "}\n",
       "\n",
       "#sk-container-id-3 div.sk-toggleable__content.fitted {\n",
       "  /* fitted */\n",
       "  background-color: var(--sklearn-color-fitted-level-0);\n",
       "}\n",
       "\n",
       "#sk-container-id-3 div.sk-toggleable__content pre {\n",
       "  margin: 0.2em;\n",
       "  border-radius: 0.25em;\n",
       "  color: var(--sklearn-color-text);\n",
       "  /* unfitted */\n",
       "  background-color: var(--sklearn-color-unfitted-level-0);\n",
       "}\n",
       "\n",
       "#sk-container-id-3 div.sk-toggleable__content.fitted pre {\n",
       "  /* unfitted */\n",
       "  background-color: var(--sklearn-color-fitted-level-0);\n",
       "}\n",
       "\n",
       "#sk-container-id-3 input.sk-toggleable__control:checked~div.sk-toggleable__content {\n",
       "  /* Expand drop-down */\n",
       "  max-height: 200px;\n",
       "  max-width: 100%;\n",
       "  overflow: auto;\n",
       "}\n",
       "\n",
       "#sk-container-id-3 input.sk-toggleable__control:checked~label.sk-toggleable__label-arrow:before {\n",
       "  content: \"▾\";\n",
       "}\n",
       "\n",
       "/* Pipeline/ColumnTransformer-specific style */\n",
       "\n",
       "#sk-container-id-3 div.sk-label input.sk-toggleable__control:checked~label.sk-toggleable__label {\n",
       "  color: var(--sklearn-color-text);\n",
       "  background-color: var(--sklearn-color-unfitted-level-2);\n",
       "}\n",
       "\n",
       "#sk-container-id-3 div.sk-label.fitted input.sk-toggleable__control:checked~label.sk-toggleable__label {\n",
       "  background-color: var(--sklearn-color-fitted-level-2);\n",
       "}\n",
       "\n",
       "/* Estimator-specific style */\n",
       "\n",
       "/* Colorize estimator box */\n",
       "#sk-container-id-3 div.sk-estimator input.sk-toggleable__control:checked~label.sk-toggleable__label {\n",
       "  /* unfitted */\n",
       "  background-color: var(--sklearn-color-unfitted-level-2);\n",
       "}\n",
       "\n",
       "#sk-container-id-3 div.sk-estimator.fitted input.sk-toggleable__control:checked~label.sk-toggleable__label {\n",
       "  /* fitted */\n",
       "  background-color: var(--sklearn-color-fitted-level-2);\n",
       "}\n",
       "\n",
       "#sk-container-id-3 div.sk-label label.sk-toggleable__label,\n",
       "#sk-container-id-3 div.sk-label label {\n",
       "  /* The background is the default theme color */\n",
       "  color: var(--sklearn-color-text-on-default-background);\n",
       "}\n",
       "\n",
       "/* On hover, darken the color of the background */\n",
       "#sk-container-id-3 div.sk-label:hover label.sk-toggleable__label {\n",
       "  color: var(--sklearn-color-text);\n",
       "  background-color: var(--sklearn-color-unfitted-level-2);\n",
       "}\n",
       "\n",
       "/* Label box, darken color on hover, fitted */\n",
       "#sk-container-id-3 div.sk-label.fitted:hover label.sk-toggleable__label.fitted {\n",
       "  color: var(--sklearn-color-text);\n",
       "  background-color: var(--sklearn-color-fitted-level-2);\n",
       "}\n",
       "\n",
       "/* Estimator label */\n",
       "\n",
       "#sk-container-id-3 div.sk-label label {\n",
       "  font-family: monospace;\n",
       "  font-weight: bold;\n",
       "  display: inline-block;\n",
       "  line-height: 1.2em;\n",
       "}\n",
       "\n",
       "#sk-container-id-3 div.sk-label-container {\n",
       "  text-align: center;\n",
       "}\n",
       "\n",
       "/* Estimator-specific */\n",
       "#sk-container-id-3 div.sk-estimator {\n",
       "  font-family: monospace;\n",
       "  border: 1px dotted var(--sklearn-color-border-box);\n",
       "  border-radius: 0.25em;\n",
       "  box-sizing: border-box;\n",
       "  margin-bottom: 0.5em;\n",
       "  /* unfitted */\n",
       "  background-color: var(--sklearn-color-unfitted-level-0);\n",
       "}\n",
       "\n",
       "#sk-container-id-3 div.sk-estimator.fitted {\n",
       "  /* fitted */\n",
       "  background-color: var(--sklearn-color-fitted-level-0);\n",
       "}\n",
       "\n",
       "/* on hover */\n",
       "#sk-container-id-3 div.sk-estimator:hover {\n",
       "  /* unfitted */\n",
       "  background-color: var(--sklearn-color-unfitted-level-2);\n",
       "}\n",
       "\n",
       "#sk-container-id-3 div.sk-estimator.fitted:hover {\n",
       "  /* fitted */\n",
       "  background-color: var(--sklearn-color-fitted-level-2);\n",
       "}\n",
       "\n",
       "/* Specification for estimator info (e.g. \"i\" and \"?\") */\n",
       "\n",
       "/* Common style for \"i\" and \"?\" */\n",
       "\n",
       ".sk-estimator-doc-link,\n",
       "a:link.sk-estimator-doc-link,\n",
       "a:visited.sk-estimator-doc-link {\n",
       "  float: right;\n",
       "  font-size: smaller;\n",
       "  line-height: 1em;\n",
       "  font-family: monospace;\n",
       "  background-color: var(--sklearn-color-background);\n",
       "  border-radius: 1em;\n",
       "  height: 1em;\n",
       "  width: 1em;\n",
       "  text-decoration: none !important;\n",
       "  margin-left: 0.5em;\n",
       "  text-align: center;\n",
       "  /* unfitted */\n",
       "  border: var(--sklearn-color-unfitted-level-1) 1pt solid;\n",
       "  color: var(--sklearn-color-unfitted-level-1);\n",
       "}\n",
       "\n",
       ".sk-estimator-doc-link.fitted,\n",
       "a:link.sk-estimator-doc-link.fitted,\n",
       "a:visited.sk-estimator-doc-link.fitted {\n",
       "  /* fitted */\n",
       "  border: var(--sklearn-color-fitted-level-1) 1pt solid;\n",
       "  color: var(--sklearn-color-fitted-level-1);\n",
       "}\n",
       "\n",
       "/* On hover */\n",
       "div.sk-estimator:hover .sk-estimator-doc-link:hover,\n",
       ".sk-estimator-doc-link:hover,\n",
       "div.sk-label-container:hover .sk-estimator-doc-link:hover,\n",
       ".sk-estimator-doc-link:hover {\n",
       "  /* unfitted */\n",
       "  background-color: var(--sklearn-color-unfitted-level-3);\n",
       "  color: var(--sklearn-color-background);\n",
       "  text-decoration: none;\n",
       "}\n",
       "\n",
       "div.sk-estimator.fitted:hover .sk-estimator-doc-link.fitted:hover,\n",
       ".sk-estimator-doc-link.fitted:hover,\n",
       "div.sk-label-container:hover .sk-estimator-doc-link.fitted:hover,\n",
       ".sk-estimator-doc-link.fitted:hover {\n",
       "  /* fitted */\n",
       "  background-color: var(--sklearn-color-fitted-level-3);\n",
       "  color: var(--sklearn-color-background);\n",
       "  text-decoration: none;\n",
       "}\n",
       "\n",
       "/* Span, style for the box shown on hovering the info icon */\n",
       ".sk-estimator-doc-link span {\n",
       "  display: none;\n",
       "  z-index: 9999;\n",
       "  position: relative;\n",
       "  font-weight: normal;\n",
       "  right: .2ex;\n",
       "  padding: .5ex;\n",
       "  margin: .5ex;\n",
       "  width: min-content;\n",
       "  min-width: 20ex;\n",
       "  max-width: 50ex;\n",
       "  color: var(--sklearn-color-text);\n",
       "  box-shadow: 2pt 2pt 4pt #999;\n",
       "  /* unfitted */\n",
       "  background: var(--sklearn-color-unfitted-level-0);\n",
       "  border: .5pt solid var(--sklearn-color-unfitted-level-3);\n",
       "}\n",
       "\n",
       ".sk-estimator-doc-link.fitted span {\n",
       "  /* fitted */\n",
       "  background: var(--sklearn-color-fitted-level-0);\n",
       "  border: var(--sklearn-color-fitted-level-3);\n",
       "}\n",
       "\n",
       ".sk-estimator-doc-link:hover span {\n",
       "  display: block;\n",
       "}\n",
       "\n",
       "/* \"?\"-specific style due to the `<a>` HTML tag */\n",
       "\n",
       "#sk-container-id-3 a.estimator_doc_link {\n",
       "  float: right;\n",
       "  font-size: 1rem;\n",
       "  line-height: 1em;\n",
       "  font-family: monospace;\n",
       "  background-color: var(--sklearn-color-background);\n",
       "  border-radius: 1rem;\n",
       "  height: 1rem;\n",
       "  width: 1rem;\n",
       "  text-decoration: none;\n",
       "  /* unfitted */\n",
       "  color: var(--sklearn-color-unfitted-level-1);\n",
       "  border: var(--sklearn-color-unfitted-level-1) 1pt solid;\n",
       "}\n",
       "\n",
       "#sk-container-id-3 a.estimator_doc_link.fitted {\n",
       "  /* fitted */\n",
       "  border: var(--sklearn-color-fitted-level-1) 1pt solid;\n",
       "  color: var(--sklearn-color-fitted-level-1);\n",
       "}\n",
       "\n",
       "/* On hover */\n",
       "#sk-container-id-3 a.estimator_doc_link:hover {\n",
       "  /* unfitted */\n",
       "  background-color: var(--sklearn-color-unfitted-level-3);\n",
       "  color: var(--sklearn-color-background);\n",
       "  text-decoration: none;\n",
       "}\n",
       "\n",
       "#sk-container-id-3 a.estimator_doc_link.fitted:hover {\n",
       "  /* fitted */\n",
       "  background-color: var(--sklearn-color-fitted-level-3);\n",
       "}\n",
       "</style><div id=\"sk-container-id-3\" class=\"sk-top-container\"><div class=\"sk-text-repr-fallback\"><pre>GaussianNB()</pre><b>In a Jupyter environment, please rerun this cell to show the HTML representation or trust the notebook. <br />On GitHub, the HTML representation is unable to render, please try loading this page with nbviewer.org.</b></div><div class=\"sk-container\" hidden><div class=\"sk-item\"><div class=\"sk-estimator fitted sk-toggleable\"><input class=\"sk-toggleable__control sk-hidden--visually\" id=\"sk-estimator-id-3\" type=\"checkbox\" checked><label for=\"sk-estimator-id-3\" class=\"sk-toggleable__label fitted sk-toggleable__label-arrow\"><div><div>GaussianNB</div></div><div><a class=\"sk-estimator-doc-link fitted\" rel=\"noreferrer\" target=\"_blank\" href=\"https://scikit-learn.org/1.6/modules/generated/sklearn.naive_bayes.GaussianNB.html\">?<span>Documentation for GaussianNB</span></a><span class=\"sk-estimator-doc-link fitted\">i<span>Fitted</span></span></div></label><div class=\"sk-toggleable__content fitted\"><pre>GaussianNB()</pre></div> </div></div></div></div>"
      ]
     },
     "execution_count": 32,
     "metadata": {},
     "output_type": "execute_result"
    }
   ],
   "execution_count": 32
  },
  {
   "cell_type": "markdown",
   "id": "a5b28149",
   "metadata": {
    "id": "a5b28149"
   },
   "source": [
    "**Predict on the test features, and dont forget to inverse transform!**"
   ]
  },
  {
   "cell_type": "code",
   "execution_count": null,
   "id": "b087b88d",
   "metadata": {
    "id": "b087b88d"
   },
   "outputs": [],
   "source": [
    "#ENTER YOUR CODE HERE"
   ]
  },
  {
   "metadata": {
    "ExecuteTime": {
     "end_time": "2025-06-27T13:26:37.405119Z",
     "start_time": "2025-06-27T13:26:37.386875Z"
    }
   },
   "cell_type": "code",
   "source": [
    "df_predicted = pd.DataFrame(nb_model.predict(features_test), columns=['Dominant_Emotion_Encoded_Predicted'])\n",
    "df_predicted['Dominant_Emotion_Predicted'] = encoder.inverse_transform(df_predicted['Dominant_Emotion_Encoded_Predicted'])\n",
    "df_predicted.head()"
   ],
   "id": "ba7214742daceaa4",
   "outputs": [
    {
     "data": {
      "text/plain": [
       "   Dominant_Emotion_Encoded_Predicted Dominant_Emotion_Predicted\n",
       "0                                   0                      Anger\n",
       "1                                   2                    Boredom\n",
       "2                                   0                      Anger\n",
       "3                                   2                    Boredom\n",
       "4                                   0                      Anger"
      ],
      "text/html": [
       "<div>\n",
       "<style scoped>\n",
       "    .dataframe tbody tr th:only-of-type {\n",
       "        vertical-align: middle;\n",
       "    }\n",
       "\n",
       "    .dataframe tbody tr th {\n",
       "        vertical-align: top;\n",
       "    }\n",
       "\n",
       "    .dataframe thead th {\n",
       "        text-align: right;\n",
       "    }\n",
       "</style>\n",
       "<table border=\"1\" class=\"dataframe\">\n",
       "  <thead>\n",
       "    <tr style=\"text-align: right;\">\n",
       "      <th></th>\n",
       "      <th>Dominant_Emotion_Encoded_Predicted</th>\n",
       "      <th>Dominant_Emotion_Predicted</th>\n",
       "    </tr>\n",
       "  </thead>\n",
       "  <tbody>\n",
       "    <tr>\n",
       "      <th>0</th>\n",
       "      <td>0</td>\n",
       "      <td>Anger</td>\n",
       "    </tr>\n",
       "    <tr>\n",
       "      <th>1</th>\n",
       "      <td>2</td>\n",
       "      <td>Boredom</td>\n",
       "    </tr>\n",
       "    <tr>\n",
       "      <th>2</th>\n",
       "      <td>0</td>\n",
       "      <td>Anger</td>\n",
       "    </tr>\n",
       "    <tr>\n",
       "      <th>3</th>\n",
       "      <td>2</td>\n",
       "      <td>Boredom</td>\n",
       "    </tr>\n",
       "    <tr>\n",
       "      <th>4</th>\n",
       "      <td>0</td>\n",
       "      <td>Anger</td>\n",
       "    </tr>\n",
       "  </tbody>\n",
       "</table>\n",
       "</div>"
      ]
     },
     "execution_count": 33,
     "metadata": {},
     "output_type": "execute_result"
    }
   ],
   "execution_count": 33
  },
  {
   "cell_type": "markdown",
   "id": "fafa80dc",
   "metadata": {
    "id": "fafa80dc"
   },
   "source": [
    "**Finally, print the accuracy, confusion matrix and classification report.**"
   ]
  },
  {
   "cell_type": "code",
   "execution_count": null,
   "id": "398f1052",
   "metadata": {
    "id": "398f1052"
   },
   "outputs": [],
   "source": [
    "#ENTER YOUR CODE HERE"
   ]
  },
  {
   "cell_type": "code",
   "id": "1d638968",
   "metadata": {
    "colab": {
     "base_uri": "https://localhost:8080/"
    },
    "id": "1d638968",
    "outputId": "4d516fe2-76b2-4133-e656-c344a4fb1226",
    "ExecuteTime": {
     "end_time": "2025-06-27T13:26:54.114656Z",
     "start_time": "2025-06-27T13:26:54.094987Z"
    }
   },
   "source": [
    "print(\"The accuracy of the Naive Bayes model is:\", accuracy_score(labels_test['Dominant_Emotion'], df_predicted['Dominant_Emotion_Predicted']))\n",
    "print(\"The confusion matrix is:\")\n",
    "print(confusion_matrix(labels_test['Dominant_Emotion'], df_predicted['Dominant_Emotion_Predicted']))\n",
    "print(\"\\nThe classification report is:\")\n",
    "print(classification_report(labels_test['Dominant_Emotion'], df_predicted['Dominant_Emotion_Predicted']))\n"
   ],
   "outputs": [
    {
     "name": "stdout",
     "output_type": "stream",
     "text": [
      "The accuracy of the Naive Bayes model is: 0.4594594594594595\n",
      "The confusion matrix is:\n",
      "[[25  0  4  1  0  0]\n",
      " [ 8  0 17  5  0  2]\n",
      " [ 2  0 19  0  0  0]\n",
      " [ 3  0  0 33  0  3]\n",
      " [ 5  0 15  4  0  7]\n",
      " [10  0 11  3  0  8]]\n",
      "\n",
      "The classification report is:\n",
      "              precision    recall  f1-score   support\n",
      "\n",
      "       Anger       0.47      0.83      0.60        30\n",
      "     Anxiety       0.00      0.00      0.00        32\n",
      "     Boredom       0.29      0.90      0.44        21\n",
      "   Happiness       0.72      0.85      0.78        39\n",
      "     Neutral       0.00      0.00      0.00        31\n",
      "     Sadness       0.40      0.25      0.31        32\n",
      "\n",
      "    accuracy                           0.46       185\n",
      "   macro avg       0.31      0.47      0.35       185\n",
      "weighted avg       0.33      0.46      0.36       185\n",
      "\n"
     ]
    },
    {
     "name": "stderr",
     "output_type": "stream",
     "text": [
      "/home/bharat/PycharmProjects/Pulpnet/.venv/lib/python3.10/site-packages/sklearn/metrics/_classification.py:1565: UndefinedMetricWarning: Precision is ill-defined and being set to 0.0 in labels with no predicted samples. Use `zero_division` parameter to control this behavior.\n",
      "  _warn_prf(average, modifier, f\"{metric.capitalize()} is\", len(result))\n",
      "/home/bharat/PycharmProjects/Pulpnet/.venv/lib/python3.10/site-packages/sklearn/metrics/_classification.py:1565: UndefinedMetricWarning: Precision is ill-defined and being set to 0.0 in labels with no predicted samples. Use `zero_division` parameter to control this behavior.\n",
      "  _warn_prf(average, modifier, f\"{metric.capitalize()} is\", len(result))\n",
      "/home/bharat/PycharmProjects/Pulpnet/.venv/lib/python3.10/site-packages/sklearn/metrics/_classification.py:1565: UndefinedMetricWarning: Precision is ill-defined and being set to 0.0 in labels with no predicted samples. Use `zero_division` parameter to control this behavior.\n",
      "  _warn_prf(average, modifier, f\"{metric.capitalize()} is\", len(result))\n"
     ]
    }
   ],
   "execution_count": 34
  },
  {
   "cell_type": "markdown",
   "id": "2533df42",
   "metadata": {
    "id": "2533df42"
   },
   "source": [
    "### Now train a 'Decision Tree' and a 'Random Forest Generator' for the same classification problem.Feel free to play with the hyperparameters!\n",
    "\n",
    "### Report the accuracy score for each!"
   ]
  },
  {
   "metadata": {},
   "cell_type": "code",
   "source": [
    "\n",
    "from sklearn.tree import DecisionTreeClassifier\n",
    "from sklearn.ensemble import RandomForestClassifier"
   ],
   "id": "1eb2dffc7d66890c",
   "execution_count": null,
   "outputs": []
  },
  {
   "metadata": {},
   "cell_type": "code",
   "outputs": [],
   "execution_count": null,
   "source": [
    "\n",
    "# Decision Tree Classifier\n",
    "dt_model = DecisionTreeClassifier(random_state=42)\n",
    "dt_model.fit(features_train, labels_train)\n",
    "\n",
    "# Predicting with Decision Tree\n",
    "df_predicted_dt = pd.DataFrame(dt_model.predict(features_test), columns=['Dominant_Emotion_Encoded_Predicted'])\n",
    "df_predicted_dt['Dominant_Emotion_Predicted'] = encoder.inverse_transform(df_predicted_dt['Dominant_Emotion_Encoded_Predicted'])\n",
    "\n",
    "# Accuracy for Decision Tree\n",
    "accuracy_dt = accuracy_score(labels_test['Dominant_Emotion'], df_predicted_dt['Dominant_Emotion_Predicted'])\n",
    "print(\"The accuracy of the Decision Tree model is:\", accuracy_dt)"
   ],
   "id": "25b317ede9a90a4e"
  },
  {
   "metadata": {},
   "cell_type": "code",
   "outputs": [
    {
     "name": "stdout",
     "output_type": "stream",
     "text": [
      "The accuracy of the Decision Tree model is: 0.9567567567567568\n",
      "The accuracy of the Random Forest model is: 0.9675675675675676\n"
     ]
    }
   ],
   "execution_count": 46,
   "source": [
    "# Random Forest Classifier\n",
    "rf_model = RandomForestClassifier(random_state=42)\n",
    "rf_model.fit(features_train, labels_train)\n",
    "\n",
    "# Predicting with Random Forest\n",
    "df_predicted_rf = pd.DataFrame(rf_model.predict(features_test), columns=['Dominant_Emotion_Encoded_Predicted'])\n",
    "df_predicted_rf['Dominant_Emotion_Predicted'] = encoder.inverse_transform(df_predicted_rf['Dominant_Emotion_Encoded_Predicted'])\n",
    "\n",
    "# Accuracy for Random Forest\n",
    "accuracy_rf = accuracy_score(labels_test['Dominant_Emotion'], df_predicted_rf['Dominant_Emotion_Predicted'])\n",
    "print(\"The accuracy of the Random Forest model is:\", accuracy_rf)#%% md\n",
    "# GOOD JOB!"
   ],
   "id": "28a42df35e106171"
  },
  {
   "cell_type": "markdown",
   "id": "8a63a552",
   "metadata": {
    "id": "8a63a552"
   },
   "source": [
    "#Artificial Neural Network Assignment\n",
    "###In this assignment you will be implementing various functions from scratch so as to learn how it functions before going on to use various libraries. Doing it honestly will help you a lot in you understanding of the topic. If you encounter difficulties or stuck somewhere go online and search, the possibility that you are encountering the problem first time in 8 billion people is very slim so mostly you will be able to find the solution. Happy learning! 😀"
   ]
  },
  {
   "cell_type": "code",
   "id": "f677499d",
   "metadata": {
    "id": "f677499d",
    "ExecuteTime": {
     "end_time": "2025-06-27T13:27:45.299325Z",
     "start_time": "2025-06-27T13:27:45.292954Z"
    }
   },
   "source": [
    "import pandas as pd\n",
    "import numpy as np\n",
    "from matplotlib import pyplot as plt\n",
    "import seaborn as sns"
   ],
   "outputs": [],
   "execution_count": 35
  },
  {
   "cell_type": "code",
   "id": "5a8a944e",
   "metadata": {
    "id": "5a8a944e",
    "ExecuteTime": {
     "end_time": "2025-06-27T13:27:48.994528Z",
     "start_time": "2025-06-27T13:27:47.331812Z"
    }
   },
   "source": [
    "test = pd.read_csv('mnist_test.csv')\n",
    "train = pd.read_csv('mnist_train.csv')"
   ],
   "outputs": [],
   "execution_count": 36
  },
  {
   "cell_type": "code",
   "id": "5e873d9d",
   "metadata": {
    "colab": {
     "base_uri": "https://localhost:8080/"
    },
    "id": "5e873d9d",
    "outputId": "383ddd92-745a-4c59-f6df-e9d3de0d9b39",
    "ExecuteTime": {
     "end_time": "2025-06-27T13:28:10.810209Z",
     "start_time": "2025-06-27T13:28:10.356780Z"
    }
   },
   "source": [
    "x_train = train.drop('label', axis=1)\n",
    "x_train = x_train.T\n",
    "x_train = x_train/255\n",
    "y_train = train.label\n",
    "\n",
    "x_test = test.drop('label',axis=1)\n",
    "x_test = x_test.T\n",
    "y_test = test.label\n",
    "print(x_train)\n",
    "print(y_train)"
   ],
   "outputs": [
    {
     "name": "stdout",
     "output_type": "stream",
     "text": [
      "       0      1      2      3      4      5      6      7      8      9      \\\n",
      "1x1      0.0    0.0    0.0    0.0    0.0    0.0    0.0    0.0    0.0    0.0   \n",
      "1x2      0.0    0.0    0.0    0.0    0.0    0.0    0.0    0.0    0.0    0.0   \n",
      "1x3      0.0    0.0    0.0    0.0    0.0    0.0    0.0    0.0    0.0    0.0   \n",
      "1x4      0.0    0.0    0.0    0.0    0.0    0.0    0.0    0.0    0.0    0.0   \n",
      "1x5      0.0    0.0    0.0    0.0    0.0    0.0    0.0    0.0    0.0    0.0   \n",
      "...      ...    ...    ...    ...    ...    ...    ...    ...    ...    ...   \n",
      "28x24    0.0    0.0    0.0    0.0    0.0    0.0    0.0    0.0    0.0    0.0   \n",
      "28x25    0.0    0.0    0.0    0.0    0.0    0.0    0.0    0.0    0.0    0.0   \n",
      "28x26    0.0    0.0    0.0    0.0    0.0    0.0    0.0    0.0    0.0    0.0   \n",
      "28x27    0.0    0.0    0.0    0.0    0.0    0.0    0.0    0.0    0.0    0.0   \n",
      "28x28    0.0    0.0    0.0    0.0    0.0    0.0    0.0    0.0    0.0    0.0   \n",
      "\n",
      "       ...  59990  59991  59992  59993  59994  59995  59996  59997  59998  \\\n",
      "1x1    ...    0.0    0.0    0.0    0.0    0.0    0.0    0.0    0.0    0.0   \n",
      "1x2    ...    0.0    0.0    0.0    0.0    0.0    0.0    0.0    0.0    0.0   \n",
      "1x3    ...    0.0    0.0    0.0    0.0    0.0    0.0    0.0    0.0    0.0   \n",
      "1x4    ...    0.0    0.0    0.0    0.0    0.0    0.0    0.0    0.0    0.0   \n",
      "1x5    ...    0.0    0.0    0.0    0.0    0.0    0.0    0.0    0.0    0.0   \n",
      "...    ...    ...    ...    ...    ...    ...    ...    ...    ...    ...   \n",
      "28x24  ...    0.0    0.0    0.0    0.0    0.0    0.0    0.0    0.0    0.0   \n",
      "28x25  ...    0.0    0.0    0.0    0.0    0.0    0.0    0.0    0.0    0.0   \n",
      "28x26  ...    0.0    0.0    0.0    0.0    0.0    0.0    0.0    0.0    0.0   \n",
      "28x27  ...    0.0    0.0    0.0    0.0    0.0    0.0    0.0    0.0    0.0   \n",
      "28x28  ...    0.0    0.0    0.0    0.0    0.0    0.0    0.0    0.0    0.0   \n",
      "\n",
      "       59999  \n",
      "1x1      0.0  \n",
      "1x2      0.0  \n",
      "1x3      0.0  \n",
      "1x4      0.0  \n",
      "1x5      0.0  \n",
      "...      ...  \n",
      "28x24    0.0  \n",
      "28x25    0.0  \n",
      "28x26    0.0  \n",
      "28x27    0.0  \n",
      "28x28    0.0  \n",
      "\n",
      "[784 rows x 60000 columns]\n",
      "0        5\n",
      "1        0\n",
      "2        4\n",
      "3        1\n",
      "4        9\n",
      "        ..\n",
      "59995    8\n",
      "59996    3\n",
      "59997    5\n",
      "59998    6\n",
      "59999    8\n",
      "Name: label, Length: 60000, dtype: int64\n"
     ]
    }
   ],
   "execution_count": 37
  },
  {
   "cell_type": "code",
   "id": "42b29c92",
   "metadata": {
    "colab": {
     "base_uri": "https://localhost:8080/",
     "height": 455
    },
    "id": "42b29c92",
    "outputId": "6beff23a-9510-496d-9c51-ed00aafdaadb",
    "ExecuteTime": {
     "end_time": "2025-06-27T13:28:15.596053Z",
     "start_time": "2025-06-27T13:28:15.102815Z"
    }
   },
   "source": [
    "X_train_reshaped = x_train.T.values.reshape(-1, 28, 28)\n",
    "plt.figure(figsize=(10, 15))\n",
    "for i in range(10):\n",
    "    plt.subplot(5, 5, i+1)\n",
    "    plt.grid(False)\n",
    "    plt.imshow(X_train_reshaped[i])\n",
    "    plt.xlabel(y_train.iloc[i])"
   ],
   "outputs": [
    {
     "data": {
      "text/plain": [
       "<Figure size 1000x1500 with 10 Axes>"
      ],
      "image/png": "[encoded data removed]"
     },
     "metadata": {},
     "output_type": "display_data"
    }
   ],
   "execution_count": 38
  },
  {
   "cell_type": "markdown",
   "id": "cedea7ba",
   "metadata": {
    "id": "cedea7ba"
   },
   "source": [
    "The remainder on dividing your roll number by 4 will dictate which function you have to complete but ofcourse if you wish to do more and there's no stopping you.\\\n",
    "Roll_number % 6  \n",
    "                  0:RELU\\\n",
    "                  1:softmax\\\n",
    "                  2:forward_propogation\\\n",
    "                  3:one_hot_encode\\\n",
    "                  4:total_loss\\\n",
    "                  5:backward_propagation"
   ]
  },
  {
   "cell_type": "code",
   "source": [
    "\n",
    "import numpy as np\n",
    "\n",
    "class ANN:\n",
    "    def __init__(self, input_size, output_size, learning_rate, num_layers, num_of_nodes_layers):\n",
    "        self.input_size = input_size\n",
    "        self.output_size = output_size\n",
    "        self.learning_rate = learning_rate\n",
    "        self.num_layers = num_layers\n",
    "        self.num_of_nodes_layers = num_of_nodes_layers\n",
    "        self.weights_biases = {}\n",
    "        self.activations = {}\n",
    "\n",
    "    def initial_params(self):\n",
    "        np.random.seed(20)\n",
    "        self.weights_biases['W1'] = np.random.rand(self.num_of_nodes_layers, self.input_size) - 0.5\n",
    "        self.weights_biases['b1'] = np.random.rand(self.num_of_nodes_layers, 1) - 0.5\n",
    "\n",
    "        for i in range(2, self.num_layers + 1):\n",
    "            self.weights_biases[f'W{i}'] = np.random.rand(self.num_of_nodes_layers, self.num_of_nodes_layers) - 0.5\n",
    "            self.weights_biases[f'b{i}'] = np.random.rand(self.num_of_nodes_layers, 1) - 0.5\n",
    "\n",
    "        self.weights_biases[f'W{self.num_layers + 1}'] = np.random.rand(self.output_size, self.num_of_nodes_layers) - 0.5\n",
    "        self.weights_biases[f'b{self.num_layers + 1}'] = np.random.rand(self.output_size, 1) - 0.5\n",
    "\n",
    "    def RELU(self, Z):\n",
    "        # Implement the RELU activation function\n",
    "        return np.maximum(0, Z)\n",
    "\n",
    "    def softmax(self, Z):\n",
    "        # Implement the softmax activation function\n",
    "        # Subtract max for numerical stability\n",
    "        exp_Z = np.exp(Z - np.max(Z, axis=0, keepdims=True))\n",
    "        return exp_Z / np.sum(exp_Z, axis=0, keepdims=True)\n",
    "\n",
    "    def forward_propagation(self, X):\n",
    "        # Implement the forward_propagation function\n",
    "        activations = {}\n",
    "        activations['A0'] = X\n",
    "\n",
    "        # Forward pass through hidden layers\n",
    "        for i in range(1, self.num_layers + 1):\n",
    "            Z = np.dot(self.weights_biases[f'W{i}'], activations[f'A{i-1}']) + self.weights_biases[f'b{i}']\n",
    "            activations[f'A{i}'] = self.RELU(Z)\n",
    "            activations[f'Z{i}'] = Z\n",
    "\n",
    "        # Output layer with softmax\n",
    "        Z_out = np.dot(self.weights_biases[f'W{self.num_layers + 1}'], activations[f'A{self.num_layers}']) + self.weights_biases[f'b{self.num_layers + 1}']\n",
    "        A_out = self.softmax(Z_out)\n",
    "        activations[f'A{self.num_layers + 1}'] = A_out\n",
    "        activations[f'Z{self.num_layers + 1}'] = Z_out\n",
    "\n",
    "        self.activations = activations\n",
    "        return A_out, activations\n",
    "\n",
    "    def one_hot_encode(self, y):\n",
    "        # Implement one hot encoding\n",
    "        one_hot = np.zeros((self.output_size, y.size))\n",
    "        one_hot[y, np.arange(y.size)] = 1\n",
    "        return one_hot\n",
    "\n",
    "    def total_loss(self, y_pred, Y):\n",
    "        # Implement the total loss function (cross-entropy)\n",
    "        m = Y.shape[1]\n",
    "        epsilon = 1e-15\n",
    "        y_pred = np.clip(y_pred, epsilon, 1 - epsilon)\n",
    "        loss = -np.sum(Y * np.log(y_pred)) / m\n",
    "        return loss\n",
    "\n",
    "    def backward_prop(self, y_pred, Y):\n",
    "        # Implement the backward_prop function\n",
    "        m = Y.shape[1]\n",
    "        gradients = {}\n",
    "\n",
    "        # Output layer gradients\n",
    "        dZ_out = y_pred - Y\n",
    "        gradients[f'dW{self.num_layers + 1}'] = (1/m) * np.dot(dZ_out, self.activations[f'A{self.num_layers}'].T)\n",
    "        gradients[f'db{self.num_layers + 1}'] = (1/m) * np.sum(dZ_out, axis=1, keepdims=True)\n",
    "\n",
    "        dA = np.dot(self.weights_biases[f'W{self.num_layers + 1}'].T, dZ_out)\n",
    "\n",
    "        for i in range(self.num_layers, 0, -1):\n",
    "\n",
    "            dZ = dA * (self.activations[f'Z{i}'] > 0)\n",
    "            gradients[f'dW{i}'] = (1/m) * np.dot(dZ, self.activations[f'A{i-1}'].T)\n",
    "            gradients[f'db{i}'] = (1/m) * np.sum(dZ, axis=1, keepdims=True)\n",
    "\n",
    "            if i > 1:\n",
    "                dA = np.dot(self.weights_biases[f'W{i}'].T, dZ)\n",
    "\n",
    "        return gradients\n",
    "\n",
    "    def update_params(self, gradients):\n",
    "        for i in range(1, self.num_layers + 2):\n",
    "            self.weights_biases[f\"W{i}\"] -= self.learning_rate * gradients[f\"dW{i}\"]\n",
    "            self.weights_biases[f\"b{i}\"] -= self.learning_rate * gradients[f\"db{i}\"]\n",
    "\n",
    "    def train(self, X, y, num_iterations):\n",
    "        # Implement train\n",
    "        self.initial_params()\n",
    "        Y = self.one_hot_encode(y)\n",
    "\n",
    "        for i in range(num_iterations):\n",
    "            # Forward propagation\n",
    "            y_pred, _ = self.forward_propagation(X)\n",
    "\n",
    "            # Calculate loss\n",
    "            loss = self.total_loss(y_pred, Y)\n",
    "\n",
    "            # Backward propagation\n",
    "            gradients = self.backward_prop(y_pred, Y)\n",
    "\n",
    "            # Update parameters\n",
    "            self.update_params(gradients)\n",
    "\n",
    "            # Print loss every 100 iterations\n",
    "            if i % 100 == 0:\n",
    "                print(f\"Iteration {i}, Loss: {loss:.4f}\")\n",
    "\n",
    "    def predict(self, X):\n",
    "        A, b = self.forward_propagation(X)\n",
    "        predictions = np.argmax(A, axis=0)\n",
    "        return predictions"
   ],
   "metadata": {
    "id": "HOEUOVfELB-H",
    "ExecuteTime": {
     "end_time": "2025-06-27T13:34:23.660713Z",
     "start_time": "2025-06-27T13:34:23.647565Z"
    }
   },
   "id": "HOEUOVfELB-H",
   "outputs": [],
   "execution_count": 42
  },
  {
   "cell_type": "code",
   "id": "5599070e",
   "metadata": {
    "colab": {
     "base_uri": "https://localhost:8080/"
    },
    "id": "5599070e",
    "outputId": "e1ddc167-df06-467b-c86f-0e4768f4b2a4",
    "ExecuteTime": {
     "end_time": "2025-06-27T13:59:06.658783Z",
     "start_time": "2025-06-27T13:34:31.405798Z"
    }
   },
   "source": [
    "model = ANN(input_size=784, output_size=10, learning_rate=0.2, num_layers=3, num_of_nodes_layers=64)\n",
    "model.train(x_train, y_train, num_iterations=4000)"
   ],
   "outputs": [
    {
     "name": "stdout",
     "output_type": "stream",
     "text": [
      "Iteration 0, Loss: 18.0781\n",
      "Iteration 100, Loss: 0.6757\n",
      "Iteration 200, Loss: 0.4858\n",
      "Iteration 300, Loss: 0.4238\n",
      "Iteration 400, Loss: 0.3279\n",
      "Iteration 500, Loss: 0.2902\n",
      "Iteration 600, Loss: 0.2633\n",
      "Iteration 700, Loss: 0.2519\n",
      "Iteration 800, Loss: 0.2258\n",
      "Iteration 900, Loss: 0.2126\n",
      "Iteration 1000, Loss: 0.2034\n",
      "Iteration 1100, Loss: 0.1923\n",
      "Iteration 1200, Loss: 0.1841\n",
      "Iteration 1300, Loss: 0.1822\n",
      "Iteration 1400, Loss: 0.1750\n",
      "Iteration 1500, Loss: 0.1652\n",
      "Iteration 1600, Loss: 0.1573\n",
      "Iteration 1700, Loss: 0.1528\n",
      "Iteration 1800, Loss: 0.1534\n",
      "Iteration 1900, Loss: 0.1445\n",
      "Iteration 2000, Loss: 0.1387\n",
      "Iteration 2100, Loss: 0.1371\n",
      "Iteration 2200, Loss: 0.1329\n",
      "Iteration 2300, Loss: 0.1310\n",
      "Iteration 2400, Loss: 0.1293\n",
      "Iteration 2500, Loss: 0.1253\n",
      "Iteration 2600, Loss: 0.1192\n",
      "Iteration 2700, Loss: 0.1173\n",
      "Iteration 2800, Loss: 0.1138\n",
      "Iteration 2900, Loss: 0.1110\n",
      "Iteration 3000, Loss: 0.1091\n",
      "Iteration 3100, Loss: 0.1080\n",
      "Iteration 3200, Loss: 0.1045\n",
      "Iteration 3300, Loss: 0.1020\n",
      "Iteration 3400, Loss: 0.1007\n",
      "Iteration 3500, Loss: 0.1016\n",
      "Iteration 3600, Loss: 0.0973\n",
      "Iteration 3700, Loss: 0.0942\n",
      "Iteration 3800, Loss: 0.0930\n",
      "Iteration 3900, Loss: 0.0914\n"
     ]
    }
   ],
   "execution_count": 43
  },
  {
   "cell_type": "code",
   "id": "674e838c",
   "metadata": {
    "colab": {
     "base_uri": "https://localhost:8080/"
    },
    "id": "674e838c",
    "outputId": "822a0a21-9e0d-4872-ffe6-c57ed4a10af0",
    "ExecuteTime": {
     "end_time": "2025-06-27T13:59:13.713397Z",
     "start_time": "2025-06-27T13:59:13.623353Z"
    }
   },
   "source": [
    "m = model.predict(x_test)\n",
    "b = m.shape\n",
    "c = int(b[0])\n",
    "d = np.array(y_test)\n",
    "d = d.T\n",
    "t=0\n",
    "for i in range(c):\n",
    "    if m[i]==d[i]:\n",
    "        t=t+1\n",
    "print('Accuracy:',t/c *100, '%')\n",
    "\n"
   ],
   "outputs": [
    {
     "name": "stdout",
     "output_type": "stream",
     "text": [
      "Accuracy: 93.89 %\n"
     ]
    }
   ],
   "execution_count": 44
  },
  {
   "cell_type": "code",
   "id": "03d393c1",
   "metadata": {
    "colab": {
     "base_uri": "https://localhost:8080/",
     "height": 482
    },
    "id": "03d393c1",
    "outputId": "9e7fda22-f03e-4ff8-9370-27c8c5af7769",
    "ExecuteTime": {
     "end_time": "2025-06-27T13:59:17.717873Z",
     "start_time": "2025-06-27T13:59:17.640376Z"
    }
   },
   "source": [
    "X_test_reshaped = x_test.T.values.reshape(-1, 28, 28)\n",
    "plt.figure(figsize=(5, 5))\n",
    "i = 500\n",
    "print(d[i])\n",
    "plt.imshow(X_test_reshaped[i])\n",
    "plt.xlabel(m[i]);\n"
   ],
   "outputs": [
    {
     "name": "stdout",
     "output_type": "stream",
     "text": [
      "3\n"
     ]
    },
    {
     "data": {
      "text/plain": [
       "<Figure size 500x500 with 1 Axes>"
      ],
      "image/png": "[encoded data removed]"
     },
     "metadata": {},
     "output_type": "display_data"
    }
   ],
   "execution_count": 45
  }
 ],
 "metadata": {
  "colab": {
   "provenance": []
  }
 },
 "nbformat": 4,
 "nbformat_minor": 5
}
