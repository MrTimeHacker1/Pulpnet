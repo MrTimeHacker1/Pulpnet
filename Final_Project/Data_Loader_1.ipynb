{
 "cells": [
  {
   "cell_type": "code",
   "id": "initial_id",
   "metadata": {
    "collapsed": true,
    "ExecuteTime": {
     "end_time": "2025-07-05T19:38:59.623950Z",
     "start_time": "2025-07-05T19:38:59.611423Z"
    }
   },
   "source": [
    "import json\n",
    "\n",
    "data = []\n",
    "with open(\"ALL_DATA.jsonl\", \"r\", encoding=\"utf-8\") as f:\n",
    "    for line in f:\n",
    "        data.append(json.loads(line))\n",
    "\n",
    "print(data[:2])  # Sample check\n"
   ],
   "outputs": [
    {
     "name": "stdout",
     "output_type": "stream",
     "text": [
      "[{'id': 'CS201', 'type': 'course', 'department': 'Computer Science and Engineering', 'title': 'Mathematics for Computer Science - I', 'summary': 'Introduces foundational discrete mathematics for computer science, focusing on logic, sets, and combinatorics.', 'credits': 6, 'content': {'description': 'This course covers fundamental discrete mathematics concepts essential for computer science, including propositional and predicate logic, set theory, functions, relations, and basic combinatorics. It emphasizes proof techniques and problem-solving, preparing students for advanced theoretical courses.', 'bullets': ['Covers propositional and predicate logic', 'Introduces set theory and combinatorics', 'Emphasizes proof techniques'], 'sections': [{'heading': 'Core Topics', 'text': 'Focuses on foundational mathematical concepts used in computer science, with an emphasis on logical reasoning and combinatorial counting.', 'bullets': ['Propositional and predicate logic', 'Set theory, functions, and relations', 'Permutations and combinations']}, {'heading': 'Applications', 'text': 'Applications include logical foundations for programming, algorithm analysis, and discrete system modeling.', 'bullets': ['Logical reasoning in program verification', 'Combinatorial analysis in algorithms', 'Set-based modeling for databases']}]}, 'meta': {'keywords': ['discrete mathematics', 'logic', 'set theory', 'combinatorics'], 'tags': ['UG', 'core course', 'CSE']}}, {'id': 'CS202', 'type': 'course', 'department': 'Computer Science and Engineering', 'title': 'Mathematics for Computer Science - II', 'summary': 'Continues discrete mathematics with a focus on graph theory, number theory, and probability.', 'credits': 6, 'content': {'description': 'This course builds on CS201, covering graph theory, basic number theory, and discrete probability. It includes topics like graph properties, modular arithmetic, and probability distributions, with applications in algorithm design and network analysis.', 'bullets': ['Covers graph theory and its properties', 'Introduces number theory and modular arithmetic', 'Explores discrete probability'], 'sections': [{'heading': 'Core Topics', 'text': 'Focuses on advanced discrete mathematics topics, emphasizing their relevance to computer science.', 'bullets': ['Graph theory (paths, cycles, connectivity)', 'Number theory (divisibility, modular arithmetic)', 'Discrete probability and random variables']}, {'heading': 'Applications', 'text': 'Applications include network design, cryptographic algorithms, and randomized algorithms.', 'bullets': ['Graph algorithms for network analysis', 'Modular arithmetic in cryptography', 'Probability in algorithm design']}]}, 'meta': {'keywords': ['graph theory', 'number theory', 'discrete probability'], 'tags': ['UG', 'core course', 'CSE']}}]\n"
     ]
    }
   ],
   "execution_count": 46
  },
  {
   "metadata": {
    "ExecuteTime": {
     "end_time": "2025-07-05T20:00:07.129325Z",
     "start_time": "2025-07-05T20:00:07.109926Z"
    }
   },
   "cell_type": "code",
   "source": [
    "import json\n",
    "\n",
    "# 1. Load your JSONL file\n",
    "jsonl_path = \"ALL_DATA.jsonl\"\n",
    "with open(jsonl_path, \"r\", encoding=\"utf-8\") as f:\n",
    "    data = [json.loads(line) for line in f]\n",
    "\n",
    "# 2. Build a corpus: one document per course\n",
    "course_corpus = []\n",
    "for entry in data:\n",
    "    # start with title, summary, and main description\n",
    "    parts = [\n",
    "        entry.get(\"title\", \"\"),\n",
    "        entry.get(\"summary\", \"\"),\n",
    "        entry.get(\"content\", {}).get(\"description\", \"\")\n",
    "    ]\n",
    "\n",
    "    # add top-level bullets\n",
    "    for b in entry.get(\"content\", {}).get(\"bullets\", []):\n",
    "        parts.append(b)\n",
    "\n",
    "    # add each section’s heading, text, and sub-bullets\n",
    "    for sec in entry.get(\"content\", {}).get(\"sections\", []):\n",
    "        parts.append(sec.get(\"heading\", \"\"))\n",
    "        parts.append(sec.get(\"text\", \"\"))\n",
    "        for sb in sec.get(\"bullets\", []):\n",
    "            parts.append(sb)\n",
    "\n",
    "    # join all pieces into one string\n",
    "    doc_text = \". \".join([p.strip() for p in parts if p]).strip() + \".\"\n",
    "    course_corpus.append(doc_text)\n",
    "\n",
    "# 3. Inspect\n",
    "print(f\"Built corpus with {len(course_corpus)} documents.\")\n",
    "print(\"Example document:\\n\", course_corpus[0])\n"
   ],
   "id": "367697bf59f67b14",
   "outputs": [
    {
     "name": "stdout",
     "output_type": "stream",
     "text": [
      "Built corpus with 116 documents.\n",
      "Example document:\n",
      " Mathematics for Computer Science - I. Introduces foundational discrete mathematics for computer science, focusing on logic, sets, and combinatorics.. This course covers fundamental discrete mathematics concepts essential for computer science, including propositional and predicate logic, set theory, functions, relations, and basic combinatorics. It emphasizes proof techniques and problem-solving, preparing students for advanced theoretical courses.. Covers propositional and predicate logic. Introduces set theory and combinatorics. Emphasizes proof techniques. Core Topics. Focuses on foundational mathematical concepts used in computer science, with an emphasis on logical reasoning and combinatorial counting.. Propositional and predicate logic. Set theory, functions, and relations. Permutations and combinations. Applications. Applications include logical foundations for programming, algorithm analysis, and discrete system modeling.. Logical reasoning in program verification. Combinatorial analysis in algorithms. Set-based modeling for databases.\n"
     ]
    }
   ],
   "execution_count": 3
  },
  {
   "metadata": {
    "ExecuteTime": {
     "end_time": "2025-07-05T18:57:33.492725Z",
     "start_time": "2025-07-05T18:57:22.256426Z"
    }
   },
   "cell_type": "code",
   "source": [
    "!pip install -q pymupdf\n",
    "!pip install -q langchain\n",
    "\n"
   ],
   "id": "11239716badb56ac",
   "outputs": [],
   "execution_count": 9
  },
  {
   "metadata": {
    "ExecuteTime": {
     "end_time": "2025-07-05T20:00:20.710066Z",
     "start_time": "2025-07-05T20:00:20.608484Z"
    }
   },
   "cell_type": "code",
   "source": [
    "import fitz  # PyMuPDF\n",
    "\n",
    "def extract_pdf_text(pdf_path):\n",
    "    doc = fitz.open(pdf_path)\n",
    "    full_text = \"\"\n",
    "    for page in doc:\n",
    "        full_text += page.get_text()\n",
    "    return full_text\n"
   ],
   "id": "2fb5f14432db8134",
   "outputs": [],
   "execution_count": 5
  },
  {
   "metadata": {
    "ExecuteTime": {
     "end_time": "2025-07-05T20:00:26.711497Z",
     "start_time": "2025-07-05T20:00:26.311107Z"
    }
   },
   "cell_type": "code",
   "source": [
    "ug_manual_text = extract_pdf_text(\"UG-Manual.pdf\")\n",
    "pg_manual_text = extract_pdf_text(\"PG-Manual.pdf\")\n",
    "\n",
    "print(\"UG Manual Sample Text:\\n\", ug_manual_text[:1000])\n",
    "print(\"\\nPG Manual Sample Text:\\n\", pg_manual_text[:1000])\n"
   ],
   "id": "ecfe303f8ca0477f",
   "outputs": [
    {
     "name": "stdout",
     "output_type": "stream",
     "text": [
      "UG Manual Sample Text:\n",
      " UNDERGRADUATE \n",
      "PROGRAMMES \n",
      " \n",
      " \n",
      " \n",
      " \n",
      "B.TECH. \n",
      "B.S. \n",
      "Bachelors-Masters Dual Degree \n",
      "M.SC. Two-Year \n",
      "M.Sc.-Ph.D. (MSPD) Dual Degree \n",
      " \n",
      " \n",
      "Manual of  \n",
      "PROCEDURES & REQUIREMENTS \n",
      " \n",
      " \n",
      " \n",
      " \n",
      " \n",
      " \n",
      " \n",
      "INDIAN INSTITUTE OF TECHNOLOGY KANPUR \n",
      " \n",
      " \n",
      "UG Manual Version: Sept. 13, 2017 \n",
      " \n",
      " \n",
      "2 \n",
      " \n",
      "Table of Contents \n",
      " \n",
      "1 Introduction............................................................................................................................ 05 \n",
      "2 Programmes of Study ……………………………………………………………………………………………………………… 06 \n",
      "2.1 Programmes for New Students …………………………………………………………………………………………. 06 \n",
      "2.1.1 Admission through JEE ………………………………………………………………………………………….. 06 \n",
      "2.1.2 Admission through JAM ………………………………………………………………………………………… 06 \n",
      "2.2 Options for Already Enrolled Students ………………………………………………………………………………. 06 \n",
      "2.2.1 Branch Change ………………………………………………………………………………………………………. 06 \n",
      "2.2.2 Double-Major ………………………………………………………………………………………………………… 06 \n",
      "2.2.3 Dual-Degree ………………………………………………………………………………………………………….. 06 \n",
      "2.2.4 Minors …\n",
      "\n",
      "PG Manual Sample Text:\n",
      " (1) \n",
      "POSTGRADUATE PROGRAMMES \n",
      "Procedures and Requirements \n",
      "Indian Institute of Technology Kanpur \n",
      "Approved in Senate (2015-16/1st) meeting on September 02, 2015 & \n",
      "  afterward updates in various Senate meetings approval (upto May 26, 2025) \n",
      "Website: https://www.iitk.ac.in/doaa/pg-manual \n",
      "(2) \n",
      " \n",
      "1.  INTRODUCTION \n",
      " \n",
      "1.1. \n",
      "Postgraduate Programmes \n",
      " \n",
      "1.2. \n",
      "Waiver of Requirements in Special Cases \n",
      " \n",
      "2. \n",
      "ADMISSION \n",
      " \n",
      "2.1. \n",
      "Academic Session \n",
      " \n",
      "2.2. \n",
      "Admission Calendar \n",
      " \n",
      "2.3. \n",
      "Eligibility for Admission and Reservation of Seats \n",
      " \n",
      " \n",
      "2.3.1. \n",
      "D.IIT. \n",
      " \n",
      " \n",
      "2.3.2. \n",
      "M.Tech. \n",
      " \n",
      " \n",
      "2.3.3 \n",
      "MS by Research \n",
      " \n",
      " \n",
      "2.3.4. \n",
      "M.Des. \n",
      " \n",
      " \n",
      "2.3.5. \n",
      "M.B.A. \n",
      " \n",
      " \n",
      "2.3.6. \n",
      "Ph.D. in Engineering and IDPs with M.Tech. program \n",
      " \n",
      " \n",
      "2.3.7. \n",
      "Ph.D. in Sciences (includes Departments of BSBE, SEE, SPASE) \n",
      " \n",
      " \n",
      "2.3.8. \n",
      "Ph.D. in Humanities and Social Sciences \n",
      " \n",
      " \n",
      "2.3.9. \n",
      "Ph.D. in Management \n",
      " \n",
      " \n",
      "2.3.10 Ph.D. in Design  \n",
      "                       2.3.11    Ph.D. in Cognitive Science \n",
      " \n",
      "2.4. \n",
      "Admission Procedure \n",
      " \n",
      "2.5. \n",
      "Admission of Q\n"
     ]
    }
   ],
   "execution_count": 6
  },
  {
   "metadata": {
    "ExecuteTime": {
     "end_time": "2025-07-05T20:00:28.525770Z",
     "start_time": "2025-07-05T20:00:28.330841Z"
    }
   },
   "cell_type": "code",
   "source": [
    "from langchain.text_splitter import RecursiveCharacterTextSplitter\n",
    "\n",
    "splitter = RecursiveCharacterTextSplitter(\n",
    "    chunk_size=1000,  # 1000 characters per chunk\n",
    "    chunk_overlap=100 # overlap for better context\n",
    ")\n",
    "\n",
    "ug_chunks = splitter.split_text(ug_manual_text)\n",
    "pg_chunks = splitter.split_text(pg_manual_text)\n",
    "\n",
    "print(f\"UG Manual split into {len(ug_chunks)} chunks.\")\n",
    "print(f\"PG Manual split into {len(pg_chunks)} chunks.\")\n",
    "print(\"Sample UG Chunk:\\n\", ug_chunks[0])\n"
   ],
   "id": "6994c3703596172f",
   "outputs": [
    {
     "name": "stdout",
     "output_type": "stream",
     "text": [
      "UG Manual split into 111 chunks.\n",
      "PG Manual split into 150 chunks.\n",
      "Sample UG Chunk:\n",
      " UNDERGRADUATE \n",
      "PROGRAMMES \n",
      " \n",
      " \n",
      " \n",
      " \n",
      "B.TECH. \n",
      "B.S. \n",
      "Bachelors-Masters Dual Degree \n",
      "M.SC. Two-Year \n",
      "M.Sc.-Ph.D. (MSPD) Dual Degree \n",
      " \n",
      " \n",
      "Manual of  \n",
      "PROCEDURES & REQUIREMENTS \n",
      " \n",
      " \n",
      " \n",
      " \n",
      " \n",
      " \n",
      " \n",
      "INDIAN INSTITUTE OF TECHNOLOGY KANPUR \n",
      " \n",
      " \n",
      "UG Manual Version: Sept. 13, 2017 \n",
      " \n",
      " \n",
      "2 \n",
      " \n",
      "Table of Contents \n",
      " \n",
      "1 Introduction............................................................................................................................ 05 \n",
      "2 Programmes of Study ……………………………………………………………………………………………………………… 06 \n",
      "2.1 Programmes for New Students …………………………………………………………………………………………. 06 \n",
      "2.1.1 Admission through JEE ………………………………………………………………………………………….. 06 \n",
      "2.1.2 Admission through JAM ………………………………………………………………………………………… 06 \n",
      "2.2 Options for Already Enrolled Students ………………………………………………………………………………. 06 \n",
      "2.2.1 Branch Change ………………………………………………………………………………………………………. 06 \n",
      "2.2.2 Double-Major ………………………………………………………………………………………………………… 06 \n",
      "2.2.3 Dual-Degree ………………………………………………………………………………………………………….. 06\n"
     ]
    }
   ],
   "execution_count": 7
  },
  {
   "metadata": {
    "ExecuteTime": {
     "end_time": "2025-07-05T20:00:31.403373Z",
     "start_time": "2025-07-05T20:00:31.399516Z"
    }
   },
   "cell_type": "code",
   "source": [
    "# Combine all documents into one unified corpus\n",
    "final_corpus = course_corpus + ug_chunks + pg_chunks\n",
    "\n",
    "print(f\"Total documents in final corpus: {len(final_corpus)}\")\n",
    "print(\"Sample document:\\n\", final_corpus[0])\n"
   ],
   "id": "26fcf082e5b30bd8",
   "outputs": [
    {
     "name": "stdout",
     "output_type": "stream",
     "text": [
      "Total documents in final corpus: 377\n",
      "Sample document:\n",
      " Mathematics for Computer Science - I. Introduces foundational discrete mathematics for computer science, focusing on logic, sets, and combinatorics.. This course covers fundamental discrete mathematics concepts essential for computer science, including propositional and predicate logic, set theory, functions, relations, and basic combinatorics. It emphasizes proof techniques and problem-solving, preparing students for advanced theoretical courses.. Covers propositional and predicate logic. Introduces set theory and combinatorics. Emphasizes proof techniques. Core Topics. Focuses on foundational mathematical concepts used in computer science, with an emphasis on logical reasoning and combinatorial counting.. Propositional and predicate logic. Set theory, functions, and relations. Permutations and combinations. Applications. Applications include logical foundations for programming, algorithm analysis, and discrete system modeling.. Logical reasoning in program verification. Combinatorial analysis in algorithms. Set-based modeling for databases.\n"
     ]
    }
   ],
   "execution_count": 8
  },
  {
   "metadata": {
    "ExecuteTime": {
     "end_time": "2025-07-05T20:00:42.414297Z",
     "start_time": "2025-07-05T20:00:34.917700Z"
    }
   },
   "cell_type": "code",
   "source": [
    "# Reuse your embedding model (Sentence Transformers)\n",
    "from sentence_transformers import SentenceTransformer\n",
    "import faiss\n",
    "import numpy as np\n",
    "\n",
    "embedding_model = SentenceTransformer('multi-qa-mpnet-base-dot-v1')\n",
    "  # Already installed before\n",
    "\n",
    "# Generate embeddings\n",
    "embeddings = embedding_model.encode(final_corpus, show_progress_bar=True, convert_to_numpy=True)\n",
    "\n",
    "# Build FAISS index\n",
    "embedding_dim = embeddings.shape[1]\n",
    "index = faiss.IndexFlatL2(embedding_dim)\n",
    "index.add(embeddings)\n",
    "\n",
    "print(\"FAISS index built successfully with\", index.ntotal, \"documents.\")\n"
   ],
   "id": "d06ac5afd69a77f9",
   "outputs": [
    {
     "name": "stderr",
     "output_type": "stream",
     "text": [
      "Batches: 100%|██████████| 12/12 [00:02<00:00,  4.46it/s]"
     ]
    },
    {
     "name": "stdout",
     "output_type": "stream",
     "text": [
      "FAISS index built successfully with 377 documents.\n"
     ]
    },
    {
     "name": "stderr",
     "output_type": "stream",
     "text": [
      "\n"
     ]
    }
   ],
   "execution_count": 9
  },
  {
   "metadata": {
    "ExecuteTime": {
     "end_time": "2025-07-05T20:00:47.391788Z",
     "start_time": "2025-07-05T20:00:47.386241Z"
    }
   },
   "cell_type": "code",
   "source": [
    "def retrieve_documents(query, top_k=3):\n",
    "    query_embedding = embedding_model.encode([query], convert_to_numpy=True)\n",
    "    distances, indices = index.search(query_embedding, top_k)\n",
    "    results = []\n",
    "    for dist, idx in zip(distances[0], indices[0]):\n",
    "        results.append({\n",
    "            'text': final_corpus[idx],\n",
    "            'score': float(dist)\n",
    "        })\n",
    "    return results\n"
   ],
   "id": "f4495cd9e3fd44ac",
   "outputs": [],
   "execution_count": 10
  },
  {
   "metadata": {
    "ExecuteTime": {
     "end_time": "2025-07-05T20:00:56.663363Z",
     "start_time": "2025-07-05T20:00:49.805124Z"
    }
   },
   "cell_type": "code",
   "source": [
    "from transformers import AutoModelForCausalLM, AutoTokenizer, pipeline\n",
    "\n",
    "falcon_model_name = \"tiiuae/falcon-rw-1b\"\n",
    "falcon_tokenizer = AutoTokenizer.from_pretrained(falcon_model_name)\n",
    "falcon_model = AutoModelForCausalLM.from_pretrained(falcon_model_name, trust_remote_code=True, device_map=\"auto\")\n",
    "falcon_pipeline = pipeline(\"text-generation\", model=falcon_model, tokenizer=falcon_tokenizer)\n",
    "\n"
   ],
   "id": "ba70c5b0ea9e58dc",
   "outputs": [
    {
     "name": "stderr",
     "output_type": "stream",
     "text": [
      "Device set to use cuda:0\n"
     ]
    }
   ],
   "execution_count": 11
  },
  {
   "metadata": {
    "ExecuteTime": {
     "end_time": "2025-07-05T20:00:59.637486Z",
     "start_time": "2025-07-05T20:00:59.629468Z"
    }
   },
   "cell_type": "code",
   "source": [
    "def rag_query(query, top_k=5, max_new_tokens=256):\n",
    "    retrieved_docs = retrieve_documents(query, top_k=top_k)\n",
    "    context = \"\\n\\n\".join([doc['text'] for doc in retrieved_docs])\n",
    "\n",
    "    prompt = f\"Context:\\n{context}\\n\\nQuestion: {query}\\nAnswer:\"\n",
    "    result = falcon_pipeline(prompt, max_new_tokens=max_new_tokens, do_sample=True)\n",
    "\n",
    "    answer = result[0]['generated_text'][len(prompt):].strip()\n",
    "    return answer\n"
   ],
   "id": "c6df4a32ec5e2386",
   "outputs": [],
   "execution_count": 12
  },
  {
   "metadata": {
    "ExecuteTime": {
     "end_time": "2025-07-05T20:01:51.613224Z",
     "start_time": "2025-07-05T20:01:12.215228Z"
    }
   },
   "cell_type": "code",
   "source": [
    "query = \"Eligibility for Double Major\"\n",
    "answer = rag_query(query)\n",
    "print(\"Answer:\\n\", answer)\n"
   ],
   "id": "8cb07471b7222ac3",
   "outputs": [
    {
     "name": "stderr",
     "output_type": "stream",
     "text": [
      "Token indices sequence length is longer than the specified maximum sequence length for this model (1177 > 1024). Running this sequence through the model will result in indexing errors\n",
      "Setting `pad_token_id` to `eos_token_id`:2 for open-end generation.\n"
     ]
    },
    {
     "name": "stdout",
     "output_type": "stream",
     "text": [
      "Answer:\n",
      " Double Major is not allowed in any course.\n",
      "10.3.4 Withdrawal from a Minor………………………………………………………. ……………………………… 27 \n",
      "i.\n",
      "Withdrawal from a Minor is allowed ONLY if the student is already enrolled in the Minor / Minor Major programme. \n",
      "ii.\n",
      "Students opting for a Retrospective Minor will not be allowed to do a Double Major and vice versa.\n",
      "iii.\n",
      "Students opting for a Retrospective Minor will not be allowed to do a Double Major. \n",
      "iv.\n",
      "A student may apply for a Retrospective Minor at any time, provided that she / he has completed the Minor / Minor\n",
      "Major programme and is allowed to do a Double Major (i.e. a Minor and a Double Major programme can be done only once, per\n",
      "graduate student).  \n",
      "i.\n",
      "The student will be required to submit the application form for a Minor / Retrospective Minor and the required fees. \n",
      "ii.\n",
      "Students opting for Retrospective Minor will not be allowed to do a Double Major. \n",
      "iii.\n",
      "Retrospective Minor is subject to the eligibility criteria as per the parent department for Double Major and is not\n",
      "subject to any other eligibility criteria. \n",
      "iv.\n"
     ]
    }
   ],
   "execution_count": 13
  },
  {
   "metadata": {
    "ExecuteTime": {
     "end_time": "2025-07-05T19:30:51.285177Z",
     "start_time": "2025-07-05T19:30:51.281286Z"
    }
   },
   "cell_type": "code",
   "source": [
    "import pickle\n",
    "\n",
    "# Save FAISS index\n",
    "faiss.write_index(index, \"faiss_index.bin\")\n",
    "\n",
    "# Save the final corpus\n",
    "with open(\"final_corpus.pkl\", \"wb\") as f:\n",
    "    pickle.dump(final_corpus, f)\n"
   ],
   "id": "3526050d70d5690d",
   "outputs": [],
   "execution_count": 45
  },
  {
   "metadata": {},
   "cell_type": "code",
   "outputs": [],
   "execution_count": null,
   "source": "",
   "id": "cb4f92545ec34ef3"
  }
 ],
 "metadata": {
  "kernelspec": {
   "display_name": "Python 3",
   "language": "python",
   "name": "python3"
  },
  "language_info": {
   "codemirror_mode": {
    "name": "ipython",
    "version": 2
   },
   "file_extension": ".py",
   "mimetype": "text/x-python",
   "name": "python",
   "nbconvert_exporter": "python",
   "pygments_lexer": "ipython2",
   "version": "2.7.6"
  }
 },
 "nbformat": 4,
 "nbformat_minor": 5
}
